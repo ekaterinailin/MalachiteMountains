{
 "cells": [
  {
   "cell_type": "code",
   "execution_count": 1,
   "metadata": {},
   "outputs": [
    {
     "name": "stderr",
     "output_type": "stream",
     "text": [
      "/home/ekaterina/Documents/000_envs/forallpurposes/lib/python3.6/importlib/_bootstrap.py:219: RuntimeWarning: numpy.ufunc size changed, may indicate binary incompatibility. Expected 192 from C header, got 216 from PyObject\n",
      "  return f(*args, **kwds)\n",
      "NumExpr defaulting to 8 threads.\n"
     ]
    }
   ],
   "source": [
    "import numpy as np\n",
    "import pandas as pd\n",
    "\n",
    "import matplotlib.pyplot as plt\n",
    "%matplotlib inline\n",
    "\n",
    "from altaipony.fakeflares import aflare\n",
    "\n",
    "import os\n",
    "CWD = \"/\".join(os.getcwd().split(\"/\")[:-2])\n",
    "\n",
    "import pytest\n",
    "\n",
    "from funcs.model import daylength, on_off, lambert, great_circle_distance, dot_ensemble_circular, full_model\n",
    "from funcs.helper import no_nan_inf\n",
    "import matplotlib \n",
    "matplotlib.rc('xtick', labelsize=14) \n",
    "matplotlib.rc('ytick', labelsize=14) \n",
    "\n",
    "\n",
    "import astropy.units as u\n",
    "from astropy.constants import R_sun"
   ]
  },
  {
   "cell_type": "markdown",
   "metadata": {},
   "source": [
    "### Plots "
   ]
  },
  {
   "cell_type": "code",
   "execution_count": 2,
   "metadata": {
    "scrolled": false
   },
   "outputs": [
    {
     "data": {
      "text/plain": [
       "Text(0, 0.5, 'latitude [deg]')"
      ]
     },
     "execution_count": 2,
     "metadata": {},
     "output_type": "execute_result"
    }
   ],
   "source": [
    "# plot a grid\n",
    "\n",
    "#latitudes, longitudes = dot_ensemble(np.pi/2-np.pi/8,np.pi/2-np.pi/10,4,num_pts=1e6)\n",
    "latitudes, longitudes, pos = dot_ensemble_circular(25/180*np.pi,np.pi/2-np.pi/8,3,num_pts=300)\n",
    "plt.figure(figsize=(8,8))\n",
    "plt.scatter(longitudes/np.pi*180, latitudes/np.pi*180)\n",
    "#plt.scatter([180/2-180/10],[180/2-180/8],)\n",
    "plt.xlabel(\"longitude [deg]\")\n",
    "plt.ylabel(\"latitude [deg]\")\n",
    "#plt.savefig(f\"{CWD}/analysis/plots/model/dot_ensemble.png\",dpi=300)"
   ]
  },
  {
   "cell_type": "code",
   "execution_count": null,
   "metadata": {},
   "outputs": [],
   "source": [
    "# Plot a model consisting of an ensemble of rotating flaring points on a sphere\n",
    "\n",
    "I = 65.5 * np.pi / 180.\n",
    "phi = np.linspace(-2*np.pi,4*np.pi,2000)\n",
    "ampl = 20\n",
    "fwhm = 3.\n",
    "flare = aflare(phi, 2.9, fwhm, ampl,)\n",
    "\n",
    "lamb, onoff, m = model(phi, latitudes, -longitudes, flare, I)"
   ]
  },
  {
   "cell_type": "code",
   "execution_count": null,
   "metadata": {},
   "outputs": [],
   "source": [
    "plt.figure(figsize=(10,4))\n",
    "for l,oo in zip(lamb,onoff):\n",
    "    plt.plot(phi/2/np.pi, l*oo*flare+1, alpha=.1, c=\"grey\")\n",
    "plt.plot(phi/2/np.pi,m+1,c=\"k\",linewidth=4, label=\"model light curve\")#,\\naverage of individual\\ngrid dots (in grey)\")\n",
    "plt.plot(phi/2/np.pi,flare+1, label=\"underlying flare\",c=\"r\",linestyle=\"dashed\",linewidth=4)\n",
    "plt.xlabel(\"time [rotation periods]\",fontsize=20)\n",
    "plt.ylabel(\"rel. flux\",fontsize=20)\n",
    "plt.xlim(0,3)\n",
    "plt.legend(fontsize=20)\n",
    "#plt.yscale(\"log\")\n",
    "plt.tight_layout()\n",
    "#plt.title(f\"Flare with rel. amplitude={ampl}, and FWHM={fwhm} rotation periods\",fontsize=20)\n",
    "#plt.savefig(f\"{CWD}/analysis/plots/model/rotating_flaring_ensemble_lightcurve.png\",dpi=300);\n"
   ]
  },
  {
   "cell_type": "code",
   "execution_count": null,
   "metadata": {},
   "outputs": [],
   "source": [
    "# create a heatmap of an ensemble of rotating flaring points on a sphere (need the cell above)\n",
    "from matplotlib.colors import LogNorm\n",
    "plt.figure(figsize=(15,10))\n",
    "plt.imshow((lamb*onoff*flare)[:,:], norm=LogNorm(),aspect=\"auto\")\n",
    "plt.colorbar(label=\"flux\")\n",
    "plt.xlabel(\"time\",fontsize=15)\n",
    "plt.ylabel(\"index of grid dot\",fontsize=15)\n",
    "#plt.savefig(f\"{CWD}/analysis/plots/model/rotating_flaring_ensemble_heatmap.png\",dpi=300)"
   ]
  },
  {
   "cell_type": "code",
   "execution_count": null,
   "metadata": {},
   "outputs": [],
   "source": [
    "# 10% percent area spot on the stellar surface\n",
    "percent = 10\n",
    "num_pts=1e4\n",
    "indices = np.arange(0, num_pts, dtype=float) + 0.5\n",
    "\n",
    "phi = np.arccos(1 - 2*indices/num_pts) #latitude\n",
    "theta = np.pi * (1 + 5**0.5) * indices  #longitude\n",
    "\n",
    "a = np.where(great_circle_distance(np.pi/3,- np.pi/4, np.pi/2 - phi%(2*np.pi), theta%(np.pi*2))<(percent/180*np.pi))[0]\n",
    "phi2 = phi[a]\n",
    "theta2 = theta[a]\n",
    "\n",
    "x, y, z = np.cos(theta) * np.sin(phi), np.sin(theta) * np.sin(phi), np.cos(phi);\n",
    "x2, y2, z2 = np.cos(theta2) * np.sin(phi2), np.sin(theta2) * np.sin(phi2), np.cos(phi2);\n",
    "ax = plt.figure(figsize=(10,10)).add_subplot(111, projection='3d')\n",
    "ax.scatter(x, y, z, s=.1);\n",
    "ax.scatter(x2, y2, z2, s=3.5, c=\"k\");\n",
    "#plt.savefig(f\"{CWD}/analysis/plots/model/10percent_spot_on_a_sphere.png\",dpi=300)"
   ]
  },
  {
   "cell_type": "code",
   "execution_count": null,
   "metadata": {},
   "outputs": [],
   "source": [
    "# plot a rotaionally modulated dot-flare\n",
    "flare = aflare(phi, 1.5, 1.3, 1,)\n",
    "plt.figure(figsize=(8,16))\n",
    "l = 80/180*np.pi\n",
    "I = np.arange(30,91,10)/180*np.pi\n",
    "for i in I:\n",
    "    D = daylength(l,i)\n",
    "    modulation = lambert(phi,i,l)\n",
    "    #plt.plot(phi/2/np.pi,modulation*on_off(D,phi),label=f\"i={i/np.pi*180:.0f}\" + r\"$^{\\circ}$\")\n",
    "    plt.plot(phi/2/np.pi,modulation*on_off(phi,D)*flare + i,label=f\"i={i/np.pi*180:.0f}\" + r\"$^{\\circ}$\",\n",
    "            linewidth=2,)\n",
    "    plt.plot(phi/2/np.pi,flare + i,c=\"grey\",linestyle=\"dotted\")\n",
    "plt.title(r\"bright flaring dot at latitude 80$^{\\circ}$ \",fontsize=15)\n",
    "plt.xlabel(\"time [rotation periods]\",fontsize=15)\n",
    "plt.ylabel(\"flux\",fontsize=15)\n",
    "plt.legend(loc=(1.1,0),fontsize=15)\n",
    "plt.xlim(0,3)\n",
    "plt.tight_layout()\n",
    "#plt.savefig(f\"{CWD}/analysis/plots/model/rotating_bright_dot_flare.png\",dpi=300)"
   ]
  },
  {
   "cell_type": "code",
   "execution_count": null,
   "metadata": {},
   "outputs": [],
   "source": [
    "# plot visibility as a function of day time\n",
    "plt.figure(figsize=(12,4))\n",
    "phi = np.linspace(0,6*np.pi,500) #(longitude)\n",
    "daylengths = np.arange(.1,.91,.2)\n",
    "for d in daylengths:\n",
    "    plt.plot(phi/2/np.pi, on_off(phi,d), linewidth=d*2,c=\"k\", label=f\"day length / Prot={d:.1f}\")\n",
    "plt.legend(loc=(1.05,0))\n",
    "plt.xlabel(\"time [days]\")\n",
    "plt.ylabel(\"visibility\")\n",
    "plt.tight_layout()\n",
    "#plt.savefig(f\"{CWD}/analysis/plots/model/visibility_vs_day.png\",dpi=300)"
   ]
  },
  {
   "cell_type": "code",
   "execution_count": null,
   "metadata": {},
   "outputs": [],
   "source": [
    "# Plot daylengths:\n",
    "\n",
    "I = np.linspace(0,np.pi/2,10)\n",
    "L = np.linspace(-np.pi/2,np.pi/2, 500)[::-1]\n",
    "plt.figure(figsize=(10,6))\n",
    "\n",
    "    \n",
    "for i in I:\n",
    "    dl = []\n",
    "    for l in L:\n",
    "        dl.append(daylength(l,i))\n",
    "    plt.plot(L/np.pi*180,dl,label=f\"i={i/np.pi*180:.1f}\")\n",
    "plt.xlabel(\"latitude \",fontsize=15)\n",
    "plt.ylabel(\"daylength\",fontsize=15)\n",
    "plt.ylim(-.1,1.1)\n",
    "plt.xlim(-90,90)\n",
    "plt.legend(loc=(1.1,0),fontsize=15)\n",
    "plt.tight_layout()\n",
    "#plt.savefig(f\"{CWD}/analysis/plots/model/daylength.png\",dpi=300)"
   ]
  },
  {
   "cell_type": "code",
   "execution_count": 24,
   "metadata": {},
   "outputs": [
    {
     "data": {
      "text/html": [
       "<div>\n",
       "<style scoped>\n",
       "    .dataframe tbody tr th:only-of-type {\n",
       "        vertical-align: middle;\n",
       "    }\n",
       "\n",
       "    .dataframe tbody tr th {\n",
       "        vertical-align: top;\n",
       "    }\n",
       "\n",
       "    .dataframe thead th {\n",
       "        text-align: right;\n",
       "    }\n",
       "</style>\n",
       "<table border=\"1\" class=\"dataframe\">\n",
       "  <thead>\n",
       "    <tr style=\"text-align: right;\">\n",
       "      <th></th>\n",
       "      <th>ID</th>\n",
       "      <th>QCS</th>\n",
       "      <th>typ</th>\n",
       "      <th>cadence_min</th>\n",
       "      <th>mission</th>\n",
       "      <th>prefix</th>\n",
       "      <th>origin</th>\n",
       "      <th>h_mission</th>\n",
       "      <th>SpT</th>\n",
       "      <th>view_start</th>\n",
       "      <th>...</th>\n",
       "      <th>tlumerr</th>\n",
       "      <th>kflux</th>\n",
       "      <th>kfluxerr</th>\n",
       "      <th>klum</th>\n",
       "      <th>klumerr</th>\n",
       "      <th>gmag</th>\n",
       "      <th>jmag</th>\n",
       "      <th>kmag</th>\n",
       "      <th>i_mu</th>\n",
       "      <th>i_sigma</th>\n",
       "    </tr>\n",
       "  </thead>\n",
       "  <tbody>\n",
       "    <tr>\n",
       "      <th>0</th>\n",
       "      <td>100004076</td>\n",
       "      <td>14</td>\n",
       "      <td>slc</td>\n",
       "      <td>1</td>\n",
       "      <td>kep</td>\n",
       "      <td>KIC</td>\n",
       "      <td>generic</td>\n",
       "      <td>Kepler</td>\n",
       "      <td>L1</td>\n",
       "      <td>1356.50</td>\n",
       "      <td>...</td>\n",
       "      <td>6.553810e+27</td>\n",
       "      <td>6.712990e-13</td>\n",
       "      <td>4.272880e-14</td>\n",
       "      <td>2.263849e+28</td>\n",
       "      <td>1.444680e+27</td>\n",
       "      <td>17.8356</td>\n",
       "      <td>13.078</td>\n",
       "      <td>11.771</td>\n",
       "      <td>1.002233</td>\n",
       "      <td>0.113213</td>\n",
       "    </tr>\n",
       "    <tr>\n",
       "      <th>1</th>\n",
       "      <td>237880881</td>\n",
       "      <td>1</td>\n",
       "      <td>slc</td>\n",
       "      <td>2</td>\n",
       "      <td>tess</td>\n",
       "      <td>TIC</td>\n",
       "      <td>generic</td>\n",
       "      <td>TESS</td>\n",
       "      <td>M5</td>\n",
       "      <td>1331.00</td>\n",
       "      <td>...</td>\n",
       "      <td>5.645140e+29</td>\n",
       "      <td>1.272670e-11</td>\n",
       "      <td>6.844750e-13</td>\n",
       "      <td>3.232358e+30</td>\n",
       "      <td>1.750110e+29</td>\n",
       "      <td>14.9796</td>\n",
       "      <td>11.530</td>\n",
       "      <td>10.636</td>\n",
       "      <td>0.371856</td>\n",
       "      <td>0.040246</td>\n",
       "    </tr>\n",
       "    <tr>\n",
       "      <th>2</th>\n",
       "      <td>44984200</td>\n",
       "      <td>10</td>\n",
       "      <td>slc</td>\n",
       "      <td>2</td>\n",
       "      <td>tess</td>\n",
       "      <td>TIC</td>\n",
       "      <td>custom</td>\n",
       "      <td>TESS</td>\n",
       "      <td>M6</td>\n",
       "      <td>1587.25</td>\n",
       "      <td>...</td>\n",
       "      <td>6.480260e+28</td>\n",
       "      <td>2.018160e-11</td>\n",
       "      <td>1.412120e-12</td>\n",
       "      <td>2.979395e+29</td>\n",
       "      <td>2.089910e+28</td>\n",
       "      <td>14.4115</td>\n",
       "      <td>10.309</td>\n",
       "      <td>9.268</td>\n",
       "      <td>0.578452</td>\n",
       "      <td>0.028256</td>\n",
       "    </tr>\n",
       "    <tr>\n",
       "      <th>3</th>\n",
       "      <td>277539431</td>\n",
       "      <td>12</td>\n",
       "      <td>slc</td>\n",
       "      <td>2</td>\n",
       "      <td>tess</td>\n",
       "      <td>TIC</td>\n",
       "      <td>custom</td>\n",
       "      <td>TESS</td>\n",
       "      <td>M7</td>\n",
       "      <td>1641.00</td>\n",
       "      <td>...</td>\n",
       "      <td>1.051740e+29</td>\n",
       "      <td>1.380730e-11</td>\n",
       "      <td>1.517240e-12</td>\n",
       "      <td>3.103479e+29</td>\n",
       "      <td>3.444490e+28</td>\n",
       "      <td>14.7381</td>\n",
       "      <td>10.630</td>\n",
       "      <td>9.666</td>\n",
       "      <td>1.520214</td>\n",
       "      <td>0.041615</td>\n",
       "    </tr>\n",
       "    <tr>\n",
       "      <th>4</th>\n",
       "      <td>230120143</td>\n",
       "      <td>16</td>\n",
       "      <td>slc</td>\n",
       "      <td>2</td>\n",
       "      <td>tess</td>\n",
       "      <td>TIC</td>\n",
       "      <td>generic</td>\n",
       "      <td>TESS</td>\n",
       "      <td>M7</td>\n",
       "      <td>1741.00</td>\n",
       "      <td>...</td>\n",
       "      <td>3.430260e+29</td>\n",
       "      <td>4.102720e-11</td>\n",
       "      <td>4.508350e-12</td>\n",
       "      <td>1.023014e+30</td>\n",
       "      <td>1.126940e+29</td>\n",
       "      <td>13.5557</td>\n",
       "      <td>9.854</td>\n",
       "      <td>8.950</td>\n",
       "      <td>0.419312</td>\n",
       "      <td>0.017265</td>\n",
       "    </tr>\n",
       "  </tbody>\n",
       "</table>\n",
       "<p>5 rows × 54 columns</p>\n",
       "</div>"
      ],
      "text/plain": [
       "          ID  QCS  typ  cadence_min mission prefix   origin h_mission SpT  \\\n",
       "0  100004076   14  slc            1     kep    KIC  generic    Kepler  L1   \n",
       "1  237880881    1  slc            2    tess    TIC  generic      TESS  M5   \n",
       "2   44984200   10  slc            2    tess    TIC   custom      TESS  M6   \n",
       "3  277539431   12  slc            2    tess    TIC   custom      TESS  M7   \n",
       "4  230120143   16  slc            2    tess    TIC  generic      TESS  M7   \n",
       "\n",
       "   view_start  ...       tlumerr         kflux      kfluxerr          klum  \\\n",
       "0     1356.50  ...  6.553810e+27  6.712990e-13  4.272880e-14  2.263849e+28   \n",
       "1     1331.00  ...  5.645140e+29  1.272670e-11  6.844750e-13  3.232358e+30   \n",
       "2     1587.25  ...  6.480260e+28  2.018160e-11  1.412120e-12  2.979395e+29   \n",
       "3     1641.00  ...  1.051740e+29  1.380730e-11  1.517240e-12  3.103479e+29   \n",
       "4     1741.00  ...  3.430260e+29  4.102720e-11  4.508350e-12  1.023014e+30   \n",
       "\n",
       "        klumerr     gmag    jmag    kmag      i_mu   i_sigma  \n",
       "0  1.444680e+27  17.8356  13.078  11.771  1.002233  0.113213  \n",
       "1  1.750110e+29  14.9796  11.530  10.636  0.371856  0.040246  \n",
       "2  2.089910e+28  14.4115  10.309   9.268  0.578452  0.028256  \n",
       "3  3.444490e+28  14.7381  10.630   9.666  1.520214  0.041615  \n",
       "4  1.126940e+29  13.5557   9.854   8.950  0.419312  0.017265  \n",
       "\n",
       "[5 rows x 54 columns]"
      ]
     },
     "execution_count": 24,
     "metadata": {},
     "output_type": "execute_result"
    }
   ],
   "source": [
    "df = pd.read_csv(\"/home/ekaterina/Documents/001_science/MalachiteMountains/data/summary/lcsi.csv\")\n",
    "inits = pd.read_csv(\"/home/ekaterina/Documents/001_science/MalachiteMountains/data/summary/inits.csv\")\n",
    "df"
   ]
  },
  {
   "cell_type": "code",
   "execution_count": 25,
   "metadata": {
    "scrolled": false
   },
   "outputs": [
    {
     "name": "stderr",
     "output_type": "stream",
     "text": [
      "/home/ekaterina/Documents/000_envs/forallpurposes/lib/python3.6/site-packages/ipykernel_launcher.py:20: RuntimeWarning: More than 20 figures have been opened. Figures created through the pyplot interface (`matplotlib.pyplot.figure`) are retained until explicitly closed and may consume too much memory. (To control this warning, see the rcParam `figure.max_open_warning`).\n"
     ]
    }
   ],
   "source": [
    "for index in [3]:#range(5):\n",
    "    row = df.loc[index,]\n",
    "\n",
    "    I = row.i_mu\n",
    "    ID = int(row.ID)#80 * np.pi / 180.\n",
    "\n",
    "\n",
    "    valinits = inits[inits.ID ==str(ID)].iloc[-1]\n",
    "    Fth = valinits.Fth\n",
    "    R = valinits.R_Rsun * R_sun\n",
    "    qlum = valinits.qlum_erg_s\n",
    "\n",
    "\n",
    "    phi = np.linspace(0,6*np.pi,200)\n",
    "    ampl = 1\n",
    "    fwhm = 3\n",
    "    theta = 70 * np.pi / 180.\n",
    "    phi_a = np.pi\n",
    "    n = 5\n",
    "    fig, axes = plt.subplots(nrows=n,ncols=n, figsize=(10,10),)\n",
    "    AX = [x for ax in axes for x in ax]\n",
    "    for x, theta in zip(range(n),np.linspace(-I+.1,np.pi/2-.1,n)):\n",
    "        for y, phi0 in zip(range(n),np.linspace(0,2*np.pi,n)):\n",
    "            m = full_model(phi_a, theta, ampl, fwhm, I, phi0=phi0,\n",
    "                          phi=phi, num_pts=100, qlum=qlum*u.erg/u.s,\n",
    "                          Fth=Fth*u.erg/u.s/(u.cm**2), R=R, median=n)\n",
    "            AX[n*x + y].plot(phi, m,)\n",
    "            AX[n*x + y].set_xticks([])\n",
    "            AX[n*(n-1) + y].set_xticks([5,10,15])\n",
    "            AX[n*x + y].set_yticks([])\n",
    "            AX[n*x + 0].set_yticks([5,10])\n",
    "            AX[n*x + y].text(0.31, 0.75, fr\"$\\theta_f={theta/np.pi*180:.0f}^\\circ$\" + \"\\n\" + fr\"$\\phi_0={phi0/np.pi*.5:.2f}$\",\n",
    "                verticalalignment='bottom', horizontalalignment='left',\n",
    "                transform=AX[n*x + y].transAxes,\n",
    "                color='green', fontsize=12)\n",
    "            AX[n*x + y].set_ylim(.9*n,2.1*n)\n",
    "            AX[n*x + y].set_xlim(phi[0],phi[-1])\n",
    "    plt.tight_layout()\n",
    "    #AX[4] = plt.text\n",
    "    plt.subplots_adjust(left=None, bottom=None, right=None, top=None, wspace=.0, hspace=.0)\n",
    "    plt.savefig(f\"/home/ekaterina/Documents/001_science/MalachiteMountains/analysis/plots/model/\"\n",
    "                f\"{ID}_{I/np.pi*180:.0f}_deg_latitude_flare_compilation_{n}.png\", dpi=300)"
   ]
  },
  {
   "cell_type": "code",
   "execution_count": 26,
   "metadata": {},
   "outputs": [
    {
     "name": "stderr",
     "output_type": "stream",
     "text": [
      "<>:28: DeprecationWarning: invalid escape sequence \\c\n",
      "<>:28: DeprecationWarning: invalid escape sequence \\c\n",
      "<>:28: DeprecationWarning: invalid escape sequence \\c\n",
      "<ipython-input-26-2ac3232346b1>:28: DeprecationWarning: invalid escape sequence \\c\n",
      "  plt.scatter(d.theta/np.pi*180, (d.maxamp-10)/10., s=50, alpha=.3, label=f\"$i = {I/np.pi*180:.0f}^\\circ$\")\n",
      "/home/ekaterina/Documents/000_envs/forallpurposes/lib/python3.6/site-packages/ipykernel_launcher.py:22: FutureWarning: arrays to stack must be passed as a \"sequence\" type such as list or tuple. Support for non-sequence iterables such as generators is deprecated as of NumPy 1.16 and will raise an error in the future.\n",
      "/home/ekaterina/Documents/000_envs/forallpurposes/lib/python3.6/site-packages/ipykernel_launcher.py:27: RuntimeWarning: More than 20 figures have been opened. Figures created through the pyplot interface (`matplotlib.pyplot.figure`) are retained until explicitly closed and may consume too much memory. (To control this warning, see the rcParam `figure.max_open_warning`).\n"
     ]
    }
   ],
   "source": [
    "for index in range(5):\n",
    "    row = df.loc[index,]\n",
    "\n",
    "    I = row.i_mu\n",
    "    ID = int(row.ID)#80 * np.pi / 180.\n",
    "\n",
    "\n",
    "    valinits = inits[inits.ID ==str(ID)].iloc[-1]\n",
    "    Fth = valinits.Fth\n",
    "    R = valinits.R_Rsun * R_sun\n",
    "    qlum = valinits.qlum_erg_s\n",
    "\n",
    "\n",
    "    phi = np.linspace(0,6*np.pi,200)\n",
    "    ampl = 1\n",
    "    fwhm = 3\n",
    "    theta = 70 * np.pi / 180.\n",
    "    phi_a = np.pi\n",
    "    s = 20\n",
    "    Theta, Phi0, Maxamp = np.full(s**2,0),np.full(s**2,0),np.full(s**2,0)\n",
    "    theta_phi0 = np.meshgrid(np.linspace(-I,np.pi/2,s),np.linspace(0,2*np.pi,s))\n",
    "    positions = np.vstack(map(np.ravel, theta_phi0))\n",
    "    L = np.array(list(map(lambda x: np.max(full_model(phi_a, x[0], ampl, fwhm, I, phi0=x[1],\n",
    "                              phi=phi, num_pts=100, qlum=qlum*u.erg/u.s,\n",
    "                              Fth=Fth*u.erg/u.s/(u.cm**2), R=R, median=10)),positions.T)))\n",
    "    d = pd.DataFrame({\"theta\":positions[0],\"phi0\":positions[1],\"maxamp\":L,})\n",
    "    plt.figure(figsize=(8,6))\n",
    "    plt.scatter(d.theta/np.pi*180, (d.maxamp-10)/10., s=50, alpha=.3, label=f\"$i = {I/np.pi*180:.0f}^\\circ$\")\n",
    "    plt.xlim(-90, 90)#I/np.pi*180\n",
    "    plt.ylim(0,1)\n",
    "    plt.xlabel(r\"$\\theta_f$ [deg]\", fontsize=14)\n",
    "    plt.ylabel(r\"$a$\", fontsize=14)\n",
    "    plt.tight_layout()\n",
    "    plt.legend(loc=2, frameon=False)\n",
    "    plt.savefig(f\"/home/ekaterina/Documents/001_science/MalachiteMountains/analysis/plots/model/\"\n",
    "                f\"{ID}_{I/np.pi*180:.0f}_deg_latitude_flare_compilation_scatter.png\", dpi=300)\n",
    "    plt.close()"
   ]
  },
  {
   "cell_type": "code",
   "execution_count": 32,
   "metadata": {},
   "outputs": [
    {
     "name": "stderr",
     "output_type": "stream",
     "text": [
      "<>:33: DeprecationWarning: invalid escape sequence \\c\n",
      "<>:35: DeprecationWarning: invalid escape sequence \\c\n",
      "<>:33: DeprecationWarning: invalid escape sequence \\c\n",
      "<>:35: DeprecationWarning: invalid escape sequence \\c\n",
      "<>:33: DeprecationWarning: invalid escape sequence \\c\n",
      "<>:35: DeprecationWarning: invalid escape sequence \\c\n",
      "<ipython-input-32-925819faa8fe>:33: DeprecationWarning: invalid escape sequence \\c\n",
      "  label=f\" prim. max. at $i ={I/np.pi*180:.0f}^\\circ$\", c=\"r\")\n",
      "<ipython-input-32-925819faa8fe>:35: DeprecationWarning: invalid escape sequence \\c\n",
      "  label=f\"sec. max at $i ={I/np.pi*180:.0f}^\\circ$\", c=\"b\")\n",
      "/home/ekaterina/Documents/000_envs/forallpurposes/lib/python3.6/site-packages/ipykernel_launcher.py:30: RuntimeWarning: More than 20 figures have been opened. Figures created through the pyplot interface (`matplotlib.pyplot.figure`) are retained until explicitly closed and may consume too much memory. (To control this warning, see the rcParam `figure.max_open_warning`).\n"
     ]
    }
   ],
   "source": [
    "for index in range(5):\n",
    "    row = df.loc[index,]\n",
    "\n",
    "    I = row.i_mu\n",
    "    ID = int(row.ID)#80 * np.pi / 180.\n",
    "\n",
    "\n",
    "    valinits = inits[inits.ID ==str(ID)].iloc[-1]\n",
    "    Fth = valinits.Fth\n",
    "    R = valinits.R_Rsun * R_sun\n",
    "    qlum = valinits.qlum_erg_s\n",
    "\n",
    "\n",
    "    phi = np.linspace(0,6*np.pi,200)\n",
    "    ampl = 1\n",
    "    fwhm = 3\n",
    "    theta = 70 * np.pi / 180.\n",
    "    phi_a = np.pi\n",
    "    s = 30\n",
    "    Theta, Phi0, Maxamp = np.full(s**2,0),np.full(s**2,0),np.full(s**2,0)\n",
    "    thetagrid = np.random.rand(s**2)*(np.pi/2 + I) - I\n",
    "    phigrid = np.random.rand(s**2)*2*np.pi/2\n",
    "    positions = np.array([thetagrid,phigrid])\n",
    "\n",
    "    secL = np.array(list(map(lambda x: func(x),positions.T)))\n",
    "    primL = np.array(list(map(lambda x: np.max(full_model(phi_a, x[0], ampl, fwhm, I, phi0=x[1],\n",
    "                              phi=phi, num_pts=100, qlum=qlum*u.erg/u.s,\n",
    "                              Fth=Fth*u.erg/u.s/(u.cm**2), R=R, median=10)),positions.T)))\n",
    "    d = pd.DataFrame({\"theta\":positions[0],\"phi0\":positions[1],\"maxamp\":primL,\"secondmax\":secL})\n",
    "    fig, ax = plt.subplots(nrows=1, ncols=1,figsize=(6,6))\n",
    "\n",
    "    plt.scatter(d.theta/np.pi*180, (d.maxamp-10)/10., s=50, alpha=.3,\n",
    "                label=f\" prim. max. at $i ={I/np.pi*180:.0f}^\\circ$\", c=\"r\")\n",
    "    plt.scatter(d.theta/np.pi*180, (d.secondmax-10)/10., s=50, alpha=.3,\n",
    "                label=f\"sec. max at $i ={I/np.pi*180:.0f}^\\circ$\", c=\"b\")\n",
    "#     plt.scatter(d.theta/np.pi*180, (d.secondmax-10)/(d.maxamp-10), s=50, alpha=.3,\n",
    "#             label=f\"sec./prim. max at $i ={I/np.pi*180:.0f}^\\circ$\", c=\"b\")\n",
    "    plt.xlim(-90, 90)#I/np.pi*180\n",
    "    plt.ylim(0,1)\n",
    "    plt.xlabel(r\"$\\theta_f$ [deg]\", fontsize=14)\n",
    "    plt.ylabel(r\"$a$\", fontsize=14)\n",
    "    plt.tight_layout()\n",
    "    plt.legend(loc=2, frameon=False)\n",
    "    plt.savefig(f\"/home/ekaterina/Documents/001_science/MalachiteMountains/analysis/plots/model/\"\n",
    "                f\"{ID}_{I/np.pi*180:.0f}_deg_latitude_flare_compilation_scatter_2.png\", dpi=300)\n",
    "    plt.close()"
   ]
  },
  {
   "cell_type": "code",
   "execution_count": 28,
   "metadata": {},
   "outputs": [],
   "source": [
    "def func(x):\n",
    "    m = full_model(phi_a, x[0], ampl, fwhm, I, phi0=x[1],\n",
    "                              phi=phi, num_pts=100, qlum=qlum*u.erg/u.s,\n",
    "                              Fth=Fth*u.erg/u.s/(u.cm**2), R=R, median=10)\n",
    "    peaks = find_peaks(m)[0]\n",
    "    if len(peaks) > 1:\n",
    "        return np.sort(m[peaks])[-2]\n",
    "    else: \n",
    "        return 10"
   ]
  },
  {
   "cell_type": "code",
   "execution_count": 30,
   "metadata": {},
   "outputs": [],
   "source": [
    "from scipy.signal import find_peaks\n",
    "import seaborn as sns"
   ]
  },
  {
   "cell_type": "code",
   "execution_count": 77,
   "metadata": {},
   "outputs": [],
   "source": [
    "dindex = {}\n",
    "\n",
    "for index in [1,3]:\n",
    "    row = df.loc[index,]\n",
    "\n",
    "    I = row.i_mu\n",
    "    ID = int(row.ID)#80 * np.pi / 180.\n",
    "\n",
    "\n",
    "    valinits = inits[inits.ID ==str(ID)].iloc[-1]\n",
    "    Fth = valinits.Fth\n",
    "    R = valinits.R_Rsun * R_sun\n",
    "    qlum = valinits.qlum_erg_s\n",
    "\n",
    "\n",
    "    phi = np.linspace(0,6*np.pi,200)\n",
    "    ampl = 1\n",
    "    fwhm = 3\n",
    "    theta = 70 * np.pi / 180.\n",
    "    phi_a = np.pi\n",
    "    s = 30\n",
    "    Theta, Phi0, Maxamp = np.full(s**2,0),np.full(s**2,0),np.full(s**2,0)\n",
    "    thetagrid = np.random.rand(s**2)*(np.pi/2 + I) - I\n",
    "    phigrid = np.random.rand(s**2)*2*np.pi/2\n",
    "    positions = np.array([thetagrid,phigrid])\n",
    "\n",
    "    secL = np.array(list(map(lambda x: func(x)-10,positions.T)))\n",
    "    primL = np.array(list(map(lambda x: np.max(full_model(phi_a, x[0], ampl, fwhm, I, phi0=x[1],\n",
    "                              phi=phi, num_pts=100, qlum=qlum*u.erg/u.s,\n",
    "                              Fth=Fth*u.erg/u.s/(u.cm**2), R=R, median=10))-10,positions.T)))\n",
    "    d = pd.DataFrame({\"theta\":positions[0],\"phi0\":positions[1],\"maxamp\":primL,\"secondmax\":secL})\n",
    "    d[\"detectability_1\"] = d.maxamp/10 + d.secondmax/10 + d.secondmax/d.maxamp *10\n",
    "    d[\"detectability_2\"] = d.maxamp/10 + d.secondmax/10\n",
    "    dindex[ID] = d"
   ]
  },
  {
   "cell_type": "code",
   "execution_count": 78,
   "metadata": {},
   "outputs": [
    {
     "data": {
      "text/html": [
       "<div>\n",
       "<style scoped>\n",
       "    .dataframe tbody tr th:only-of-type {\n",
       "        vertical-align: middle;\n",
       "    }\n",
       "\n",
       "    .dataframe tbody tr th {\n",
       "        vertical-align: top;\n",
       "    }\n",
       "\n",
       "    .dataframe thead th {\n",
       "        text-align: right;\n",
       "    }\n",
       "</style>\n",
       "<table border=\"1\" class=\"dataframe\">\n",
       "  <thead>\n",
       "    <tr style=\"text-align: right;\">\n",
       "      <th></th>\n",
       "      <th>theta</th>\n",
       "      <th>phi0</th>\n",
       "      <th>maxamp</th>\n",
       "      <th>secondmax</th>\n",
       "      <th>detectability_1</th>\n",
       "      <th>detectability_2</th>\n",
       "    </tr>\n",
       "  </thead>\n",
       "  <tbody>\n",
       "    <tr>\n",
       "      <th>656</th>\n",
       "      <td>-0.370644</td>\n",
       "      <td>2.267288</td>\n",
       "      <td>0.245887</td>\n",
       "      <td>0.071672</td>\n",
       "      <td>2.946583</td>\n",
       "      <td>0.031756</td>\n",
       "    </tr>\n",
       "    <tr>\n",
       "      <th>559</th>\n",
       "      <td>-0.369619</td>\n",
       "      <td>0.852006</td>\n",
       "      <td>0.100005</td>\n",
       "      <td>0.029121</td>\n",
       "      <td>2.924839</td>\n",
       "      <td>0.012913</td>\n",
       "    </tr>\n",
       "    <tr>\n",
       "      <th>291</th>\n",
       "      <td>-0.369163</td>\n",
       "      <td>2.150099</td>\n",
       "      <td>0.199304</td>\n",
       "      <td>0.075055</td>\n",
       "      <td>3.793276</td>\n",
       "      <td>0.027436</td>\n",
       "    </tr>\n",
       "    <tr>\n",
       "      <th>719</th>\n",
       "      <td>-0.368413</td>\n",
       "      <td>1.074812</td>\n",
       "      <td>0.095310</td>\n",
       "      <td>0.028044</td>\n",
       "      <td>2.954696</td>\n",
       "      <td>0.012335</td>\n",
       "    </tr>\n",
       "    <tr>\n",
       "      <th>831</th>\n",
       "      <td>-0.368315</td>\n",
       "      <td>2.318487</td>\n",
       "      <td>0.276390</td>\n",
       "      <td>0.072896</td>\n",
       "      <td>2.672370</td>\n",
       "      <td>0.034929</td>\n",
       "    </tr>\n",
       "    <tr>\n",
       "      <th>...</th>\n",
       "      <td>...</td>\n",
       "      <td>...</td>\n",
       "      <td>...</td>\n",
       "      <td>...</td>\n",
       "      <td>...</td>\n",
       "      <td>...</td>\n",
       "    </tr>\n",
       "    <tr>\n",
       "      <th>322</th>\n",
       "      <td>1.561568</td>\n",
       "      <td>2.582649</td>\n",
       "      <td>8.958832</td>\n",
       "      <td>0.000000</td>\n",
       "      <td>0.895883</td>\n",
       "      <td>0.895883</td>\n",
       "    </tr>\n",
       "    <tr>\n",
       "      <th>317</th>\n",
       "      <td>1.561868</td>\n",
       "      <td>1.829929</td>\n",
       "      <td>8.941247</td>\n",
       "      <td>0.000000</td>\n",
       "      <td>0.894125</td>\n",
       "      <td>0.894125</td>\n",
       "    </tr>\n",
       "    <tr>\n",
       "      <th>156</th>\n",
       "      <td>1.562151</td>\n",
       "      <td>0.414675</td>\n",
       "      <td>8.902238</td>\n",
       "      <td>0.000000</td>\n",
       "      <td>0.890224</td>\n",
       "      <td>0.890224</td>\n",
       "    </tr>\n",
       "    <tr>\n",
       "      <th>845</th>\n",
       "      <td>1.567362</td>\n",
       "      <td>0.563024</td>\n",
       "      <td>8.919050</td>\n",
       "      <td>0.000000</td>\n",
       "      <td>0.891905</td>\n",
       "      <td>0.891905</td>\n",
       "    </tr>\n",
       "    <tr>\n",
       "      <th>586</th>\n",
       "      <td>1.569552</td>\n",
       "      <td>0.166924</td>\n",
       "      <td>8.924626</td>\n",
       "      <td>0.000000</td>\n",
       "      <td>0.892463</td>\n",
       "      <td>0.892463</td>\n",
       "    </tr>\n",
       "  </tbody>\n",
       "</table>\n",
       "<p>900 rows × 6 columns</p>\n",
       "</div>"
      ],
      "text/plain": [
       "        theta      phi0    maxamp  secondmax  detectability_1  detectability_2\n",
       "656 -0.370644  2.267288  0.245887   0.071672         2.946583         0.031756\n",
       "559 -0.369619  0.852006  0.100005   0.029121         2.924839         0.012913\n",
       "291 -0.369163  2.150099  0.199304   0.075055         3.793276         0.027436\n",
       "719 -0.368413  1.074812  0.095310   0.028044         2.954696         0.012335\n",
       "831 -0.368315  2.318487  0.276390   0.072896         2.672370         0.034929\n",
       "..        ...       ...       ...        ...              ...              ...\n",
       "322  1.561568  2.582649  8.958832   0.000000         0.895883         0.895883\n",
       "317  1.561868  1.829929  8.941247   0.000000         0.894125         0.894125\n",
       "156  1.562151  0.414675  8.902238   0.000000         0.890224         0.890224\n",
       "845  1.567362  0.563024  8.919050   0.000000         0.891905         0.891905\n",
       "586  1.569552  0.166924  8.924626   0.000000         0.892463         0.892463\n",
       "\n",
       "[900 rows x 6 columns]"
      ]
     },
     "execution_count": 78,
     "metadata": {},
     "output_type": "execute_result"
    }
   ],
   "source": [
    "dindex[237880881].sort_values(by=\"theta\")"
   ]
  },
  {
   "cell_type": "code",
   "execution_count": 90,
   "metadata": {},
   "outputs": [
    {
     "data": {
      "text/plain": [
       "(-90.0, 90.0)"
      ]
     },
     "execution_count": 90,
     "metadata": {},
     "output_type": "execute_result"
    },
    {
     "data": {
      "image/png": "[encoded data removed]",
      "text/plain": [
       "<Figure size 432x288 with 1 Axes>"
      ]
     },
     "metadata": {
      "needs_background": "light"
     },
     "output_type": "display_data"
    }
   ],
   "source": [
    "dd = dindex[237880881]\n",
    "plt.scatter(dd.theta/np.pi*180, dd.detectability_2, c=\"k\")\n",
    "\n",
    "dd = dindex[277539431]\n",
    "plt.scatter(dd.theta/np.pi*180, dd.detectability_2, c=\"r\")\n",
    "\n",
    "\n",
    "plt.xlim(-90,90)"
   ]
  },
  {
   "cell_type": "code",
   "execution_count": null,
   "metadata": {},
   "outputs": [],
   "source": [
    "\n"
   ]
  },
  {
   "cell_type": "code",
   "execution_count": 92,
   "metadata": {},
   "outputs": [
    {
     "data": {
      "text/plain": [
       "<matplotlib.legend.Legend at 0x7fd1e6f54ac8>"
      ]
     },
     "execution_count": 92,
     "metadata": {},
     "output_type": "execute_result"
    },
    {
     "data": {
      "image/png": "[encoded data removed]",
      "text/plain": [
       "<Figure size 576x504 with 1 Axes>"
      ]
     },
     "metadata": {
      "needs_background": "light"
     },
     "output_type": "display_data"
    }
   ],
   "source": [
    "cut_bins = np.linspace(-np.pi/2,np.pi/2,30)\n",
    "cut_labels_4 = (cut_bins[:-1] + cut_bins[1:]) / 2.\n",
    "\n",
    "fig, ax = plt.subplots(ncols=1, nrows=1, figsize=(8,7))\n",
    "for key in dindex.keys():\n",
    "    for factor in [5]:\n",
    "        dd = dindex[key]\n",
    "        dd.theta = np.abs(dd.theta)\n",
    "        d[\"detectability_2\"] = d.maxamp/10 + d.secondmax/10 + d.secondmax/d.maxamp * factor\n",
    "        dd['cut_ex1'] = pd.cut(dd[\"theta\"], bins=cut_bins, labels=cut_labels_4)\n",
    "        ddd = dd.groupby(\"cut_ex1\").median()\n",
    "        ddd2 = dd.groupby(\"cut_ex1\").std()\n",
    "        ax.errorbar(ddd.index.astype(float) / np.pi * 180, ddd.detectability_2, \n",
    "                    yerr=ddd2.detectability_2, label=f\"{key} {factor}\", capsize=10)\n",
    "plt.legend()"
   ]
  },
  {
   "cell_type": "markdown",
   "metadata": {},
   "source": [
    "# Visibility of latitudes"
   ]
  },
  {
   "cell_type": "code",
   "execution_count": null,
   "metadata": {},
   "outputs": [],
   "source": [
    "incls = np.linspace(0,90,20)\n",
    "lats = np.linspace()"
   ]
  },
  {
   "cell_type": "code",
   "execution_count": 7,
   "metadata": {},
   "outputs": [
    {
     "data": {
      "text/latex": [
       "$36.426767 \\; \\mathrm{min}$"
      ],
      "text/plain": [
       "<Quantity 36.42676682 min>"
      ]
     },
     "execution_count": 7,
     "metadata": {},
     "output_type": "execute_result"
    }
   ],
   "source": [
    "(0.1 * np.pi * R_sun / (100 * u.km / u.s)).to(\"min\")"
   ]
  },
  {
   "cell_type": "code",
   "execution_count": null,
   "metadata": {},
   "outputs": [],
   "source": []
  }
 ],
 "metadata": {
  "kernelspec": {
   "display_name": "forallpurposes",
   "language": "python",
   "name": "forallpurposes"
  },
  "language_info": {
   "codemirror_mode": {
    "name": "ipython",
    "version": 3
   },
   "file_extension": ".py",
   "mimetype": "text/x-python",
   "name": "python",
   "nbconvert_exporter": "python",
   "pygments_lexer": "ipython3",
   "version": "3.6.9"
  }
 },
 "nbformat": 4,
 "nbformat_minor": 2
}

{
 "cells": [
  {
   "cell_type": "code",
   "execution_count": 150,
   "metadata": {},
   "outputs": [],
   "source": [
    "import numpy as np\n",
    "from astropy.constants import R_sun, M_sun, G, k_B, m_p\n",
    "import astropy.units as u\n",
    "\n",
    "from funcs.model import calculate_specific_flare_flux, calculate_angular_radius\n",
    "\n",
    "def get_frac_area(radius):\n",
    "    return np.sin(radius / 180 * np.pi / 2.)**2\n",
    "\n",
    "\n",
    "import matplotlib.pyplot as plt\n",
    "%matplotlib inline\n",
    "\n",
    "\n",
    "import matplotlib \n",
    "matplotlib.rc('xtick', labelsize=15) \n",
    "matplotlib.rc('ytick', labelsize=15) \n",
    "\n",
    "font = {'family' : 'courier',\n",
    "        'weight' : 'normal',\n",
    "        'size'   : 15}"
   ]
  },
  {
   "cell_type": "markdown",
   "metadata": {},
   "source": [
    "# 10kK assumption"
   ]
  },
  {
   "cell_type": "code",
   "execution_count": 6,
   "metadata": {},
   "outputs": [
    {
     "data": {
      "text/latex": [
       "$1.380649 \\times 10^{-23} \\; \\mathrm{\\frac{J}{K}}$"
      ],
      "text/plain": [
       "<<class 'astropy.constants.codata2018.CODATA2018'> name='Boltzmann constant' value=1.380649e-23 uncertainty=0.0 unit='J / K' reference='CODATA 2018'>"
      ]
     },
     "execution_count": 6,
     "metadata": {},
     "output_type": "execute_result"
    }
   ],
   "source": [
    "k_B"
   ]
  },
  {
   "cell_type": "code",
   "execution_count": 15,
   "metadata": {},
   "outputs": [
    {
     "data": {
      "text/latex": [
       "$3.577011 \\times 10^{10} \\; \\mathrm{\\frac{erg}{s\\,cm^{2}}}$"
      ],
      "text/plain": [
       "<Quantity 3.57701096e+10 erg / (cm2 s)>"
      ]
     },
     "execution_count": 15,
     "metadata": {},
     "output_type": "execute_result"
    }
   ],
   "source": [
    "calculate_specific_flare_flux(\"TESS\", flaret=7e3)"
   ]
  },
  {
   "cell_type": "code",
   "execution_count": 24,
   "metadata": {},
   "outputs": [],
   "source": [
    "a = 1.\n",
    "qlum = 1e29 * u.erg / u.s\n",
    "R = .5 * R_sun\n",
    "Teff = np.linspace(5e3,5e4,20)\n",
    "Fth = [calculate_specific_flare_flux(\"TESS\", flaret=t) for t in Teff]\n",
    "radius = [calculate_angular_radius(fth, a, qlum, R) for fth in Fth]\n",
    "fill_factor = get_frac_area(np.array(radius)) * 4."
   ]
  },
  {
   "cell_type": "code",
   "execution_count": 26,
   "metadata": {},
   "outputs": [
    {
     "data": {
      "text/plain": [
       "[<matplotlib.lines.Line2D at 0x7f72447c6b38>]"
      ]
     },
     "execution_count": 26,
     "metadata": {},
     "output_type": "execute_result"
    },
    {
     "data": {
      "image/png": "[encoded data removed]",
      "text/plain": [
       "<Figure size 432x288 with 1 Axes>"
      ]
     },
     "metadata": {
      "needs_background": "light"
     },
     "output_type": "display_data"
    }
   ],
   "source": [
    "plt.plot(Teff, fill_factor)\n",
    "#plt.yscale(\"log\")"
   ]
  },
  {
   "cell_type": "code",
   "execution_count": 10,
   "metadata": {},
   "outputs": [
    {
     "data": {
      "text/plain": [
       "0.007270925155549293"
      ]
     },
     "execution_count": 10,
     "metadata": {},
     "output_type": "execute_result"
    }
   ],
   "source": [
    "fill_factor"
   ]
  },
  {
   "cell_type": "code",
   "execution_count": 27,
   "metadata": {},
   "outputs": [
    {
     "data": {
      "text/latex": [
       "$0.054286721 \\; \\mathrm{\\frac{1}{d}}$"
      ],
      "text/plain": [
       "<Quantity 0.05428672 1 / d>"
      ]
     },
     "execution_count": 27,
     "metadata": {},
     "output_type": "execute_result"
    }
   ],
   "source": [
    "(1e-7 / u.s * np.pi * 2).to(\"1/d\")"
   ]
  },
  {
   "cell_type": "code",
   "execution_count": 28,
   "metadata": {},
   "outputs": [
    {
     "ename": "SyntaxError",
     "evalue": "invalid syntax (<ipython-input-28-b2ec6745cc59>, line 1)",
     "output_type": "error",
     "traceback": [
      "\u001b[0;36m  File \u001b[0;32m\"<ipython-input-28-b2ec6745cc59>\"\u001b[0;36m, line \u001b[0;32m1\u001b[0m\n\u001b[0;31m    2piR/P = vsini / sin i\u001b[0m\n\u001b[0m       ^\u001b[0m\n\u001b[0;31mSyntaxError\u001b[0m\u001b[0;31m:\u001b[0m invalid syntax\n"
     ]
    }
   ],
   "source": [
    "2piR/P = vsini / sin i\n",
    "\n",
    "sin i = vsini * P / 2piR"
   ]
  },
  {
   "cell_type": "markdown",
   "metadata": {},
   "source": [
    "# back of the envelope calculation: pressure scale height"
   ]
  },
  {
   "cell_type": "code",
   "execution_count": 25,
   "metadata": {},
   "outputs": [],
   "source": [
    "M = 0.16\n",
    "Teff = 3030. * u.K\n",
    "R =  0.199\n",
    "g = G * (M * M_sun) / (R * R_sun)**2"
   ]
  },
  {
   "cell_type": "code",
   "execution_count": 26,
   "metadata": {},
   "outputs": [],
   "source": [
    "H = k_B * Teff / (m_p * g)"
   ]
  },
  {
   "cell_type": "code",
   "execution_count": 27,
   "metadata": {},
   "outputs": [
    {
     "data": {
      "text/latex": [
       "$22575.983 \\; \\mathrm{m}$"
      ],
      "text/plain": [
       "<Quantity 22575.98298498 m>"
      ]
     },
     "execution_count": 27,
     "metadata": {},
     "output_type": "execute_result"
    }
   ],
   "source": [
    "H.decompose()"
   ]
  },
  {
   "cell_type": "code",
   "execution_count": 19,
   "metadata": {},
   "outputs": [
    {
     "data": {
      "text/latex": [
       "$13837.9 \\; \\mathrm{m}$"
      ],
      "text/plain": [
       "<Quantity 13837.89950645 m>"
      ]
     },
     "execution_count": 19,
     "metadata": {},
     "output_type": "execute_result"
    }
   ],
   "source": [
    "H.decompose()"
   ]
  },
  {
   "cell_type": "code",
   "execution_count": 20,
   "metadata": {},
   "outputs": [
    {
     "data": {
      "text/plain": [
       "0.07666666666666667"
      ]
     },
     "execution_count": 20,
     "metadata": {},
     "output_type": "execute_result"
    }
   ],
   "source": [
    "13.8 / 180. #M6"
   ]
  },
  {
   "cell_type": "code",
   "execution_count": 24,
   "metadata": {},
   "outputs": [
    {
     "data": {
      "text/plain": [
       "0.05277777777777778"
      ]
     },
     "execution_count": 24,
     "metadata": {},
     "output_type": "execute_result"
    }
   ],
   "source": [
    "9.5 / 180. #L1"
   ]
  },
  {
   "cell_type": "code",
   "execution_count": 28,
   "metadata": {},
   "outputs": [
    {
     "data": {
      "text/plain": [
       "0.12555555555555556"
      ]
     },
     "execution_count": 28,
     "metadata": {},
     "output_type": "execute_result"
    }
   ],
   "source": [
    "22.6 / 180. #M5"
   ]
  },
  {
   "cell_type": "markdown",
   "metadata": {},
   "source": [
    "The pressure scale heights of the stars in our sample are about $5-13 \\%$ of the solar"
   ]
  },
  {
   "cell_type": "code",
   "execution_count": 32,
   "metadata": {},
   "outputs": [
    {
     "name": "stdout",
     "output_type": "stream",
     "text": [
      "1.6324254591918916e-07 1 / m 1.2761973081640357e-07 1 / m 2.58732212160414e-07 1 / m\n"
     ]
    }
   ],
   "source": [
    "print(22.6 / (.199 * R_sun), 9.5 / (.107 * R_sun), 180. / (1. * R_sun) )"
   ]
  },
  {
   "cell_type": "code",
   "execution_count": 36,
   "metadata": {},
   "outputs": [
    {
     "data": {
      "text/plain": [
       "(0.6293436293436293, 0.4942084942084942)"
      ]
     },
     "execution_count": 36,
     "metadata": {},
     "output_type": "execute_result"
    }
   ],
   "source": [
    "1.63 / 2.59, 1.28/2.59"
   ]
  },
  {
   "cell_type": "markdown",
   "metadata": {},
   "source": [
    "The relative height of atmospheres on M5-L1 dwarfs is $50-63\\%$ percent of the relative solar height."
   ]
  },
  {
   "cell_type": "markdown",
   "metadata": {},
   "source": [
    "# latitude vs. flux"
   ]
  },
  {
   "cell_type": "code",
   "execution_count": 46,
   "metadata": {},
   "outputs": [],
   "source": [
    "from altaipony.altai import equivalent_duration\n",
    "from altaipony.flarelc import FlareLightCurve\n",
    "import os\n",
    "CWD = \"/\".join(os.getcwd().split(\"/\")[:-2])\n",
    "import pandas as pd\n",
    "\n",
    "\n",
    "# Plot stuff\n",
    "from funcs.model import full_model, aflare"
   ]
  },
  {
   "cell_type": "code",
   "execution_count": 43,
   "metadata": {},
   "outputs": [],
   "source": [
    "# Datasets we analysed\n",
    "datasets = [\n",
    "            (277539431, \"\", \"08_07_2020_11_48\"),\n",
    "            (237880881, \"a\", \"11_02_2020_10_07\"),\n",
    "            (237880881, \"b\", \"11_02_2020_10_07\"),\n",
    "            (44984200, \"\", \"02_08_2020_17_44\"),\n",
    "            (44984200, \"a\", \"04_08_2020_13_40\"),\n",
    "            (44984200, \"b\", \"04_08_2020_13_40\"),\n",
    "            (100004076, \"\", \"18_08_2020_15_38\"),\n",
    "            ]"
   ]
  },
  {
   "cell_type": "code",
   "execution_count": 77,
   "metadata": {},
   "outputs": [
    {
     "data": {
      "text/plain": [
       "['ED_s_16',\n",
       " 'ED_s_50',\n",
       " 'ED_s_84',\n",
       " 'Eflare_erg_16',\n",
       " 'Eflare_erg_50',\n",
       " 'Eflare_erg_84',\n",
       " 'ID',\n",
       " 'a_16',\n",
       " 'a_50',\n",
       " 'a_84',\n",
       " 'color',\n",
       " 'frac_area_16',\n",
       " 'frac_area_50',\n",
       " 'frac_area_84',\n",
       " 'fwhm_d_16',\n",
       " 'fwhm_d_50',\n",
       " 'fwhm_d_84',\n",
       " 'i_deg_16',\n",
       " 'i_deg_50',\n",
       " 'i_deg_84',\n",
       " 'latitude_deg_16',\n",
       " 'latitude_deg_50',\n",
       " 'latitude_deg_84',\n",
       " 'linestyle',\n",
       " 'phase_deg_16',\n",
       " 'phase_deg_50',\n",
       " 'phase_deg_84',\n",
       " 'rad_rsun_16',\n",
       " 'rad_rsun_50',\n",
       " 'rad_rsun_84',\n",
       " 't0_d_16',\n",
       " 't0_d_50',\n",
       " 't0_d_84',\n",
       " 'tstamp']"
      ]
     },
     "execution_count": 77,
     "metadata": {},
     "output_type": "execute_result"
    }
   ],
   "source": [
    "vals"
   ]
  },
  {
   "cell_type": "code",
   "execution_count": 82,
   "metadata": {},
   "outputs": [],
   "source": [
    "res= pd.read_csv(f\"{CWD}/analysis/results/mcmc/mcmcoutput.csv\").loc[:6]\n",
    "res.suffix = res.suffix.fillna(\"\").astype(str)\n",
    "vals = list(res.columns.values)\n",
    "vals.remove(\"suffix\")\n",
    "vals.remove(\"tstamp\")\n",
    "vals.remove(\"color\")\n",
    "vals.remove(\"linestyle\")\n",
    "vals.remove(\"ID\")\n",
    "res[vals] = res[vals].astype(float) "
   ]
  },
  {
   "cell_type": "code",
   "execution_count": 164,
   "metadata": {},
   "outputs": [
    {
     "name": "stdout",
     "output_type": "stream",
     "text": [
      "ID                             277539431\n",
      "QCS                                   12\n",
      "typ                                  slc\n",
      "cadence_min                            2\n",
      "mission                             tess\n",
      "prefix                               TIC\n",
      "origin                            custom\n",
      "h_mission                           TESS\n",
      "SpT                                   M7\n",
      "view_start                          1641\n",
      "view_stop                         1643.5\n",
      "view_min                             750\n",
      "view_max                             970\n",
      "BJDoff                           2457000\n",
      "tstart                           1641.84\n",
      "ampl_min                             0.9\n",
      "ampl_max                             1.7\n",
      "GRP                                 1.52\n",
      "plxmas                           72.9672\n",
      "eplxmas                            0.569\n",
      "RA                               163.815\n",
      "Dec                             -73.9364\n",
      "J                                  10.63\n",
      "R                                    NaN\n",
      "Gaia_G                           14.7381\n",
      "vsini_kms                           38.6\n",
      "e_vsini_kms                            1\n",
      "Prot_d                              0.19\n",
      "sini                                 NaN\n",
      "Ref                            this work\n",
      "identifier     WISEA J105515.71-735611.3\n",
      "Rstar                                NaN\n",
      "idtyp                               tess\n",
      "id                             277539431\n",
      "st                                    M7\n",
      "desig_2mass             10551532-7356091\n",
      "dist                             13.7047\n",
      "dist_err                        0.106872\n",
      "dist_source                         gaia\n",
      "rad                             0.145216\n",
      "rad_err                       0.00437047\n",
      "tflux                        5.01119e-11\n",
      "tfluxerr                     4.61344e-12\n",
      "tlum                         1.12637e+30\n",
      "tlumerr                      1.05174e+29\n",
      "kflux                        1.38073e-11\n",
      "kfluxerr                     1.51724e-12\n",
      "klum                         3.10348e+29\n",
      "klumerr                      3.44449e+28\n",
      "gmag                             14.7381\n",
      "jmag                               10.63\n",
      "kmag                               9.666\n",
      "i_mu                             1.52021\n",
      "i_sigma                        0.0416149\n",
      "Name: 3, dtype: object\n",
      "ID: 277539431\n",
      "\n",
      "ID                           237880881\n",
      "QCS                                  1\n",
      "typ                                slc\n",
      "cadence_min                          2\n",
      "mission                           tess\n",
      "prefix                             TIC\n",
      "origin                         generic\n",
      "h_mission                         TESS\n",
      "SpT                                 M5\n",
      "view_start                        1331\n",
      "view_stop                       1333.5\n",
      "view_min                           560\n",
      "view_max                           700\n",
      "BJDoff                         2457000\n",
      "tstart                          1331.7\n",
      "ampl_min                           NaN\n",
      "ampl_max                           NaN\n",
      "GRP                                NaN\n",
      "plxmas                             NaN\n",
      "eplxmas                            NaN\n",
      "RA                              19.528\n",
      "Dec                           -62.9831\n",
      "J                                11.53\n",
      "R                                  NaN\n",
      "Gaia_G                         14.9796\n",
      "vsini_kms                         14.4\n",
      "e_vsini_kms                        2.6\n",
      "Prot_d                         0.35125\n",
      "sini                               NaN\n",
      "Ref                           Kraus+14\n",
      "identifier     2MASS J01180670-6258591\n",
      "Rstar                            0.199\n",
      "idtyp                             tess\n",
      "id                           237880881\n",
      "st                                  M5\n",
      "desig_2mass           01180670-6258591\n",
      "dist                           46.0681\n",
      "dist_err                      0.143774\n",
      "dist_source                       gaia\n",
      "rad                           0.275151\n",
      "rad_err                     0.00803926\n",
      "tflux                      3.49265e-11\n",
      "tfluxerr                   2.21194e-12\n",
      "tlum                       8.87069e+30\n",
      "tlumerr                    5.64514e+29\n",
      "kflux                      1.27267e-11\n",
      "kfluxerr                   6.84475e-13\n",
      "klum                       3.23236e+30\n",
      "klumerr                    1.75011e+29\n",
      "gmag                           14.9796\n",
      "jmag                             11.53\n",
      "kmag                            10.636\n",
      "i_mu                          0.371856\n",
      "i_sigma                      0.0402463\n",
      "Name: 1, dtype: object\n",
      "ID: 237880881\n",
      "\n",
      "ID                           237880881\n",
      "QCS                                  1\n",
      "typ                                slc\n",
      "cadence_min                          2\n",
      "mission                           tess\n",
      "prefix                             TIC\n",
      "origin                         generic\n",
      "h_mission                         TESS\n",
      "SpT                                 M5\n",
      "view_start                        1331\n",
      "view_stop                       1333.5\n",
      "view_min                           560\n",
      "view_max                           700\n",
      "BJDoff                         2457000\n",
      "tstart                          1331.7\n",
      "ampl_min                           NaN\n",
      "ampl_max                           NaN\n",
      "GRP                                NaN\n",
      "plxmas                             NaN\n",
      "eplxmas                            NaN\n",
      "RA                              19.528\n",
      "Dec                           -62.9831\n",
      "J                                11.53\n",
      "R                                  NaN\n",
      "Gaia_G                         14.9796\n",
      "vsini_kms                         14.4\n",
      "e_vsini_kms                        2.6\n",
      "Prot_d                         0.35125\n",
      "sini                               NaN\n",
      "Ref                           Kraus+14\n",
      "identifier     2MASS J01180670-6258591\n",
      "Rstar                            0.199\n",
      "idtyp                             tess\n",
      "id                           237880881\n",
      "st                                  M5\n",
      "desig_2mass           01180670-6258591\n",
      "dist                           46.0681\n",
      "dist_err                      0.143774\n",
      "dist_source                       gaia\n",
      "rad                           0.275151\n",
      "rad_err                     0.00803926\n",
      "tflux                      3.49265e-11\n",
      "tfluxerr                   2.21194e-12\n",
      "tlum                       8.87069e+30\n",
      "tlumerr                    5.64514e+29\n",
      "kflux                      1.27267e-11\n",
      "kfluxerr                   6.84475e-13\n",
      "klum                       3.23236e+30\n",
      "klumerr                    1.75011e+29\n",
      "gmag                           14.9796\n",
      "jmag                             11.53\n",
      "kmag                            10.636\n",
      "i_mu                          0.371856\n",
      "i_sigma                      0.0402463\n",
      "Name: 1, dtype: object\n",
      "ID: 237880881\n",
      "\n",
      "ID                     44984200\n",
      "QCS                          10\n",
      "typ                         slc\n",
      "cadence_min                   2\n",
      "mission                    tess\n",
      "prefix                      TIC\n",
      "origin                   custom\n",
      "h_mission                  TESS\n",
      "SpT                          M6\n",
      "view_start              1587.25\n",
      "view_stop               1589.75\n",
      "view_min                   1620\n",
      "view_max                   2200\n",
      "BJDoff                  2457000\n",
      "tstart                  1588.03\n",
      "ampl_min                    0.5\n",
      "ampl_max                    0.8\n",
      "GRP                        1.54\n",
      "plxmas                  90.0357\n",
      "eplxmas                0.222697\n",
      "RA                      129.508\n",
      "Dec                    -58.9331\n",
      "J                        10.309\n",
      "R                         15.08\n",
      "Gaia_G                  14.4115\n",
      "vsini_kms                  34.8\n",
      "e_vsini_kms                 0.8\n",
      "Prot_d                    0.113\n",
      "sini                        NaN\n",
      "Ref                   this work\n",
      "identifier       SCR J0838-5855\n",
      "Rstar                       NaN\n",
      "idtyp                      tess\n",
      "id                     44984200\n",
      "st                           M6\n",
      "desig_2mass    08380224-5855583\n",
      "dist                    11.1067\n",
      "dist_err              0.0274716\n",
      "dist_source                gaia\n",
      "rad                    0.142339\n",
      "rad_err              0.00414734\n",
      "tflux               6.30529e-11\n",
      "tfluxerr            4.37846e-12\n",
      "tlum                9.30845e+29\n",
      "tlumerr             6.48026e+28\n",
      "kflux               2.01816e-11\n",
      "kfluxerr            1.41212e-12\n",
      "klum                2.97939e+29\n",
      "klumerr             2.08991e+28\n",
      "gmag                    14.4115\n",
      "jmag                     10.309\n",
      "kmag                      9.268\n",
      "i_mu                   0.578452\n",
      "i_sigma               0.0282559\n",
      "Name: 2, dtype: object\n",
      "ID: 44984200\n",
      "\n"
     ]
    },
    {
     "name": "stdout",
     "output_type": "stream",
     "text": [
      "ID                     44984200\n",
      "QCS                          10\n",
      "typ                         slc\n",
      "cadence_min                   2\n",
      "mission                    tess\n",
      "prefix                      TIC\n",
      "origin                   custom\n",
      "h_mission                  TESS\n",
      "SpT                          M6\n",
      "view_start              1587.25\n",
      "view_stop               1589.75\n",
      "view_min                   1620\n",
      "view_max                   2200\n",
      "BJDoff                  2457000\n",
      "tstart                  1588.03\n",
      "ampl_min                    0.5\n",
      "ampl_max                    0.8\n",
      "GRP                        1.54\n",
      "plxmas                  90.0357\n",
      "eplxmas                0.222697\n",
      "RA                      129.508\n",
      "Dec                    -58.9331\n",
      "J                        10.309\n",
      "R                         15.08\n",
      "Gaia_G                  14.4115\n",
      "vsini_kms                  34.8\n",
      "e_vsini_kms                 0.8\n",
      "Prot_d                    0.113\n",
      "sini                        NaN\n",
      "Ref                   this work\n",
      "identifier       SCR J0838-5855\n",
      "Rstar                       NaN\n",
      "idtyp                      tess\n",
      "id                     44984200\n",
      "st                           M6\n",
      "desig_2mass    08380224-5855583\n",
      "dist                    11.1067\n",
      "dist_err              0.0274716\n",
      "dist_source                gaia\n",
      "rad                    0.142339\n",
      "rad_err              0.00414734\n",
      "tflux               6.30529e-11\n",
      "tfluxerr            4.37846e-12\n",
      "tlum                9.30845e+29\n",
      "tlumerr             6.48026e+28\n",
      "kflux               2.01816e-11\n",
      "kfluxerr            1.41212e-12\n",
      "klum                2.97939e+29\n",
      "klumerr             2.08991e+28\n",
      "gmag                    14.4115\n",
      "jmag                     10.309\n",
      "kmag                      9.268\n",
      "i_mu                   0.578452\n",
      "i_sigma               0.0282559\n",
      "Name: 2, dtype: object\n",
      "ID: 44984200\n",
      "\n",
      "ID                     44984200\n",
      "QCS                          10\n",
      "typ                         slc\n",
      "cadence_min                   2\n",
      "mission                    tess\n",
      "prefix                      TIC\n",
      "origin                   custom\n",
      "h_mission                  TESS\n",
      "SpT                          M6\n",
      "view_start              1587.25\n",
      "view_stop               1589.75\n",
      "view_min                   1620\n",
      "view_max                   2200\n",
      "BJDoff                  2457000\n",
      "tstart                  1588.03\n",
      "ampl_min                    0.5\n",
      "ampl_max                    0.8\n",
      "GRP                        1.54\n",
      "plxmas                  90.0357\n",
      "eplxmas                0.222697\n",
      "RA                      129.508\n",
      "Dec                    -58.9331\n",
      "J                        10.309\n",
      "R                         15.08\n",
      "Gaia_G                  14.4115\n",
      "vsini_kms                  34.8\n",
      "e_vsini_kms                 0.8\n",
      "Prot_d                    0.113\n",
      "sini                        NaN\n",
      "Ref                   this work\n",
      "identifier       SCR J0838-5855\n",
      "Rstar                       NaN\n",
      "idtyp                      tess\n",
      "id                     44984200\n",
      "st                           M6\n",
      "desig_2mass    08380224-5855583\n",
      "dist                    11.1067\n",
      "dist_err              0.0274716\n",
      "dist_source                gaia\n",
      "rad                    0.142339\n",
      "rad_err              0.00414734\n",
      "tflux               6.30529e-11\n",
      "tfluxerr            4.37846e-12\n",
      "tlum                9.30845e+29\n",
      "tlumerr             6.48026e+28\n",
      "kflux               2.01816e-11\n",
      "kfluxerr            1.41212e-12\n",
      "klum                2.97939e+29\n",
      "klumerr             2.08991e+28\n",
      "gmag                    14.4115\n",
      "jmag                     10.309\n",
      "kmag                      9.268\n",
      "i_mu                   0.578452\n",
      "i_sigma               0.0282559\n",
      "Name: 2, dtype: object\n",
      "ID: 44984200\n",
      "\n",
      "ID                             100004076\n",
      "QCS                                   14\n",
      "typ                                  slc\n",
      "cadence_min                            1\n",
      "mission                              kep\n",
      "prefix                               KIC\n",
      "origin                           generic\n",
      "h_mission                         Kepler\n",
      "SpT                                   L1\n",
      "view_start                        1356.5\n",
      "view_stop                           1361\n",
      "view_min                             600\n",
      "view_max                            1050\n",
      "BJDoff                           2454833\n",
      "tstart                           1358.55\n",
      "ampl_min                             NaN\n",
      "ampl_max                             NaN\n",
      "GRP                                  NaN\n",
      "plxmas                               NaN\n",
      "eplxmas                              NaN\n",
      "RA                                 286.7\n",
      "Dec                              40.1857\n",
      "J                                 13.078\n",
      "R                                    NaN\n",
      "Gaia_G                           17.8356\n",
      "vsini_kms                           11.2\n",
      "e_vsini_kms                          2.2\n",
      "Prot_d                           0.37015\n",
      "sini                                >.59\n",
      "Ref                             Gizis+13\n",
      "identifier     WISEP J190648.47+401106.8\n",
      "Rstar                              0.107\n",
      "idtyp                                kep\n",
      "id                             100004076\n",
      "st                                    L1\n",
      "desig_2mass             19064801+4011089\n",
      "dist                             16.7867\n",
      "dist_err                       0.0383996\n",
      "dist_source                         gaia\n",
      "rad                             0.108176\n",
      "rad_err                       0.00315119\n",
      "tflux                        3.31976e-12\n",
      "tfluxerr                     1.93746e-13\n",
      "tlum                         1.11954e+29\n",
      "tlumerr                      6.55381e+27\n",
      "kflux                        6.71299e-13\n",
      "kfluxerr                     4.27288e-14\n",
      "klum                         2.26385e+28\n",
      "klumerr                      1.44468e+27\n",
      "gmag                             17.8356\n",
      "jmag                              13.078\n",
      "kmag                              11.771\n",
      "i_mu                             1.00223\n",
      "i_sigma                         0.113213\n",
      "Name: 0, dtype: object\n",
      "ID: 100004076\n",
      "\n"
     ]
    },
    {
     "data": {
      "image/png": "[encoded data removed]",
      "text/plain": [
       "<Figure size 720x720 with 1 Axes>"
      ]
     },
     "metadata": {
      "needs_background": "light"
     },
     "output_type": "display_data"
    }
   ],
   "source": [
    "est = {}\n",
    "plt.figure(figsize=(10,10))\n",
    "for j, row in res.iterrows():\n",
    "  \n",
    "    # Get data\n",
    "    #df = pd.read_csv(f\"{CWD}/analysis/results/mcmc/{row.tstamp}_{row.ID}{row.suffix}_converted_mcmc_sample.csv\")\n",
    "    lc = pd.read_csv(f\"{CWD}/data/lcs/{row.tstamp}_{row.ID}.csv\")\n",
    "    props = pd.read_csv(f\"{CWD}/data/summary/lcsi.csv\")\n",
    "    target = props[props.ID == int(row.ID)].iloc[0]\n",
    "    print(target)\n",
    "    # Pick up the input parameters\n",
    "    inits = pd.read_csv(f\"{CWD}/data/summary/inits.csv\")\n",
    "    inits = inits[(inits.ID == str(row.ID)+row.suffix) & (inits.tstamp==row.tstamp)].iloc[0]\n",
    "\n",
    "    qlum = inits.qlum_erg_s * u.erg / u.s\n",
    "    Fth = inits.Fth * u.erg/ u.cm**2 / u.s\n",
    "    median = inits['median']\n",
    "    R = inits.R_Rsun * R_sun\n",
    "    \n",
    "     # Plot the results\n",
    "    N = 50\n",
    "    time = lc.t\n",
    "    phi = lc.phi.values\n",
    "    flux = lc.flux.values\n",
    "    inds = np.random.randint(df.shape[0], size=N)\n",
    "\n",
    "\n",
    "    a = row.a_50\n",
    "    phi_a = (row.t0_d_50 -lc.t[0]) / target.Prot_d * 2 * np.pi \n",
    "    #theta_a = row.latitude_deg_50 / 180 * np.pi\n",
    "    fwhm = row.fwhm_d_50 / target.Prot_d * 2 * np.pi\n",
    "    #i = row.i_deg_50 / 180 * np.pi\n",
    "    i = np.pi/2\n",
    "\n",
    "    phi0 = phi_a%(2.*np.pi) - (row.phase_deg_50  / 180 * np.pi)\n",
    "    flare = aflare(phi, phi_a, fwhm, a*median)+ median\n",
    "    print(f\"ID: {row.ID}\\n\")\n",
    "    est[str(row.ID) + row.suffix] = {}\n",
    "    for theta_a in np.linspace(5,85,30): \n",
    "        th = theta_a / 180. * np.pi\n",
    "        fullmodel = full_model(phi_a, th, a, fwhm, i, phi0=phi0,\n",
    "                               phi=phi, num_pts=50, qlum=qlum,\n",
    "                               Fth=Fth, R=R, median=median)\n",
    "\n",
    "        flc = FlareLightCurve(time=time, detrended_flux=fullmodel, )\n",
    "        flc.it_med = np.full_like(time, median)\n",
    "        ED = equivalent_duration(flc,0,-2)\n",
    "        est[str(row.ID) + row.suffix][theta_a] = ED * qlum.value\n",
    "        if str(row.ID) == \"237880881\":\n",
    "            if theta_a > 50:\n",
    "                c = \"g\"\n",
    "            else:\n",
    "                c = \"grey\"\n",
    "            plt.plot(flc.time, flc.detrended_flux, c=c, alpha=.3)\n",
    "            "
   ]
  },
  {
   "cell_type": "code",
   "execution_count": 165,
   "metadata": {},
   "outputs": [
    {
     "data": {
      "text/html": [
       "<div>\n",
       "<style scoped>\n",
       "    .dataframe tbody tr th:only-of-type {\n",
       "        vertical-align: middle;\n",
       "    }\n",
       "\n",
       "    .dataframe tbody tr th {\n",
       "        vertical-align: top;\n",
       "    }\n",
       "\n",
       "    .dataframe thead th {\n",
       "        text-align: right;\n",
       "    }\n",
       "</style>\n",
       "<table border=\"1\" class=\"dataframe\">\n",
       "  <thead>\n",
       "    <tr style=\"text-align: right;\">\n",
       "      <th></th>\n",
       "      <th>277539431</th>\n",
       "      <th>237880881a</th>\n",
       "      <th>237880881b</th>\n",
       "      <th>44984200</th>\n",
       "      <th>44984200a</th>\n",
       "      <th>44984200b</th>\n",
       "      <th>100004076</th>\n",
       "    </tr>\n",
       "  </thead>\n",
       "  <tbody>\n",
       "    <tr>\n",
       "      <th>5.000000</th>\n",
       "      <td>9.458330e+33</td>\n",
       "      <td>8.943701e+32</td>\n",
       "      <td>6.701118e+33</td>\n",
       "      <td>6.621809e+32</td>\n",
       "      <td>4.040224e+32</td>\n",
       "      <td>1.005602e+32</td>\n",
       "      <td>8.933709e+31</td>\n",
       "    </tr>\n",
       "    <tr>\n",
       "      <th>7.758621</th>\n",
       "      <td>9.396570e+33</td>\n",
       "      <td>8.931704e+32</td>\n",
       "      <td>6.656416e+33</td>\n",
       "      <td>6.586572e+32</td>\n",
       "      <td>4.018709e+32</td>\n",
       "      <td>1.000222e+32</td>\n",
       "      <td>8.885821e+31</td>\n",
       "    </tr>\n",
       "    <tr>\n",
       "      <th>10.517241</th>\n",
       "      <td>9.342818e+33</td>\n",
       "      <td>8.830182e+32</td>\n",
       "      <td>6.616057e+33</td>\n",
       "      <td>6.536124e+32</td>\n",
       "      <td>3.987908e+32</td>\n",
       "      <td>9.925253e+31</td>\n",
       "      <td>8.817343e+31</td>\n",
       "    </tr>\n",
       "    <tr>\n",
       "      <th>13.275862</th>\n",
       "      <td>9.245210e+33</td>\n",
       "      <td>8.756397e+32</td>\n",
       "      <td>6.549663e+33</td>\n",
       "      <td>6.470581e+32</td>\n",
       "      <td>3.947893e+32</td>\n",
       "      <td>9.825309e+31</td>\n",
       "      <td>8.728433e+31</td>\n",
       "    </tr>\n",
       "    <tr>\n",
       "      <th>16.034483</th>\n",
       "      <td>9.133410e+33</td>\n",
       "      <td>8.676000e+32</td>\n",
       "      <td>6.470228e+33</td>\n",
       "      <td>6.390096e+32</td>\n",
       "      <td>3.898755e+32</td>\n",
       "      <td>9.702616e+31</td>\n",
       "      <td>8.619297e+31</td>\n",
       "    </tr>\n",
       "    <tr>\n",
       "      <th>18.793103</th>\n",
       "      <td>8.990290e+33</td>\n",
       "      <td>8.568329e+32</td>\n",
       "      <td>6.376551e+33</td>\n",
       "      <td>6.294864e+32</td>\n",
       "      <td>3.840613e+32</td>\n",
       "      <td>9.557458e+31</td>\n",
       "      <td>8.490188e+31</td>\n",
       "    </tr>\n",
       "    <tr>\n",
       "      <th>21.551724</th>\n",
       "      <td>8.846006e+33</td>\n",
       "      <td>8.479709e+32</td>\n",
       "      <td>6.252817e+33</td>\n",
       "      <td>6.185112e+32</td>\n",
       "      <td>3.773601e+32</td>\n",
       "      <td>9.390171e+31</td>\n",
       "      <td>8.341407e+31</td>\n",
       "    </tr>\n",
       "    <tr>\n",
       "      <th>24.310345</th>\n",
       "      <td>8.679366e+33</td>\n",
       "      <td>8.335185e+32</td>\n",
       "      <td>6.143377e+33</td>\n",
       "      <td>6.061088e+32</td>\n",
       "      <td>3.697872e+32</td>\n",
       "      <td>9.201144e+31</td>\n",
       "      <td>8.173297e+31</td>\n",
       "    </tr>\n",
       "    <tr>\n",
       "      <th>27.068966</th>\n",
       "      <td>8.484418e+33</td>\n",
       "      <td>8.157049e+32</td>\n",
       "      <td>5.999263e+33</td>\n",
       "      <td>5.923075e+32</td>\n",
       "      <td>3.613607e+32</td>\n",
       "      <td>8.990814e+31</td>\n",
       "      <td>7.986248e+31</td>\n",
       "    </tr>\n",
       "    <tr>\n",
       "      <th>29.827586</th>\n",
       "      <td>8.277883e+33</td>\n",
       "      <td>8.032275e+32</td>\n",
       "      <td>5.853988e+33</td>\n",
       "      <td>5.771401e+32</td>\n",
       "      <td>3.521008e+32</td>\n",
       "      <td>8.759671e+31</td>\n",
       "      <td>7.780695e+31</td>\n",
       "    </tr>\n",
       "    <tr>\n",
       "      <th>32.586207</th>\n",
       "      <td>8.055725e+33</td>\n",
       "      <td>7.839344e+32</td>\n",
       "      <td>5.700804e+33</td>\n",
       "      <td>5.606428e+32</td>\n",
       "      <td>3.420288e+32</td>\n",
       "      <td>8.508258e+31</td>\n",
       "      <td>7.557113e+31</td>\n",
       "    </tr>\n",
       "    <tr>\n",
       "      <th>35.344828</th>\n",
       "      <td>7.803341e+33</td>\n",
       "      <td>7.628719e+32</td>\n",
       "      <td>5.516719e+33</td>\n",
       "      <td>5.428534e+32</td>\n",
       "      <td>3.311682e+32</td>\n",
       "      <td>8.237151e+31</td>\n",
       "      <td>7.316024e+31</td>\n",
       "    </tr>\n",
       "    <tr>\n",
       "      <th>38.103448</th>\n",
       "      <td>7.541034e+33</td>\n",
       "      <td>7.494592e+32</td>\n",
       "      <td>5.331281e+33</td>\n",
       "      <td>5.238141e+32</td>\n",
       "      <td>3.195448e+32</td>\n",
       "      <td>7.946984e+31</td>\n",
       "      <td>7.057988e+31</td>\n",
       "    </tr>\n",
       "    <tr>\n",
       "      <th>40.862069</th>\n",
       "      <td>7.259193e+33</td>\n",
       "      <td>7.258187e+32</td>\n",
       "      <td>5.129433e+33</td>\n",
       "      <td>5.035698e+32</td>\n",
       "      <td>3.071866e+32</td>\n",
       "      <td>7.638426e+31</td>\n",
       "      <td>6.783608e+31</td>\n",
       "    </tr>\n",
       "    <tr>\n",
       "      <th>43.620690</th>\n",
       "      <td>6.977745e+33</td>\n",
       "      <td>7.069404e+32</td>\n",
       "      <td>4.892635e+33</td>\n",
       "      <td>4.821679e+32</td>\n",
       "      <td>2.941236e+32</td>\n",
       "      <td>7.312198e+31</td>\n",
       "      <td>6.493515e+31</td>\n",
       "    </tr>\n",
       "    <tr>\n",
       "      <th>46.379310</th>\n",
       "      <td>6.671583e+33</td>\n",
       "      <td>6.881555e+32</td>\n",
       "      <td>4.693588e+33</td>\n",
       "      <td>4.596595e+32</td>\n",
       "      <td>2.803864e+32</td>\n",
       "      <td>6.969063e+31</td>\n",
       "      <td>6.188382e+31</td>\n",
       "    </tr>\n",
       "    <tr>\n",
       "      <th>49.137931</th>\n",
       "      <td>6.346288e+33</td>\n",
       "      <td>6.587281e+32</td>\n",
       "      <td>4.438080e+33</td>\n",
       "      <td>4.360984e+32</td>\n",
       "      <td>2.660065e+32</td>\n",
       "      <td>6.609819e+31</td>\n",
       "      <td>5.868919e+31</td>\n",
       "    </tr>\n",
       "    <tr>\n",
       "      <th>51.896552</th>\n",
       "      <td>5.988237e+33</td>\n",
       "      <td>6.416230e+32</td>\n",
       "      <td>4.180781e+33</td>\n",
       "      <td>4.115461e+32</td>\n",
       "      <td>2.510181e+32</td>\n",
       "      <td>6.235307e+31</td>\n",
       "      <td>5.535866e+31</td>\n",
       "    </tr>\n",
       "    <tr>\n",
       "      <th>54.655172</th>\n",
       "      <td>5.649840e+33</td>\n",
       "      <td>6.275310e+32</td>\n",
       "      <td>3.944590e+33</td>\n",
       "      <td>3.860577e+32</td>\n",
       "      <td>2.354583e+32</td>\n",
       "      <td>5.846381e+31</td>\n",
       "      <td>5.189993e+31</td>\n",
       "    </tr>\n",
       "    <tr>\n",
       "      <th>57.413793</th>\n",
       "      <td>5.288331e+33</td>\n",
       "      <td>6.005073e+32</td>\n",
       "      <td>3.669414e+33</td>\n",
       "      <td>3.597014e+32</td>\n",
       "      <td>2.193669e+32</td>\n",
       "      <td>5.443951e+31</td>\n",
       "      <td>4.832115e+31</td>\n",
       "    </tr>\n",
       "    <tr>\n",
       "      <th>60.172414</th>\n",
       "      <td>4.936726e+33</td>\n",
       "      <td>5.953289e+32</td>\n",
       "      <td>3.389694e+33</td>\n",
       "      <td>3.325492e+32</td>\n",
       "      <td>2.027902e+32</td>\n",
       "      <td>5.028963e+31</td>\n",
       "      <td>4.463059e+31</td>\n",
       "    </tr>\n",
       "    <tr>\n",
       "      <th>62.931034</th>\n",
       "      <td>4.557939e+33</td>\n",
       "      <td>6.056067e+32</td>\n",
       "      <td>3.138325e+33</td>\n",
       "      <td>3.046623e+32</td>\n",
       "      <td>1.857668e+32</td>\n",
       "      <td>4.602379e+31</td>\n",
       "      <td>4.083700e+31</td>\n",
       "    </tr>\n",
       "    <tr>\n",
       "      <th>65.689655</th>\n",
       "      <td>4.198352e+33</td>\n",
       "      <td>6.600269e+32</td>\n",
       "      <td>2.850087e+33</td>\n",
       "      <td>2.761205e+32</td>\n",
       "      <td>1.683411e+32</td>\n",
       "      <td>4.165251e+31</td>\n",
       "      <td>3.694923e+31</td>\n",
       "    </tr>\n",
       "    <tr>\n",
       "      <th>68.448276</th>\n",
       "      <td>3.793695e+33</td>\n",
       "      <td>7.748765e+32</td>\n",
       "      <td>2.541139e+33</td>\n",
       "      <td>2.470036e+32</td>\n",
       "      <td>1.505712e+32</td>\n",
       "      <td>3.718617e+31</td>\n",
       "      <td>3.297673e+31</td>\n",
       "    </tr>\n",
       "    <tr>\n",
       "      <th>71.206897</th>\n",
       "      <td>3.474131e+33</td>\n",
       "      <td>9.848790e+32</td>\n",
       "      <td>2.303693e+33</td>\n",
       "      <td>2.173991e+32</td>\n",
       "      <td>1.325240e+32</td>\n",
       "      <td>3.263630e+31</td>\n",
       "      <td>2.892893e+31</td>\n",
       "    </tr>\n",
       "    <tr>\n",
       "      <th>73.965517</th>\n",
       "      <td>3.117238e+33</td>\n",
       "      <td>1.254822e+33</td>\n",
       "      <td>2.016321e+33</td>\n",
       "      <td>1.874308e+32</td>\n",
       "      <td>1.142548e+32</td>\n",
       "      <td>2.801595e+31</td>\n",
       "      <td>2.481548e+31</td>\n",
       "    </tr>\n",
       "    <tr>\n",
       "      <th>76.724138</th>\n",
       "      <td>2.817036e+33</td>\n",
       "      <td>1.624290e+33</td>\n",
       "      <td>1.705284e+33</td>\n",
       "      <td>1.572718e+32</td>\n",
       "      <td>9.586103e+31</td>\n",
       "      <td>2.333883e+31</td>\n",
       "      <td>2.064687e+31</td>\n",
       "    </tr>\n",
       "    <tr>\n",
       "      <th>79.482759</th>\n",
       "      <td>2.550992e+33</td>\n",
       "      <td>2.051898e+33</td>\n",
       "      <td>1.491211e+33</td>\n",
       "      <td>1.271555e+32</td>\n",
       "      <td>7.750286e+31</td>\n",
       "      <td>1.862248e+31</td>\n",
       "      <td>1.643427e+31</td>\n",
       "    </tr>\n",
       "    <tr>\n",
       "      <th>82.241379</th>\n",
       "      <td>2.345038e+33</td>\n",
       "      <td>2.589688e+33</td>\n",
       "      <td>1.363898e+33</td>\n",
       "      <td>9.758894e+31</td>\n",
       "      <td>5.955493e+31</td>\n",
       "      <td>1.389051e+31</td>\n",
       "      <td>1.219166e+31</td>\n",
       "    </tr>\n",
       "    <tr>\n",
       "      <th>85.000000</th>\n",
       "      <td>2.201214e+33</td>\n",
       "      <td>3.235704e+33</td>\n",
       "      <td>1.397239e+33</td>\n",
       "      <td>7.054477e+31</td>\n",
       "      <td>4.362031e+31</td>\n",
       "      <td>9.200700e+30</td>\n",
       "      <td>7.941629e+30</td>\n",
       "    </tr>\n",
       "  </tbody>\n",
       "</table>\n",
       "</div>"
      ],
      "text/plain": [
       "              277539431    237880881a    237880881b      44984200  \\\n",
       "5.000000   9.458330e+33  8.943701e+32  6.701118e+33  6.621809e+32   \n",
       "7.758621   9.396570e+33  8.931704e+32  6.656416e+33  6.586572e+32   \n",
       "10.517241  9.342818e+33  8.830182e+32  6.616057e+33  6.536124e+32   \n",
       "13.275862  9.245210e+33  8.756397e+32  6.549663e+33  6.470581e+32   \n",
       "16.034483  9.133410e+33  8.676000e+32  6.470228e+33  6.390096e+32   \n",
       "18.793103  8.990290e+33  8.568329e+32  6.376551e+33  6.294864e+32   \n",
       "21.551724  8.846006e+33  8.479709e+32  6.252817e+33  6.185112e+32   \n",
       "24.310345  8.679366e+33  8.335185e+32  6.143377e+33  6.061088e+32   \n",
       "27.068966  8.484418e+33  8.157049e+32  5.999263e+33  5.923075e+32   \n",
       "29.827586  8.277883e+33  8.032275e+32  5.853988e+33  5.771401e+32   \n",
       "32.586207  8.055725e+33  7.839344e+32  5.700804e+33  5.606428e+32   \n",
       "35.344828  7.803341e+33  7.628719e+32  5.516719e+33  5.428534e+32   \n",
       "38.103448  7.541034e+33  7.494592e+32  5.331281e+33  5.238141e+32   \n",
       "40.862069  7.259193e+33  7.258187e+32  5.129433e+33  5.035698e+32   \n",
       "43.620690  6.977745e+33  7.069404e+32  4.892635e+33  4.821679e+32   \n",
       "46.379310  6.671583e+33  6.881555e+32  4.693588e+33  4.596595e+32   \n",
       "49.137931  6.346288e+33  6.587281e+32  4.438080e+33  4.360984e+32   \n",
       "51.896552  5.988237e+33  6.416230e+32  4.180781e+33  4.115461e+32   \n",
       "54.655172  5.649840e+33  6.275310e+32  3.944590e+33  3.860577e+32   \n",
       "57.413793  5.288331e+33  6.005073e+32  3.669414e+33  3.597014e+32   \n",
       "60.172414  4.936726e+33  5.953289e+32  3.389694e+33  3.325492e+32   \n",
       "62.931034  4.557939e+33  6.056067e+32  3.138325e+33  3.046623e+32   \n",
       "65.689655  4.198352e+33  6.600269e+32  2.850087e+33  2.761205e+32   \n",
       "68.448276  3.793695e+33  7.748765e+32  2.541139e+33  2.470036e+32   \n",
       "71.206897  3.474131e+33  9.848790e+32  2.303693e+33  2.173991e+32   \n",
       "73.965517  3.117238e+33  1.254822e+33  2.016321e+33  1.874308e+32   \n",
       "76.724138  2.817036e+33  1.624290e+33  1.705284e+33  1.572718e+32   \n",
       "79.482759  2.550992e+33  2.051898e+33  1.491211e+33  1.271555e+32   \n",
       "82.241379  2.345038e+33  2.589688e+33  1.363898e+33  9.758894e+31   \n",
       "85.000000  2.201214e+33  3.235704e+33  1.397239e+33  7.054477e+31   \n",
       "\n",
       "              44984200a     44984200b     100004076  \n",
       "5.000000   4.040224e+32  1.005602e+32  8.933709e+31  \n",
       "7.758621   4.018709e+32  1.000222e+32  8.885821e+31  \n",
       "10.517241  3.987908e+32  9.925253e+31  8.817343e+31  \n",
       "13.275862  3.947893e+32  9.825309e+31  8.728433e+31  \n",
       "16.034483  3.898755e+32  9.702616e+31  8.619297e+31  \n",
       "18.793103  3.840613e+32  9.557458e+31  8.490188e+31  \n",
       "21.551724  3.773601e+32  9.390171e+31  8.341407e+31  \n",
       "24.310345  3.697872e+32  9.201144e+31  8.173297e+31  \n",
       "27.068966  3.613607e+32  8.990814e+31  7.986248e+31  \n",
       "29.827586  3.521008e+32  8.759671e+31  7.780695e+31  \n",
       "32.586207  3.420288e+32  8.508258e+31  7.557113e+31  \n",
       "35.344828  3.311682e+32  8.237151e+31  7.316024e+31  \n",
       "38.103448  3.195448e+32  7.946984e+31  7.057988e+31  \n",
       "40.862069  3.071866e+32  7.638426e+31  6.783608e+31  \n",
       "43.620690  2.941236e+32  7.312198e+31  6.493515e+31  \n",
       "46.379310  2.803864e+32  6.969063e+31  6.188382e+31  \n",
       "49.137931  2.660065e+32  6.609819e+31  5.868919e+31  \n",
       "51.896552  2.510181e+32  6.235307e+31  5.535866e+31  \n",
       "54.655172  2.354583e+32  5.846381e+31  5.189993e+31  \n",
       "57.413793  2.193669e+32  5.443951e+31  4.832115e+31  \n",
       "60.172414  2.027902e+32  5.028963e+31  4.463059e+31  \n",
       "62.931034  1.857668e+32  4.602379e+31  4.083700e+31  \n",
       "65.689655  1.683411e+32  4.165251e+31  3.694923e+31  \n",
       "68.448276  1.505712e+32  3.718617e+31  3.297673e+31  \n",
       "71.206897  1.325240e+32  3.263630e+31  2.892893e+31  \n",
       "73.965517  1.142548e+32  2.801595e+31  2.481548e+31  \n",
       "76.724138  9.586103e+31  2.333883e+31  2.064687e+31  \n",
       "79.482759  7.750286e+31  1.862248e+31  1.643427e+31  \n",
       "82.241379  5.955493e+31  1.389051e+31  1.219166e+31  \n",
       "85.000000  4.362031e+31  9.200700e+30  7.941629e+30  "
      ]
     },
     "execution_count": 165,
     "metadata": {},
     "output_type": "execute_result"
    }
   ],
   "source": [
    "# reform = {(outerKey, innerKey): values for outerKey, \n",
    "#           innerDict in est.items() for innerKey, \n",
    "#           values in innerDict.items()}\n",
    "esti = pd.DataFrame(est)\n",
    "esti"
   ]
  },
  {
   "cell_type": "code",
   "execution_count": 190,
   "metadata": {},
   "outputs": [
    {
     "name": "stdout",
     "output_type": "stream",
     "text": [
      "2.345038241554055e+33\n",
      "237880881a\n",
      "6.005072879394382e+32\n",
      "3.669413702184464e+33\n",
      "2.1739909388401887e+32\n",
      "44984200a\n",
      "4.362031220491113e+31\n",
      "9.200699955836329e+30\n",
      "6.188381775283679e+31\n"
     ]
    },
    {
     "data": {
      "image/png": "[encoded data removed]",
      "text/plain": [
       "<Figure size 432x468 with 1 Axes>"
      ]
     },
     "metadata": {
      "needs_background": "light"
     },
     "output_type": "display_data"
    }
   ],
   "source": [
    "plt.figure(figsize=(6,6.5))\n",
    "for col in esti:\n",
    "\n",
    "    if \"a\" in col:\n",
    "        print(col)\n",
    "        _ = res[(res.ID.str[:5] == col[:5]) & (res.suffix == \"a\")]\n",
    "        suff = \" (I)\"\n",
    "    elif \"b\" in col:\n",
    "        _ = res[(res.ID.str[:5] == col[:5]) & (res.suffix == \"b\")]\n",
    "        suff = \" (II)\"\n",
    "      \n",
    "    else:\n",
    "        _ = res[(res.ID.str[:5] == col[:5]) & (res.suffix == \"\")]\n",
    "        suff = \"\"\n",
    "    c = _.iloc[0].color\n",
    "    l = _.iloc[0].linestyle\n",
    "    lab = str(props[props.ID == int(_.ID)].iloc[0].prefix) + \" \" +  _.iloc[0].ID[:3] + suff\n",
    "    plt.plot(esti.index, esti[col], color =c, label=lab, linestyle=l, linewidth=2)\n",
    "    I = np.argmin(np.abs(esti.index.values - _.iloc[0].latitude_deg_50))\n",
    "    en = esti.loc[esti.index[I], str(col)]\n",
    "    print( esti.loc[esti.index[I], str(col)])\n",
    "    plt.scatter(x=_.latitude_deg_50, y=en, c=c)\n",
    "\n",
    "plt.legend(frameon=False, fontsize=12)\n",
    "plt.xlim(5,85)\n",
    "plt.yscale(\"log\")\n",
    "plt.tight_layout()\n",
    "# plt.ylabel(r\"$ED$ [s]\", fontsize=14)\n",
    "plt.ylabel(r\"$E_\\mathrm{flare}$ [erg]\", fontsize=14)\n",
    "\n",
    "plt.xlabel(r\"$\\theta_f$ [deg]\", fontsize=14);"
   ]
  },
  {
   "cell_type": "code",
   "execution_count": 84,
   "metadata": {},
   "outputs": [
    {
     "data": {
      "text/plain": [
       "[<matplotlib.lines.Line2D at 0x7fd5f00cadd8>]"
      ]
     },
     "execution_count": 84,
     "metadata": {},
     "output_type": "execute_result"
    },
    {
     "data": {
      "image/png": "[encoded data removed]",
      "text/plain": [
       "<Figure size 432x288 with 1 Axes>"
      ]
     },
     "metadata": {
      "needs_background": "light"
     },
     "output_type": "display_data"
    }
   ],
   "source": [
    "plt.plot(flc.time, flc.detrended_flux)\n",
    "plt.plot(flc.time, flc.it_med)"
   ]
  },
  {
   "cell_type": "code",
   "execution_count": 85,
   "metadata": {},
   "outputs": [
    {
     "data": {
      "text/plain": [
       "2868.7908427679163"
      ]
     },
     "execution_count": 85,
     "metadata": {},
     "output_type": "execute_result"
    }
   ],
   "source": [
    "equivalent_duration(flc,0,-4)"
   ]
  },
  {
   "cell_type": "code",
   "execution_count": 54,
   "metadata": {},
   "outputs": [
    {
     "data": {
      "text/plain": [
       "891"
      ]
     },
     "execution_count": 54,
     "metadata": {},
     "output_type": "execute_result"
    }
   ],
   "source": [
    "len(time)"
   ]
  },
  {
   "cell_type": "code",
   "execution_count": 109,
   "metadata": {},
   "outputs": [
    {
     "data": {
      "text/plain": [
       "'100004076'"
      ]
     },
     "execution_count": 109,
     "metadata": {},
     "output_type": "execute_result"
    }
   ],
   "source": [
    "row.ID"
   ]
  },
  {
   "cell_type": "markdown",
   "metadata": {},
   "source": [
    "# Inclinations from Elisabeth"
   ]
  },
  {
   "cell_type": "code",
   "execution_count": 161,
   "metadata": {},
   "outputs": [
    {
     "data": {
      "text/html": [
       "<div>\n",
       "<style scoped>\n",
       "    .dataframe tbody tr th:only-of-type {\n",
       "        vertical-align: middle;\n",
       "    }\n",
       "\n",
       "    .dataframe tbody tr th {\n",
       "        vertical-align: top;\n",
       "    }\n",
       "\n",
       "    .dataframe thead th {\n",
       "        text-align: right;\n",
       "    }\n",
       "</style>\n",
       "<table border=\"1\" class=\"dataframe\">\n",
       "  <thead>\n",
       "    <tr style=\"text-align: right;\">\n",
       "      <th></th>\n",
       "      <th>prefix</th>\n",
       "      <th>id</th>\n",
       "      <th>inclination</th>\n",
       "      <th>inclination_lowerr</th>\n",
       "      <th>inclination_uperr</th>\n",
       "    </tr>\n",
       "  </thead>\n",
       "  <tbody>\n",
       "    <tr>\n",
       "      <th>0</th>\n",
       "      <td>KIC</td>\n",
       "      <td>100004076</td>\n",
       "      <td>58.592186</td>\n",
       "      <td>-13.990519</td>\n",
       "      <td>18.499819</td>\n",
       "    </tr>\n",
       "    <tr>\n",
       "      <th>1</th>\n",
       "      <td>TIC</td>\n",
       "      <td>237880881</td>\n",
       "      <td>22.210949</td>\n",
       "      <td>-3.943153</td>\n",
       "      <td>4.006488</td>\n",
       "    </tr>\n",
       "    <tr>\n",
       "      <th>2</th>\n",
       "      <td>TIC</td>\n",
       "      <td>44984200</td>\n",
       "      <td>33.159762</td>\n",
       "      <td>-0.868109</td>\n",
       "      <td>0.838674</td>\n",
       "    </tr>\n",
       "    <tr>\n",
       "      <th>3</th>\n",
       "      <td>TIC</td>\n",
       "      <td>277539431</td>\n",
       "      <td>82.895193</td>\n",
       "      <td>-5.781124</td>\n",
       "      <td>4.903759</td>\n",
       "    </tr>\n",
       "  </tbody>\n",
       "</table>\n",
       "</div>"
      ],
      "text/plain": [
       "  prefix         id  inclination  inclination_lowerr  inclination_uperr\n",
       "0    KIC  100004076    58.592186          -13.990519          18.499819\n",
       "1    TIC  237880881    22.210949           -3.943153           4.006488\n",
       "2    TIC   44984200    33.159762           -0.868109           0.838674\n",
       "3    TIC  277539431    82.895193           -5.781124           4.903759"
      ]
     },
     "execution_count": 161,
     "metadata": {},
     "output_type": "execute_result"
    }
   ],
   "source": [
    "incl = pd.read_csv(f\"{CWD}/data/inclinations/inclination_output.dat\", delimiter=r\"\\s+\")\n",
    "incl"
   ]
  },
  {
   "cell_type": "code",
   "execution_count": null,
   "metadata": {},
   "outputs": [],
   "source": []
  }
 ],
 "metadata": {
  "kernelspec": {
   "display_name": "forallpurposes",
   "language": "python",
   "name": "forallpurposes"
  },
  "language_info": {
   "codemirror_mode": {
    "name": "ipython",
    "version": 3
   },
   "file_extension": ".py",
   "mimetype": "text/x-python",
   "name": "python",
   "nbconvert_exporter": "python",
   "pygments_lexer": "ipython3",
   "version": "3.6.9"
  }
 },
 "nbformat": 4,
 "nbformat_minor": 2
}

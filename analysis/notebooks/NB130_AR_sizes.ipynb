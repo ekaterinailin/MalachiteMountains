{
 "cells": [
  {
   "cell_type": "code",
   "execution_count": 1,
   "metadata": {},
   "outputs": [
    {
     "name": "stderr",
     "output_type": "stream",
     "text": [
      "/home/ekaterina/Documents/000_envs/forallpurposes/lib/python3.6/importlib/_bootstrap.py:219: RuntimeWarning: numpy.ufunc size changed, may indicate binary incompatibility. Expected 192 from C header, got 216 from PyObject\n",
      "  return f(*args, **kwds)\n",
      "NumExpr defaulting to 8 threads.\n"
     ]
    }
   ],
   "source": [
    "import numpy as np\n",
    "from astropy.constants import R_sun, M_sun, G, k_B, m_p\n",
    "import astropy.units as u\n",
    "\n",
    "from funcs.model import calculate_specific_flare_flux, calculate_angular_radius\n",
    "\n",
    "def get_frac_area(radius):\n",
    "    return np.sin(radius / 180 * np.pi / 2.)**2\n",
    "\n",
    "\n",
    "import matplotlib.pyplot as plt\n",
    "%matplotlib inline\n",
    "\n",
    "\n",
    "import matplotlib \n",
    "matplotlib.rc('xtick', labelsize=15) \n",
    "matplotlib.rc('ytick', labelsize=15) \n",
    "\n",
    "font = {'family' : 'courier',\n",
    "        'weight' : 'normal',\n",
    "        'size'   : 15}"
   ]
  },
  {
   "cell_type": "markdown",
   "metadata": {},
   "source": [
    "# 10kK assumption"
   ]
  },
  {
   "cell_type": "code",
   "execution_count": 2,
   "metadata": {},
   "outputs": [
    {
     "data": {
      "text/latex": [
       "$1.380649 \\times 10^{-23} \\; \\mathrm{\\frac{J}{K}}$"
      ],
      "text/plain": [
       "<<class 'astropy.constants.codata2018.CODATA2018'> name='Boltzmann constant' value=1.380649e-23 uncertainty=0.0 unit='J / K' reference='CODATA 2018'>"
      ]
     },
     "execution_count": 2,
     "metadata": {},
     "output_type": "execute_result"
    }
   ],
   "source": [
    "k_B"
   ]
  },
  {
   "cell_type": "code",
   "execution_count": 3,
   "metadata": {},
   "outputs": [
    {
     "data": {
      "text/latex": [
       "$3.577011 \\times 10^{10} \\; \\mathrm{\\frac{erg}{s\\,cm^{2}}}$"
      ],
      "text/plain": [
       "<Quantity 3.57701096e+10 erg / (cm2 s)>"
      ]
     },
     "execution_count": 3,
     "metadata": {},
     "output_type": "execute_result"
    }
   ],
   "source": [
    "calculate_specific_flare_flux(\"TESS\", flaret=7e3)"
   ]
  },
  {
   "cell_type": "code",
   "execution_count": 4,
   "metadata": {},
   "outputs": [],
   "source": [
    "a = 1.\n",
    "qlum = 1e29 * u.erg / u.s\n",
    "R = .5 * R_sun\n",
    "Teff = np.linspace(5e3,5e4,20)\n",
    "Fth = [calculate_specific_flare_flux(\"TESS\", flaret=t) for t in Teff]\n",
    "radius = [calculate_angular_radius(fth, a, qlum, R) for fth in Fth]\n",
    "fill_factor = get_frac_area(np.array(radius)) * 4."
   ]
  },
  {
   "cell_type": "code",
   "execution_count": 5,
   "metadata": {},
   "outputs": [
    {
     "data": {
      "text/plain": [
       "[<matplotlib.lines.Line2D at 0x7f4004e0f7b8>]"
      ]
     },
     "execution_count": 5,
     "metadata": {},
     "output_type": "execute_result"
    },
    {
     "data": {
      "image/png": "[encoded data removed]",
      "text/plain": [
       "<Figure size 432x288 with 1 Axes>"
      ]
     },
     "metadata": {
      "needs_background": "light"
     },
     "output_type": "display_data"
    }
   ],
   "source": [
    "plt.plot(Teff, fill_factor)\n",
    "#plt.yscale(\"log\")"
   ]
  },
  {
   "cell_type": "code",
   "execution_count": 6,
   "metadata": {},
   "outputs": [
    {
     "data": {
      "text/plain": [
       "array([2.31087928e-03, 6.33670568e-04, 3.08814278e-04, 1.92164945e-04,\n",
       "       1.35977478e-04, 1.03931929e-04, 8.35604071e-05, 6.96014625e-05,\n",
       "       5.94993948e-05, 5.18794461e-05, 4.59426404e-05, 4.11956193e-05,\n",
       "       3.73185269e-05, 3.40955297e-05, 3.13760390e-05, 2.90519726e-05,\n",
       "       2.70438507e-05, 2.52919845e-05, 2.37507160e-05, 2.23845484e-05])"
      ]
     },
     "execution_count": 6,
     "metadata": {},
     "output_type": "execute_result"
    }
   ],
   "source": [
    "fill_factor"
   ]
  },
  {
   "cell_type": "code",
   "execution_count": 27,
   "metadata": {},
   "outputs": [
    {
     "data": {
      "text/latex": [
       "$0.054286721 \\; \\mathrm{\\frac{1}{d}}$"
      ],
      "text/plain": [
       "<Quantity 0.05428672 1 / d>"
      ]
     },
     "execution_count": 27,
     "metadata": {},
     "output_type": "execute_result"
    }
   ],
   "source": [
    "(1e-7 / u.s * np.pi * 2).to(\"1/d\")"
   ]
  },
  {
   "cell_type": "code",
   "execution_count": 28,
   "metadata": {},
   "outputs": [
    {
     "ename": "SyntaxError",
     "evalue": "invalid syntax (<ipython-input-28-b2ec6745cc59>, line 1)",
     "output_type": "error",
     "traceback": [
      "\u001b[0;36m  File \u001b[0;32m\"<ipython-input-28-b2ec6745cc59>\"\u001b[0;36m, line \u001b[0;32m1\u001b[0m\n\u001b[0;31m    2piR/P = vsini / sin i\u001b[0m\n\u001b[0m       ^\u001b[0m\n\u001b[0;31mSyntaxError\u001b[0m\u001b[0;31m:\u001b[0m invalid syntax\n"
     ]
    }
   ],
   "source": [
    "2piR/P = vsini / sin i\n",
    "\n",
    "sin i = vsini * P / 2piR"
   ]
  },
  {
   "cell_type": "markdown",
   "metadata": {},
   "source": [
    "# back of the envelope calculation: pressure scale height"
   ]
  },
  {
   "cell_type": "code",
   "execution_count": 25,
   "metadata": {},
   "outputs": [],
   "source": [
    "M = 0.16\n",
    "Teff = 3030. * u.K\n",
    "R =  0.199\n",
    "g = G * (M * M_sun) / (R * R_sun)**2"
   ]
  },
  {
   "cell_type": "code",
   "execution_count": 26,
   "metadata": {},
   "outputs": [],
   "source": [
    "H = k_B * Teff / (m_p * g)"
   ]
  },
  {
   "cell_type": "code",
   "execution_count": 27,
   "metadata": {},
   "outputs": [
    {
     "data": {
      "text/latex": [
       "$22575.983 \\; \\mathrm{m}$"
      ],
      "text/plain": [
       "<Quantity 22575.98298498 m>"
      ]
     },
     "execution_count": 27,
     "metadata": {},
     "output_type": "execute_result"
    }
   ],
   "source": [
    "H.decompose()"
   ]
  },
  {
   "cell_type": "code",
   "execution_count": 19,
   "metadata": {},
   "outputs": [
    {
     "data": {
      "text/latex": [
       "$13837.9 \\; \\mathrm{m}$"
      ],
      "text/plain": [
       "<Quantity 13837.89950645 m>"
      ]
     },
     "execution_count": 19,
     "metadata": {},
     "output_type": "execute_result"
    }
   ],
   "source": [
    "H.decompose()"
   ]
  },
  {
   "cell_type": "code",
   "execution_count": 20,
   "metadata": {},
   "outputs": [
    {
     "data": {
      "text/plain": [
       "0.07666666666666667"
      ]
     },
     "execution_count": 20,
     "metadata": {},
     "output_type": "execute_result"
    }
   ],
   "source": [
    "13.8 / 180. #M6"
   ]
  },
  {
   "cell_type": "code",
   "execution_count": 24,
   "metadata": {},
   "outputs": [
    {
     "data": {
      "text/plain": [
       "0.05277777777777778"
      ]
     },
     "execution_count": 24,
     "metadata": {},
     "output_type": "execute_result"
    }
   ],
   "source": [
    "9.5 / 180. #L1"
   ]
  },
  {
   "cell_type": "code",
   "execution_count": 28,
   "metadata": {},
   "outputs": [
    {
     "data": {
      "text/plain": [
       "0.12555555555555556"
      ]
     },
     "execution_count": 28,
     "metadata": {},
     "output_type": "execute_result"
    }
   ],
   "source": [
    "22.6 / 180. #M5"
   ]
  },
  {
   "cell_type": "markdown",
   "metadata": {},
   "source": [
    "The pressure scale heights of the stars in our sample are about $5-13 \\%$ of the solar"
   ]
  },
  {
   "cell_type": "code",
   "execution_count": 32,
   "metadata": {},
   "outputs": [
    {
     "name": "stdout",
     "output_type": "stream",
     "text": [
      "1.6324254591918916e-07 1 / m 1.2761973081640357e-07 1 / m 2.58732212160414e-07 1 / m\n"
     ]
    }
   ],
   "source": [
    "print(22.6 / (.199 * R_sun), 9.5 / (.107 * R_sun), 180. / (1. * R_sun) )"
   ]
  },
  {
   "cell_type": "code",
   "execution_count": 36,
   "metadata": {},
   "outputs": [
    {
     "data": {
      "text/plain": [
       "(0.6293436293436293, 0.4942084942084942)"
      ]
     },
     "execution_count": 36,
     "metadata": {},
     "output_type": "execute_result"
    }
   ],
   "source": [
    "1.63 / 2.59, 1.28/2.59"
   ]
  },
  {
   "cell_type": "markdown",
   "metadata": {},
   "source": [
    "The relative height of atmospheres on M5-L1 dwarfs is $50-63\\%$ percent of the relative solar height."
   ]
  },
  {
   "cell_type": "markdown",
   "metadata": {},
   "source": [
    "# latitude vs. flux"
   ]
  },
  {
   "cell_type": "code",
   "execution_count": 7,
   "metadata": {},
   "outputs": [],
   "source": [
    "from altaipony.altai import equivalent_duration\n",
    "from altaipony.flarelc import FlareLightCurve\n",
    "import os\n",
    "CWD = \"/\".join(os.getcwd().split(\"/\")[:-2])\n",
    "import pandas as pd\n",
    "\n",
    "\n",
    "# Plot stuff\n",
    "from funcs.model import full_model, aflare"
   ]
  },
  {
   "cell_type": "code",
   "execution_count": 8,
   "metadata": {},
   "outputs": [],
   "source": [
    "# Datasets we analysed\n",
    "datasets = [(100004076, \"\", \"03_10_2020_11_27\"),\n",
    "            (237880881, \"a\", \"03_10_2020_11_29\"),\n",
    "            (237880881, \"b\", \"03_10_2020_11_29\"),\n",
    "            (277539431, \"\", \"03_10_2020_11_30\"),\n",
    "             (44984200, \"a\", \"04_08_2020_13_40\"),\n",
    "             (44984200, \"b\", \"04_08_2020_13_40\"),\n",
    "             (44984200, \"\", \"02_08_2020_17_44\"),\n",
    "            ]"
   ]
  },
  {
   "cell_type": "code",
   "execution_count": 9,
   "metadata": {},
   "outputs": [],
   "source": [
    "res= pd.read_csv(f\"{CWD}/analysis/results/mcmc/mcmcoutput.csv\").loc[:6]\n",
    "res.suffix = res.suffix.fillna(\"\").astype(str)\n",
    "vals = list(res.columns.values)\n",
    "vals.remove(\"suffix\")\n",
    "vals.remove(\"tstamp\")\n",
    "vals.remove(\"color\")\n",
    "vals.remove(\"linestyle\")\n",
    "vals.remove(\"ID\")\n",
    "res[vals] = res[vals].astype(float) "
   ]
  },
  {
   "cell_type": "code",
   "execution_count": 30,
   "metadata": {},
   "outputs": [
    {
     "name": "stdout",
     "output_type": "stream",
     "text": [
      "ID                             277539431\n",
      "QCS                                   12\n",
      "typ                                  slc\n",
      "cadence_min                            2\n",
      "mission                             tess\n",
      "prefix                               TIC\n",
      "origin                            custom\n",
      "h_mission                           TESS\n",
      "SpT                                   M7\n",
      "view_start                          1641\n",
      "view_stop                         1643.5\n",
      "view_min                             750\n",
      "view_max                             970\n",
      "BJDoff                           2457000\n",
      "tstart                           1641.84\n",
      "ampl_min                             0.9\n",
      "ampl_max                             1.7\n",
      "GRP                                 1.52\n",
      "plxmas                           72.9672\n",
      "eplxmas                            0.569\n",
      "RA                               163.815\n",
      "Dec                             -73.9364\n",
      "J                                  10.63\n",
      "R                                    NaN\n",
      "Gaia_G                           14.7381\n",
      "vsini_kms                           38.6\n",
      "e_vsini_kms                            1\n",
      "Prot_d                              0.19\n",
      "sini                                 NaN\n",
      "Ref                            this work\n",
      "identifier     WISEA J105515.71-735611.3\n",
      "Rstar                                NaN\n",
      "idtyp                               tess\n",
      "id                             277539431\n",
      "st                                    M7\n",
      "desig_2mass             10551532-7356091\n",
      "dist                             13.7047\n",
      "dist_err                        0.106872\n",
      "dist_source                         gaia\n",
      "rad                             0.145216\n",
      "rad_err                       0.00437047\n",
      "tflux                        5.01119e-11\n",
      "tfluxerr                     4.61344e-12\n",
      "tlum                         1.12637e+30\n",
      "tlumerr                      1.05174e+29\n",
      "kflux                        1.38073e-11\n",
      "kfluxerr                     1.51724e-12\n",
      "klum                         3.10348e+29\n",
      "klumerr                      3.44449e+28\n",
      "gmag                             14.7381\n",
      "jmag                               10.63\n",
      "kmag                               9.666\n",
      "i_mu                             1.52021\n",
      "i_sigma                        0.0416149\n",
      "Name: 3, dtype: object\n",
      "ID: 277539431\n",
      "\n",
      "ID                           237880881\n",
      "QCS                                  1\n",
      "typ                                slc\n",
      "cadence_min                          2\n",
      "mission                           tess\n",
      "prefix                             TIC\n",
      "origin                         generic\n",
      "h_mission                         TESS\n",
      "SpT                                 M5\n",
      "view_start                        1331\n",
      "view_stop                       1333.5\n",
      "view_min                           560\n",
      "view_max                           700\n",
      "BJDoff                         2457000\n",
      "tstart                          1331.7\n",
      "ampl_min                           NaN\n",
      "ampl_max                           NaN\n",
      "GRP                                NaN\n",
      "plxmas                             NaN\n",
      "eplxmas                            NaN\n",
      "RA                              19.528\n",
      "Dec                           -62.9831\n",
      "J                                11.53\n",
      "R                                  NaN\n",
      "Gaia_G                         14.9796\n",
      "vsini_kms                         14.4\n",
      "e_vsini_kms                        2.6\n",
      "Prot_d                         0.35125\n",
      "sini                               NaN\n",
      "Ref                           Kraus+14\n",
      "identifier     2MASS J01180670-6258591\n",
      "Rstar                            0.199\n",
      "idtyp                             tess\n",
      "id                           237880881\n",
      "st                                  M5\n",
      "desig_2mass           01180670-6258591\n",
      "dist                           46.0681\n",
      "dist_err                      0.143774\n",
      "dist_source                       gaia\n",
      "rad                           0.275151\n",
      "rad_err                     0.00803926\n",
      "tflux                      3.49265e-11\n",
      "tfluxerr                   2.21194e-12\n",
      "tlum                       8.87069e+30\n",
      "tlumerr                    5.64514e+29\n",
      "kflux                      1.27267e-11\n",
      "kfluxerr                   6.84475e-13\n",
      "klum                       3.23236e+30\n",
      "klumerr                    1.75011e+29\n",
      "gmag                           14.9796\n",
      "jmag                             11.53\n",
      "kmag                            10.636\n",
      "i_mu                          0.371856\n",
      "i_sigma                      0.0402463\n",
      "Name: 1, dtype: object\n",
      "ID: 237880881\n",
      "\n",
      "ID                           237880881\n",
      "QCS                                  1\n",
      "typ                                slc\n",
      "cadence_min                          2\n",
      "mission                           tess\n",
      "prefix                             TIC\n",
      "origin                         generic\n",
      "h_mission                         TESS\n",
      "SpT                                 M5\n",
      "view_start                        1331\n",
      "view_stop                       1333.5\n",
      "view_min                           560\n",
      "view_max                           700\n",
      "BJDoff                         2457000\n",
      "tstart                          1331.7\n",
      "ampl_min                           NaN\n",
      "ampl_max                           NaN\n",
      "GRP                                NaN\n",
      "plxmas                             NaN\n",
      "eplxmas                            NaN\n",
      "RA                              19.528\n",
      "Dec                           -62.9831\n",
      "J                                11.53\n",
      "R                                  NaN\n",
      "Gaia_G                         14.9796\n",
      "vsini_kms                         14.4\n",
      "e_vsini_kms                        2.6\n",
      "Prot_d                         0.35125\n",
      "sini                               NaN\n",
      "Ref                           Kraus+14\n",
      "identifier     2MASS J01180670-6258591\n",
      "Rstar                            0.199\n",
      "idtyp                             tess\n",
      "id                           237880881\n",
      "st                                  M5\n",
      "desig_2mass           01180670-6258591\n",
      "dist                           46.0681\n",
      "dist_err                      0.143774\n",
      "dist_source                       gaia\n",
      "rad                           0.275151\n",
      "rad_err                     0.00803926\n",
      "tflux                      3.49265e-11\n",
      "tfluxerr                   2.21194e-12\n",
      "tlum                       8.87069e+30\n",
      "tlumerr                    5.64514e+29\n",
      "kflux                      1.27267e-11\n",
      "kfluxerr                   6.84475e-13\n",
      "klum                       3.23236e+30\n",
      "klumerr                    1.75011e+29\n",
      "gmag                           14.9796\n",
      "jmag                             11.53\n",
      "kmag                            10.636\n",
      "i_mu                          0.371856\n",
      "i_sigma                      0.0402463\n",
      "Name: 1, dtype: object\n",
      "ID: 237880881\n",
      "\n",
      "ID                     44984200\n",
      "QCS                          10\n",
      "typ                         slc\n",
      "cadence_min                   2\n",
      "mission                    tess\n",
      "prefix                      TIC\n",
      "origin                   custom\n",
      "h_mission                  TESS\n",
      "SpT                          M6\n",
      "view_start              1587.25\n",
      "view_stop               1589.75\n",
      "view_min                   1620\n",
      "view_max                   2200\n",
      "BJDoff                  2457000\n",
      "tstart                  1588.03\n",
      "ampl_min                    0.5\n",
      "ampl_max                    0.8\n",
      "GRP                        1.54\n",
      "plxmas                  90.0357\n",
      "eplxmas                0.222697\n",
      "RA                      129.508\n",
      "Dec                    -58.9331\n",
      "J                        10.309\n",
      "R                         15.08\n",
      "Gaia_G                  14.4115\n",
      "vsini_kms                  34.8\n",
      "e_vsini_kms                 0.8\n",
      "Prot_d                    0.113\n",
      "sini                        NaN\n",
      "Ref                   this work\n",
      "identifier       SCR J0838-5855\n",
      "Rstar                       NaN\n",
      "idtyp                      tess\n",
      "id                     44984200\n",
      "st                           M6\n",
      "desig_2mass    08380224-5855583\n",
      "dist                    11.1067\n",
      "dist_err              0.0274716\n",
      "dist_source                gaia\n",
      "rad                    0.142339\n",
      "rad_err              0.00414734\n",
      "tflux               6.30529e-11\n",
      "tfluxerr            4.37846e-12\n",
      "tlum                9.30845e+29\n",
      "tlumerr             6.48026e+28\n",
      "kflux               2.01816e-11\n",
      "kfluxerr            1.41212e-12\n",
      "klum                2.97939e+29\n",
      "klumerr             2.08991e+28\n",
      "gmag                    14.4115\n",
      "jmag                     10.309\n",
      "kmag                      9.268\n",
      "i_mu                   0.578452\n",
      "i_sigma               0.0282559\n",
      "Name: 2, dtype: object\n",
      "ID: 44984200\n",
      "\n",
      "ID                     44984200\n",
      "QCS                          10\n",
      "typ                         slc\n",
      "cadence_min                   2\n",
      "mission                    tess\n",
      "prefix                      TIC\n",
      "origin                   custom\n",
      "h_mission                  TESS\n",
      "SpT                          M6\n",
      "view_start              1587.25\n",
      "view_stop               1589.75\n",
      "view_min                   1620\n",
      "view_max                   2200\n",
      "BJDoff                  2457000\n",
      "tstart                  1588.03\n",
      "ampl_min                    0.5\n",
      "ampl_max                    0.8\n",
      "GRP                        1.54\n",
      "plxmas                  90.0357\n",
      "eplxmas                0.222697\n",
      "RA                      129.508\n",
      "Dec                    -58.9331\n",
      "J                        10.309\n",
      "R                         15.08\n",
      "Gaia_G                  14.4115\n",
      "vsini_kms                  34.8\n",
      "e_vsini_kms                 0.8\n",
      "Prot_d                    0.113\n",
      "sini                        NaN\n",
      "Ref                   this work\n",
      "identifier       SCR J0838-5855\n",
      "Rstar                       NaN\n",
      "idtyp                      tess\n",
      "id                     44984200\n",
      "st                           M6\n",
      "desig_2mass    08380224-5855583\n",
      "dist                    11.1067\n",
      "dist_err              0.0274716\n",
      "dist_source                gaia\n",
      "rad                    0.142339\n",
      "rad_err              0.00414734\n",
      "tflux               6.30529e-11\n",
      "tfluxerr            4.37846e-12\n",
      "tlum                9.30845e+29\n",
      "tlumerr             6.48026e+28\n",
      "kflux               2.01816e-11\n",
      "kfluxerr            1.41212e-12\n",
      "klum                2.97939e+29\n",
      "klumerr             2.08991e+28\n",
      "gmag                    14.4115\n",
      "jmag                     10.309\n",
      "kmag                      9.268\n",
      "i_mu                   0.578452\n",
      "i_sigma               0.0282559\n",
      "Name: 2, dtype: object\n",
      "ID: 44984200\n",
      "\n"
     ]
    },
    {
     "name": "stdout",
     "output_type": "stream",
     "text": [
      "ID                     44984200\n",
      "QCS                          10\n",
      "typ                         slc\n",
      "cadence_min                   2\n",
      "mission                    tess\n",
      "prefix                      TIC\n",
      "origin                   custom\n",
      "h_mission                  TESS\n",
      "SpT                          M6\n",
      "view_start              1587.25\n",
      "view_stop               1589.75\n",
      "view_min                   1620\n",
      "view_max                   2200\n",
      "BJDoff                  2457000\n",
      "tstart                  1588.03\n",
      "ampl_min                    0.5\n",
      "ampl_max                    0.8\n",
      "GRP                        1.54\n",
      "plxmas                  90.0357\n",
      "eplxmas                0.222697\n",
      "RA                      129.508\n",
      "Dec                    -58.9331\n",
      "J                        10.309\n",
      "R                         15.08\n",
      "Gaia_G                  14.4115\n",
      "vsini_kms                  34.8\n",
      "e_vsini_kms                 0.8\n",
      "Prot_d                    0.113\n",
      "sini                        NaN\n",
      "Ref                   this work\n",
      "identifier       SCR J0838-5855\n",
      "Rstar                       NaN\n",
      "idtyp                      tess\n",
      "id                     44984200\n",
      "st                           M6\n",
      "desig_2mass    08380224-5855583\n",
      "dist                    11.1067\n",
      "dist_err              0.0274716\n",
      "dist_source                gaia\n",
      "rad                    0.142339\n",
      "rad_err              0.00414734\n",
      "tflux               6.30529e-11\n",
      "tfluxerr            4.37846e-12\n",
      "tlum                9.30845e+29\n",
      "tlumerr             6.48026e+28\n",
      "kflux               2.01816e-11\n",
      "kfluxerr            1.41212e-12\n",
      "klum                2.97939e+29\n",
      "klumerr             2.08991e+28\n",
      "gmag                    14.4115\n",
      "jmag                     10.309\n",
      "kmag                      9.268\n",
      "i_mu                   0.578452\n",
      "i_sigma               0.0282559\n",
      "Name: 2, dtype: object\n",
      "ID: 44984200\n",
      "\n",
      "ID                             100004076\n",
      "QCS                                   14\n",
      "typ                                  slc\n",
      "cadence_min                            1\n",
      "mission                              kep\n",
      "prefix                               KIC\n",
      "origin                           generic\n",
      "h_mission                         Kepler\n",
      "SpT                                   L1\n",
      "view_start                        1356.5\n",
      "view_stop                           1361\n",
      "view_min                             600\n",
      "view_max                            1050\n",
      "BJDoff                           2454833\n",
      "tstart                           1358.55\n",
      "ampl_min                             NaN\n",
      "ampl_max                             NaN\n",
      "GRP                                  NaN\n",
      "plxmas                               NaN\n",
      "eplxmas                              NaN\n",
      "RA                                 286.7\n",
      "Dec                              40.1857\n",
      "J                                 13.078\n",
      "R                                    NaN\n",
      "Gaia_G                           17.8356\n",
      "vsini_kms                           11.2\n",
      "e_vsini_kms                          2.2\n",
      "Prot_d                           0.37015\n",
      "sini                                >.59\n",
      "Ref                             Gizis+13\n",
      "identifier     WISEP J190648.47+401106.8\n",
      "Rstar                              0.107\n",
      "idtyp                                kep\n",
      "id                             100004076\n",
      "st                                    L1\n",
      "desig_2mass             19064801+4011089\n",
      "dist                             16.7867\n",
      "dist_err                       0.0383996\n",
      "dist_source                         gaia\n",
      "rad                             0.108176\n",
      "rad_err                       0.00315119\n",
      "tflux                        3.31976e-12\n",
      "tfluxerr                     1.93746e-13\n",
      "tlum                         1.11954e+29\n",
      "tlumerr                      6.55381e+27\n",
      "kflux                        6.71299e-13\n",
      "kfluxerr                     4.27288e-14\n",
      "klum                         2.26385e+28\n",
      "klumerr                      1.44468e+27\n",
      "gmag                             17.8356\n",
      "jmag                              13.078\n",
      "kmag                              11.771\n",
      "i_mu                             1.00223\n",
      "i_sigma                         0.113213\n",
      "Name: 0, dtype: object\n",
      "ID: 100004076\n",
      "\n"
     ]
    },
    {
     "data": {
      "image/png": "[encoded data removed]",
      "text/plain": [
       "<Figure size 720x720 with 1 Axes>"
      ]
     },
     "metadata": {
      "needs_background": "light"
     },
     "output_type": "display_data"
    }
   ],
   "source": [
    "est = {}\n",
    "plt.figure(figsize=(10,10))\n",
    "for j, row in res.iterrows():\n",
    "  \n",
    "    # Get data\n",
    "    #df = pd.read_csv(f\"{CWD}/analysis/results/mcmc/{row.tstamp}_{row.ID}{row.suffix}_converted_mcmc_sample.csv\")\n",
    "    lc = pd.read_csv(f\"{CWD}/data/lcs/{row.tstamp}_{row.ID}.csv\")\n",
    "    props = pd.read_csv(f\"{CWD}/data/summary/lcsi.csv\")\n",
    "    target = props[props.ID == int(row.ID)].iloc[0]\n",
    "    print(target)\n",
    "    # Pick up the input parameters\n",
    "    inits = pd.read_csv(f\"{CWD}/data/summary/inits.csv\")\n",
    "    inits = inits[(inits.ID == str(row.ID)+row.suffix) & (inits.tstamp==row.tstamp)].iloc[0]\n",
    "\n",
    "    qlum = inits.qlum_erg_s * u.erg / u.s\n",
    "    Fth = inits.Fth * u.erg/ u.cm**2 / u.s\n",
    "    median = inits['median']\n",
    "    R = inits.R_Rsun * R_sun\n",
    "    \n",
    "     # Plot the results\n",
    "    N = 50\n",
    "    time = lc.t\n",
    "    phi = lc.phi.values\n",
    "    flux = lc.flux.values\n",
    "    #inds = np.random.randint(df.shape[0], size=N)\n",
    "\n",
    "\n",
    "    a = row.a_50\n",
    "    phi_a = (row.t0_d_50 -lc.t[0]) / target.Prot_d * 2 * np.pi \n",
    "    #theta_a = row.latitude_deg_50 / 180 * np.pi\n",
    "    fwhm = row.fwhm_d_50 / target.Prot_d * 2 * np.pi\n",
    "    #i = row.i_deg_50 / 180 * np.pi\n",
    "    i = np.pi/2\n",
    "\n",
    "    phi0 = phi_a%(2.*np.pi) - (row.phase_deg_50  / 180 * np.pi)\n",
    "    flare = aflare(phi, phi_a, fwhm, a*median)+ median\n",
    "    print(f\"ID: {row.ID}\\n\")\n",
    "    est[str(row.ID) + row.suffix] = {}\n",
    "    for theta_a in np.arange(5,85,5): \n",
    "        th = theta_a / 180. * np.pi\n",
    "        fullmodel = full_model(phi_a, th, a, fwhm, i, phi0=phi0,\n",
    "                               phi=phi, num_pts=50, qlum=qlum,\n",
    "                               Fth=Fth, R=R, median=median)\n",
    "\n",
    "        flc = FlareLightCurve(time=time, detrended_flux=fullmodel, )\n",
    "        flc.it_med = np.full_like(time, median)\n",
    "        ED = equivalent_duration(flc,0,-2)\n",
    "        est[str(row.ID) + row.suffix][theta_a] = ED * qlum.value\n",
    "        if (str(row.ID) == \"237880881\") & (str(row.suffix) == \"a\"):\n",
    "            if theta_a > 50:\n",
    "                c = \"g\"\n",
    "            else:\n",
    "                c = \"grey\"\n",
    "            plt.plot(flc.time, flc.detrended_flux, c=c, alpha=.3)\n",
    "            "
   ]
  },
  {
   "cell_type": "code",
   "execution_count": 21,
   "metadata": {},
   "outputs": [
    {
     "data": {
      "text/html": [
       "<div>\n",
       "<style scoped>\n",
       "    .dataframe tbody tr th:only-of-type {\n",
       "        vertical-align: middle;\n",
       "    }\n",
       "\n",
       "    .dataframe tbody tr th {\n",
       "        vertical-align: top;\n",
       "    }\n",
       "\n",
       "    .dataframe thead th {\n",
       "        text-align: right;\n",
       "    }\n",
       "</style>\n",
       "<table border=\"1\" class=\"dataframe\">\n",
       "  <thead>\n",
       "    <tr style=\"text-align: right;\">\n",
       "      <th></th>\n",
       "      <th>277539431</th>\n",
       "      <th>237880881a</th>\n",
       "      <th>237880881b</th>\n",
       "      <th>44984200</th>\n",
       "      <th>44984200a</th>\n",
       "      <th>44984200b</th>\n",
       "      <th>100004076</th>\n",
       "    </tr>\n",
       "  </thead>\n",
       "  <tbody>\n",
       "    <tr>\n",
       "      <th>5</th>\n",
       "      <td>9.458330e+33</td>\n",
       "      <td>8.943701e+32</td>\n",
       "      <td>6.701118e+33</td>\n",
       "      <td>6.621809e+32</td>\n",
       "      <td>4.040224e+32</td>\n",
       "      <td>1.005602e+32</td>\n",
       "      <td>8.933709e+31</td>\n",
       "    </tr>\n",
       "    <tr>\n",
       "      <th>10</th>\n",
       "      <td>9.353213e+33</td>\n",
       "      <td>8.840060e+32</td>\n",
       "      <td>6.621564e+33</td>\n",
       "      <td>6.546737e+32</td>\n",
       "      <td>3.994388e+32</td>\n",
       "      <td>9.941440e+31</td>\n",
       "      <td>8.831744e+31</td>\n",
       "    </tr>\n",
       "    <tr>\n",
       "      <th>15</th>\n",
       "      <td>9.172592e+33</td>\n",
       "      <td>8.740505e+32</td>\n",
       "      <td>6.494578e+33</td>\n",
       "      <td>6.422018e+32</td>\n",
       "      <td>3.918243e+32</td>\n",
       "      <td>9.751275e+31</td>\n",
       "      <td>8.662578e+31</td>\n",
       "    </tr>\n",
       "    <tr>\n",
       "      <th>20</th>\n",
       "      <td>8.931440e+33</td>\n",
       "      <td>8.540311e+32</td>\n",
       "      <td>6.324631e+33</td>\n",
       "      <td>6.248620e+32</td>\n",
       "      <td>3.812379e+32</td>\n",
       "      <td>9.486971e+31</td>\n",
       "      <td>8.427498e+31</td>\n",
       "    </tr>\n",
       "    <tr>\n",
       "      <th>25</th>\n",
       "      <td>8.641376e+33</td>\n",
       "      <td>8.251989e+32</td>\n",
       "      <td>6.093798e+33</td>\n",
       "      <td>6.027884e+32</td>\n",
       "      <td>3.677598e+32</td>\n",
       "      <td>9.150540e+31</td>\n",
       "      <td>8.128294e+31</td>\n",
       "    </tr>\n",
       "    <tr>\n",
       "      <th>30</th>\n",
       "      <td>8.279903e+33</td>\n",
       "      <td>8.022928e+32</td>\n",
       "      <td>5.825057e+33</td>\n",
       "      <td>5.761475e+32</td>\n",
       "      <td>3.514949e+32</td>\n",
       "      <td>8.744546e+31</td>\n",
       "      <td>7.767244e+31</td>\n",
       "    </tr>\n",
       "    <tr>\n",
       "      <th>35</th>\n",
       "      <td>7.823325e+33</td>\n",
       "      <td>7.668661e+32</td>\n",
       "      <td>5.542365e+33</td>\n",
       "      <td>5.451464e+32</td>\n",
       "      <td>3.325680e+32</td>\n",
       "      <td>8.272095e+31</td>\n",
       "      <td>7.347099e+31</td>\n",
       "    </tr>\n",
       "    <tr>\n",
       "      <th>40</th>\n",
       "      <td>7.355397e+33</td>\n",
       "      <td>7.310452e+32</td>\n",
       "      <td>5.176620e+33</td>\n",
       "      <td>5.100225e+32</td>\n",
       "      <td>3.111257e+32</td>\n",
       "      <td>7.736784e+31</td>\n",
       "      <td>6.871070e+31</td>\n",
       "    </tr>\n",
       "    <tr>\n",
       "      <th>45</th>\n",
       "      <td>6.808756e+33</td>\n",
       "      <td>6.971382e+32</td>\n",
       "      <td>4.775717e+33</td>\n",
       "      <td>4.710485e+32</td>\n",
       "      <td>2.873375e+32</td>\n",
       "      <td>7.142695e+31</td>\n",
       "      <td>6.342784e+31</td>\n",
       "    </tr>\n",
       "    <tr>\n",
       "      <th>50</th>\n",
       "      <td>6.225837e+33</td>\n",
       "      <td>6.589341e+32</td>\n",
       "      <td>4.350143e+33</td>\n",
       "      <td>4.285298e+32</td>\n",
       "      <td>2.613864e+32</td>\n",
       "      <td>6.494384e+31</td>\n",
       "      <td>5.766264e+31</td>\n",
       "    </tr>\n",
       "    <tr>\n",
       "      <th>55</th>\n",
       "      <td>5.608512e+33</td>\n",
       "      <td>6.260750e+32</td>\n",
       "      <td>3.926000e+33</td>\n",
       "      <td>3.828090e+32</td>\n",
       "      <td>2.334753e+32</td>\n",
       "      <td>5.796797e+31</td>\n",
       "      <td>5.145898e+31</td>\n",
       "    </tr>\n",
       "    <tr>\n",
       "      <th>60</th>\n",
       "      <td>4.955129e+33</td>\n",
       "      <td>5.959983e+32</td>\n",
       "      <td>3.435418e+33</td>\n",
       "      <td>3.342681e+32</td>\n",
       "      <td>2.038396e+32</td>\n",
       "      <td>5.055250e+31</td>\n",
       "      <td>4.486436e+31</td>\n",
       "    </tr>\n",
       "    <tr>\n",
       "      <th>65</th>\n",
       "      <td>4.262993e+33</td>\n",
       "      <td>6.419039e+32</td>\n",
       "      <td>2.927672e+33</td>\n",
       "      <td>2.833119e+32</td>\n",
       "      <td>1.727326e+32</td>\n",
       "      <td>4.275465e+31</td>\n",
       "      <td>3.792948e+31</td>\n",
       "    </tr>\n",
       "    <tr>\n",
       "      <th>70</th>\n",
       "      <td>3.605635e+33</td>\n",
       "      <td>8.835908e+32</td>\n",
       "      <td>2.395151e+33</td>\n",
       "      <td>2.304033e+32</td>\n",
       "      <td>1.404511e+32</td>\n",
       "      <td>3.463620e+31</td>\n",
       "      <td>3.070855e+31</td>\n",
       "    </tr>\n",
       "    <tr>\n",
       "      <th>75</th>\n",
       "      <td>2.985667e+33</td>\n",
       "      <td>1.392357e+33</td>\n",
       "      <td>1.900225e+33</td>\n",
       "      <td>1.761249e+32</td>\n",
       "      <td>1.073592e+32</td>\n",
       "      <td>2.626770e+31</td>\n",
       "      <td>2.325811e+31</td>\n",
       "    </tr>\n",
       "    <tr>\n",
       "      <th>80</th>\n",
       "      <td>2.498608e+33</td>\n",
       "      <td>2.189505e+33</td>\n",
       "      <td>1.482600e+33</td>\n",
       "      <td>1.215480e+32</td>\n",
       "      <td>7.408579e+31</td>\n",
       "      <td>1.773566e+31</td>\n",
       "      <td>1.564060e+31</td>\n",
       "    </tr>\n",
       "  </tbody>\n",
       "</table>\n",
       "</div>"
      ],
      "text/plain": [
       "       277539431    237880881a    237880881b      44984200     44984200a  \\\n",
       "5   9.458330e+33  8.943701e+32  6.701118e+33  6.621809e+32  4.040224e+32   \n",
       "10  9.353213e+33  8.840060e+32  6.621564e+33  6.546737e+32  3.994388e+32   \n",
       "15  9.172592e+33  8.740505e+32  6.494578e+33  6.422018e+32  3.918243e+32   \n",
       "20  8.931440e+33  8.540311e+32  6.324631e+33  6.248620e+32  3.812379e+32   \n",
       "25  8.641376e+33  8.251989e+32  6.093798e+33  6.027884e+32  3.677598e+32   \n",
       "30  8.279903e+33  8.022928e+32  5.825057e+33  5.761475e+32  3.514949e+32   \n",
       "35  7.823325e+33  7.668661e+32  5.542365e+33  5.451464e+32  3.325680e+32   \n",
       "40  7.355397e+33  7.310452e+32  5.176620e+33  5.100225e+32  3.111257e+32   \n",
       "45  6.808756e+33  6.971382e+32  4.775717e+33  4.710485e+32  2.873375e+32   \n",
       "50  6.225837e+33  6.589341e+32  4.350143e+33  4.285298e+32  2.613864e+32   \n",
       "55  5.608512e+33  6.260750e+32  3.926000e+33  3.828090e+32  2.334753e+32   \n",
       "60  4.955129e+33  5.959983e+32  3.435418e+33  3.342681e+32  2.038396e+32   \n",
       "65  4.262993e+33  6.419039e+32  2.927672e+33  2.833119e+32  1.727326e+32   \n",
       "70  3.605635e+33  8.835908e+32  2.395151e+33  2.304033e+32  1.404511e+32   \n",
       "75  2.985667e+33  1.392357e+33  1.900225e+33  1.761249e+32  1.073592e+32   \n",
       "80  2.498608e+33  2.189505e+33  1.482600e+33  1.215480e+32  7.408579e+31   \n",
       "\n",
       "       44984200b     100004076  \n",
       "5   1.005602e+32  8.933709e+31  \n",
       "10  9.941440e+31  8.831744e+31  \n",
       "15  9.751275e+31  8.662578e+31  \n",
       "20  9.486971e+31  8.427498e+31  \n",
       "25  9.150540e+31  8.128294e+31  \n",
       "30  8.744546e+31  7.767244e+31  \n",
       "35  8.272095e+31  7.347099e+31  \n",
       "40  7.736784e+31  6.871070e+31  \n",
       "45  7.142695e+31  6.342784e+31  \n",
       "50  6.494384e+31  5.766264e+31  \n",
       "55  5.796797e+31  5.145898e+31  \n",
       "60  5.055250e+31  4.486436e+31  \n",
       "65  4.275465e+31  3.792948e+31  \n",
       "70  3.463620e+31  3.070855e+31  \n",
       "75  2.626770e+31  2.325811e+31  \n",
       "80  1.773566e+31  1.564060e+31  "
      ]
     },
     "execution_count": 21,
     "metadata": {},
     "output_type": "execute_result"
    }
   ],
   "source": [
    "# reform = {(outerKey, innerKey): values for outerKey, \n",
    "#           innerDict in est.items() for innerKey, \n",
    "#           values in innerDict.items()}\n",
    "esti = pd.DataFrame(est)\n",
    "esti"
   ]
  },
  {
   "cell_type": "code",
   "execution_count": 29,
   "metadata": {},
   "outputs": [
    {
     "data": {
      "text/html": [
       "<div>\n",
       "<style scoped>\n",
       "    .dataframe tbody tr th:only-of-type {\n",
       "        vertical-align: middle;\n",
       "    }\n",
       "\n",
       "    .dataframe tbody tr th {\n",
       "        vertical-align: top;\n",
       "    }\n",
       "\n",
       "    .dataframe thead th {\n",
       "        text-align: right;\n",
       "    }\n",
       "</style>\n",
       "<table border=\"1\" class=\"dataframe\">\n",
       "  <thead>\n",
       "    <tr style=\"text-align: right;\">\n",
       "      <th></th>\n",
       "      <th>10</th>\n",
       "      <th>45</th>\n",
       "      <th>80</th>\n",
       "      <th>frac45</th>\n",
       "      <th>frac80</th>\n",
       "    </tr>\n",
       "  </thead>\n",
       "  <tbody>\n",
       "    <tr>\n",
       "      <th>277539431</th>\n",
       "      <td>9.353213e+33</td>\n",
       "      <td>6.808756e+33</td>\n",
       "      <td>2.498608e+33</td>\n",
       "      <td>0.727959</td>\n",
       "      <td>0.267139</td>\n",
       "    </tr>\n",
       "    <tr>\n",
       "      <th>237880881a</th>\n",
       "      <td>8.840060e+32</td>\n",
       "      <td>6.971382e+32</td>\n",
       "      <td>2.189505e+33</td>\n",
       "      <td>0.788612</td>\n",
       "      <td>2.476799</td>\n",
       "    </tr>\n",
       "    <tr>\n",
       "      <th>237880881b</th>\n",
       "      <td>6.621564e+33</td>\n",
       "      <td>4.775717e+33</td>\n",
       "      <td>1.482600e+33</td>\n",
       "      <td>0.721237</td>\n",
       "      <td>0.223905</td>\n",
       "    </tr>\n",
       "    <tr>\n",
       "      <th>44984200</th>\n",
       "      <td>6.546737e+32</td>\n",
       "      <td>4.710485e+32</td>\n",
       "      <td>1.215480e+32</td>\n",
       "      <td>0.719516</td>\n",
       "      <td>0.185662</td>\n",
       "    </tr>\n",
       "    <tr>\n",
       "      <th>44984200a</th>\n",
       "      <td>3.994388e+32</td>\n",
       "      <td>2.873375e+32</td>\n",
       "      <td>7.408579e+31</td>\n",
       "      <td>0.719353</td>\n",
       "      <td>0.185475</td>\n",
       "    </tr>\n",
       "    <tr>\n",
       "      <th>44984200b</th>\n",
       "      <td>9.941440e+31</td>\n",
       "      <td>7.142695e+31</td>\n",
       "      <td>1.773566e+31</td>\n",
       "      <td>0.718477</td>\n",
       "      <td>0.178401</td>\n",
       "    </tr>\n",
       "    <tr>\n",
       "      <th>100004076</th>\n",
       "      <td>8.831744e+31</td>\n",
       "      <td>6.342784e+31</td>\n",
       "      <td>1.564060e+31</td>\n",
       "      <td>0.718180</td>\n",
       "      <td>0.177095</td>\n",
       "    </tr>\n",
       "  </tbody>\n",
       "</table>\n",
       "</div>"
      ],
      "text/plain": [
       "                      10            45            80    frac45    frac80\n",
       "277539431   9.353213e+33  6.808756e+33  2.498608e+33  0.727959  0.267139\n",
       "237880881a  8.840060e+32  6.971382e+32  2.189505e+33  0.788612  2.476799\n",
       "237880881b  6.621564e+33  4.775717e+33  1.482600e+33  0.721237  0.223905\n",
       "44984200    6.546737e+32  4.710485e+32  1.215480e+32  0.719516  0.185662\n",
       "44984200a   3.994388e+32  2.873375e+32  7.408579e+31  0.719353  0.185475\n",
       "44984200b   9.941440e+31  7.142695e+31  1.773566e+31  0.718477  0.178401\n",
       "100004076   8.831744e+31  6.342784e+31  1.564060e+31  0.718180  0.177095"
      ]
     },
     "execution_count": 29,
     "metadata": {},
     "output_type": "execute_result"
    }
   ],
   "source": [
    "edf = esti.loc[[10,45,80]].T\n",
    "edf[\"frac45\"] = edf[45]/edf[10]\n",
    "edf[\"frac80\"] = edf[80]/edf[10]\n",
    "np.array([edf.frac45.median(), edf.frac45.std(), edf.frac80.median(), edf.frac80.std()])*100.\n",
    "edf"
   ]
  },
  {
   "cell_type": "code",
   "execution_count": 28,
   "metadata": {},
   "outputs": [
    {
     "name": "stdout",
     "output_type": "stream",
     "text": [
      "2.4986075282280465e+33\n",
      "237880881a\n",
      "5.959983419163326e+32\n",
      "3.435417793483967e+33\n",
      "2.30403343543378e+32\n",
      "44984200a\n",
      "7.408578590326474e+31\n",
      "1.7735655411059122e+31\n",
      "6.342784292180893e+31\n"
     ]
    },
    {
     "data": {
      "image/png": "[encoded data removed]",
      "text/plain": [
       "<Figure size 432x468 with 1 Axes>"
      ]
     },
     "metadata": {
      "needs_background": "light"
     },
     "output_type": "display_data"
    }
   ],
   "source": [
    "plt.figure(figsize=(6,6.5))\n",
    "res.ID = res.ID.astype(str)\n",
    "for col in esti:\n",
    "\n",
    "    if \"a\" in col:\n",
    "        print(col)\n",
    "        _ = res[(res.ID.str[:5] == col[:5]) & (res.suffix == \"a\")]\n",
    "        suff = \" (I)\"\n",
    "    elif \"b\" in col:\n",
    "        _ = res[(res.ID.str[:5] == col[:5]) & (res.suffix == \"b\")]\n",
    "        suff = \" (II)\"\n",
    "      \n",
    "    else:\n",
    "        _ = res[(res.ID.str[:5] == col[:5]) & (res.suffix == \"\")]\n",
    "        suff = \"\"\n",
    "    c = _.iloc[0].color\n",
    "    l = _.iloc[0].linestyle\n",
    "    lab = str(props[props.ID == int(_.ID)].iloc[0].prefix) + \" \" +  _.iloc[0].ID[:3] + suff\n",
    "    plt.plot(esti.index, esti[col], color =c, label=lab, linestyle=l, linewidth=2)\n",
    "    I = np.argmin(np.abs(esti.index.values - _.iloc[0].latitude_deg_50))\n",
    "    en = esti.loc[esti.index[I], str(col)]\n",
    "    print( esti.loc[esti.index[I], str(col)])\n",
    "    plt.scatter(x=_.latitude_deg_50, y=en, c=c)\n",
    "\n",
    "plt.legend(frameon=False, fontsize=12)\n",
    "plt.xlim(5,85)\n",
    "plt.yscale(\"log\")\n",
    "plt.tight_layout()\n",
    "# plt.ylabel(r\"$ED$ [s]\", fontsize=14)\n",
    "plt.ylabel(r\"$E_\\mathrm{flare}$ [erg]\", fontsize=14)\n",
    "\n",
    "plt.xlabel(r\"$\\theta_f$ [deg]\", fontsize=14);"
   ]
  },
  {
   "cell_type": "code",
   "execution_count": 84,
   "metadata": {},
   "outputs": [
    {
     "data": {
      "text/plain": [
       "[<matplotlib.lines.Line2D at 0x7fd5f00cadd8>]"
      ]
     },
     "execution_count": 84,
     "metadata": {},
     "output_type": "execute_result"
    },
    {
     "data": {
      "image/png": "[encoded data removed]",
      "text/plain": [
       "<Figure size 432x288 with 1 Axes>"
      ]
     },
     "metadata": {
      "needs_background": "light"
     },
     "output_type": "display_data"
    }
   ],
   "source": [
    "plt.plot(flc.time, flc.detrended_flux)\n",
    "plt.plot(flc.time, flc.it_med)"
   ]
  },
  {
   "cell_type": "code",
   "execution_count": 85,
   "metadata": {},
   "outputs": [
    {
     "data": {
      "text/plain": [
       "2868.7908427679163"
      ]
     },
     "execution_count": 85,
     "metadata": {},
     "output_type": "execute_result"
    }
   ],
   "source": [
    "equivalent_duration(flc,0,-4)"
   ]
  },
  {
   "cell_type": "code",
   "execution_count": 54,
   "metadata": {},
   "outputs": [
    {
     "data": {
      "text/plain": [
       "891"
      ]
     },
     "execution_count": 54,
     "metadata": {},
     "output_type": "execute_result"
    }
   ],
   "source": [
    "len(time)"
   ]
  },
  {
   "cell_type": "code",
   "execution_count": 109,
   "metadata": {},
   "outputs": [
    {
     "data": {
      "text/plain": [
       "'100004076'"
      ]
     },
     "execution_count": 109,
     "metadata": {},
     "output_type": "execute_result"
    }
   ],
   "source": [
    "row.ID"
   ]
  },
  {
   "cell_type": "markdown",
   "metadata": {},
   "source": [
    "# Inclinations from Elisabeth"
   ]
  },
  {
   "cell_type": "code",
   "execution_count": 161,
   "metadata": {},
   "outputs": [
    {
     "data": {
      "text/html": [
       "<div>\n",
       "<style scoped>\n",
       "    .dataframe tbody tr th:only-of-type {\n",
       "        vertical-align: middle;\n",
       "    }\n",
       "\n",
       "    .dataframe tbody tr th {\n",
       "        vertical-align: top;\n",
       "    }\n",
       "\n",
       "    .dataframe thead th {\n",
       "        text-align: right;\n",
       "    }\n",
       "</style>\n",
       "<table border=\"1\" class=\"dataframe\">\n",
       "  <thead>\n",
       "    <tr style=\"text-align: right;\">\n",
       "      <th></th>\n",
       "      <th>prefix</th>\n",
       "      <th>id</th>\n",
       "      <th>inclination</th>\n",
       "      <th>inclination_lowerr</th>\n",
       "      <th>inclination_uperr</th>\n",
       "    </tr>\n",
       "  </thead>\n",
       "  <tbody>\n",
       "    <tr>\n",
       "      <th>0</th>\n",
       "      <td>KIC</td>\n",
       "      <td>100004076</td>\n",
       "      <td>58.592186</td>\n",
       "      <td>-13.990519</td>\n",
       "      <td>18.499819</td>\n",
       "    </tr>\n",
       "    <tr>\n",
       "      <th>1</th>\n",
       "      <td>TIC</td>\n",
       "      <td>237880881</td>\n",
       "      <td>22.210949</td>\n",
       "      <td>-3.943153</td>\n",
       "      <td>4.006488</td>\n",
       "    </tr>\n",
       "    <tr>\n",
       "      <th>2</th>\n",
       "      <td>TIC</td>\n",
       "      <td>44984200</td>\n",
       "      <td>33.159762</td>\n",
       "      <td>-0.868109</td>\n",
       "      <td>0.838674</td>\n",
       "    </tr>\n",
       "    <tr>\n",
       "      <th>3</th>\n",
       "      <td>TIC</td>\n",
       "      <td>277539431</td>\n",
       "      <td>82.895193</td>\n",
       "      <td>-5.781124</td>\n",
       "      <td>4.903759</td>\n",
       "    </tr>\n",
       "  </tbody>\n",
       "</table>\n",
       "</div>"
      ],
      "text/plain": [
       "  prefix         id  inclination  inclination_lowerr  inclination_uperr\n",
       "0    KIC  100004076    58.592186          -13.990519          18.499819\n",
       "1    TIC  237880881    22.210949           -3.943153           4.006488\n",
       "2    TIC   44984200    33.159762           -0.868109           0.838674\n",
       "3    TIC  277539431    82.895193           -5.781124           4.903759"
      ]
     },
     "execution_count": 161,
     "metadata": {},
     "output_type": "execute_result"
    }
   ],
   "source": [
    "incl = pd.read_csv(f\"{CWD}/data/inclinations/inclination_output.dat\", delimiter=r\"\\s+\")\n",
    "incl"
   ]
  },
  {
   "cell_type": "code",
   "execution_count": 31,
   "metadata": {},
   "outputs": [
    {
     "data": {
      "text/plain": [
       "42.00000000000001"
      ]
     },
     "execution_count": 31,
     "metadata": {},
     "output_type": "execute_result"
    }
   ],
   "source": [
    "2.1e34/5e32"
   ]
  },
  {
   "cell_type": "code",
   "execution_count": null,
   "metadata": {},
   "outputs": [],
   "source": []
  }
 ],
 "metadata": {
  "kernelspec": {
   "display_name": "forallpurposes",
   "language": "python",
   "name": "forallpurposes"
  },
  "language_info": {
   "codemirror_mode": {
    "name": "ipython",
    "version": 3
   },
   "file_extension": ".py",
   "mimetype": "text/x-python",
   "name": "python",
   "nbconvert_exporter": "python",
   "pygments_lexer": "ipython3",
   "version": "3.6.9"
  }
 },
 "nbformat": 4,
 "nbformat_minor": 2
}

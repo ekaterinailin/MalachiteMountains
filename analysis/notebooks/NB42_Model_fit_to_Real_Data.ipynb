{
 "cells": [
  {
   "cell_type": "code",
   "execution_count": 35,
   "metadata": {},
   "outputs": [],
   "source": [
    "import matplotlib.pyplot as plt\n",
    "%matplotlib inline\n",
    "\n",
    "from astropy.constants import R_sun, R_jup\n",
    "import astropy.units as u\n",
    "\n",
    "import os\n",
    "import copy\n",
    "import time\n",
    "\n",
    "from funcs.model import (full_model,\n",
    "                         aflare,\n",
    "                         calculate_specific_flare_flux,\n",
    "                         calculate_angular_radius)\n",
    "from funcs.multiperiod import remove_sinusoidal\n",
    "from funcs.helper import fetch_lightcurve\n",
    "\n",
    "\n",
    "CWD = \"/\".join(os.getcwd().split(\"/\")[:-2])\n",
    "\n",
    "import warnings\n",
    "warnings.simplefilter(\"ignore\")\n",
    "\n",
    "#-----------------------------------\n",
    "import numpy as np\n",
    "import pandas as pd\n",
    "\n",
    "from altaipony.altai import find_iterative_median\n",
    "from altaipony.flarelc import FlareLightCurve\n",
    "\n",
    "\n",
    "# Different flare/active region configurations have different numbers of parameters\n",
    "log_probs = {\"log_probability\": 6, # one flare, one active region\n",
    "             \"log_probability_2flares\": 9, # two flares, one active region\n",
    "            }\n",
    "\n",
    "# Create a time stamp for this run\n",
    "tstamp = time.strftime(\"%d_%m_%Y_%H_%M\", time.localtime())\n"
   ]
  },
  {
   "cell_type": "code",
   "execution_count": 36,
   "metadata": {},
   "outputs": [
    {
     "data": {
      "text/plain": [
       "'13_10_2020_13_08'"
      ]
     },
     "execution_count": 36,
     "metadata": {},
     "output_type": "execute_result"
    }
   ],
   "source": [
    "tstamp"
   ]
  },
  {
   "cell_type": "code",
   "execution_count": 39,
   "metadata": {},
   "outputs": [
    {
     "data": {
      "text/plain": [
       "ID                           237880881\n",
       "QCS                                  1\n",
       "typ                                slc\n",
       "cadence_min                          2\n",
       "mission                           tess\n",
       "prefix                             TIC\n",
       "origin                         generic\n",
       "h_mission                         TESS\n",
       "SpT                                 M5\n",
       "view_start                        1331\n",
       "view_stop                       1333.5\n",
       "view_min                           560\n",
       "view_max                           700\n",
       "BJDoff                         2457000\n",
       "tstart                          1331.7\n",
       "ampl_min                           NaN\n",
       "ampl_max                           NaN\n",
       "GRP                                NaN\n",
       "plxmas                             NaN\n",
       "eplxmas                            NaN\n",
       "RA                              19.528\n",
       "Dec                           -62.9831\n",
       "J                                11.53\n",
       "R                                  NaN\n",
       "Gaia_G                         14.9796\n",
       "vsini_kms                         14.4\n",
       "e_vsini_kms                        2.6\n",
       "Prot_d                         0.35125\n",
       "sini                               NaN\n",
       "Ref                           Kraus+14\n",
       "identifier     2MASS J01180670-6258591\n",
       "Rstar                            0.199\n",
       "idtyp                             tess\n",
       "id                           237880881\n",
       "st                                  M5\n",
       "desig_2mass           01180670-6258591\n",
       "dist                           46.0681\n",
       "dist_err                      0.143774\n",
       "dist_source                       gaia\n",
       "rad                           0.275151\n",
       "rad_err                     0.00803926\n",
       "tflux                      3.49265e-11\n",
       "tfluxerr                   2.21194e-12\n",
       "tlum                       8.87069e+30\n",
       "tlumerr                    5.64514e+29\n",
       "kflux                      1.27267e-11\n",
       "kfluxerr                   6.84475e-13\n",
       "klum                       3.23236e+30\n",
       "klumerr                    1.75011e+29\n",
       "gmag                           14.9796\n",
       "jmag                             11.53\n",
       "kmag                            10.636\n",
       "i_mu                          0.371856\n",
       "i_sigma                      0.0402463\n",
       "Name: 1, dtype: object"
      ]
     },
     "execution_count": 39,
     "metadata": {},
     "output_type": "execute_result"
    }
   ],
   "source": [
    "# Read in target parameters\n",
    "# ALL TARGETS MUST BE DEFINED IN THIS TABLE AND HAVE LIGHT CURVE\n",
    "# OTHERWISE NOTHING WILL WORK\n",
    "lcs = pd.read_csv(f\"{CWD}/data/summary/lcsi.csv\")\n",
    "\n",
    "# Choose target from table\n",
    "target_N = 1\n",
    "target = lcs.iloc[target_N]\n",
    "\n",
    "# Pick up inclination and uncertainty\n",
    "i_mu, i_sigma = target.i_mu, target.i_sigma\n",
    "\n",
    "# Pick up quiescent luminosity\n",
    "qlum = target.tlum * u.erg/u.s\n",
    "\n",
    "# Pick up stellar radius\n",
    "R = target.rad * R_sun\n",
    "\n",
    "target"
   ]
  },
  {
   "cell_type": "code",
   "execution_count": 85,
   "metadata": {
    "scrolled": true
   },
   "outputs": [
    {
     "name": "stderr",
     "output_type": "stream",
     "text": [
      "10% (1972/20076) of the cadences will be ignored due to the quality mask (quality_bitmask=175).\n",
      "10% (1972/20076) of the cadences will be ignored due to the quality mask (quality_bitmask=175).\n",
      "10% (1972/20076) of the cadences will be ignored due to the quality mask (quality_bitmask=175).\n",
      "10% (1972/20076) of the cadences will be ignored due to the quality mask (quality_bitmask=175).\n",
      "10% (1972/20076) of the cadences will be ignored due to the quality mask (quality_bitmask=175).\n",
      "10% (1972/20076) of the cadences will be ignored due to the quality mask (quality_bitmask=175).\n"
     ]
    },
    {
     "name": "stdout",
     "output_type": "stream",
     "text": [
      "TIC 237880881 modulation period:  8.440140530163145 h\n",
      "Relative amplitude of modulation: -1.3e-02\n"
     ]
    }
   ],
   "source": [
    "\n",
    "# Get the light curve of the target\n",
    "# from a pre-defined path\n",
    "flck = fetch_lightcurve(target)\n",
    "\n",
    "# We are dealing with ultrafast rotators witha simple sinusoidal signal\n",
    "t, sflux, model, period = remove_sinusoidal(target, plot=False, save=False)\n",
    "\n",
    "# define flare light curve so that you can use find_iterative_median later\n",
    "flcd = FlareLightCurve(time=t, \n",
    "                       detrended_flux=sflux, \n",
    "                       detrended_flux_err=np.array(len(t)*[np.nanmean(flck.flux_err)]))\n",
    "\n",
    "\n",
    "# Choose the light curve range to use for the model fit\n",
    "choice = (t > target.view_start +.0) & (t < target.view_stop-.4) \n",
    "t = t[choice]\n",
    "flux = sflux[choice]\n",
    "\n",
    "# Define the flux error\n",
    "flux_err = np.nanmean(flcd.detrended_flux_err)\n",
    "\n",
    "# Find the median flux in the chosen light curve range\n",
    "# by clipping outliers iteratively\n",
    "flcd = flcd[choice]\n",
    "median = np.nanmean(find_iterative_median(flcd).it_med)\n",
    "\n",
    "\n",
    "# Convert time array to rotation phase array\n",
    "# using the rotation period of the star\n",
    "phi = (t - t[0]) / target.Prot_d * 2 * np.pi"
   ]
  },
  {
   "cell_type": "code",
   "execution_count": 98,
   "metadata": {},
   "outputs": [
    {
     "data": {
      "image/png": "[encoded data removed]",
      "text/plain": [
       "<Figure size 864x432 with 1 Axes>"
      ]
     },
     "metadata": {
      "needs_background": "light"
     },
     "output_type": "display_data"
    }
   ],
   "source": [
    "\n",
    "cf = pd.DataFrame({\"phi\":phi,\"flux\":flux, \"t\":t,\n",
    "              \"flux_err\":flux_err, \"median_\":median})\n",
    "cff = cf.groupby(pd.cut(cf.phi, 900)).apply(np.mean)\n",
    "cff = cff[(cff.phi<1.8*2*np.pi) |(cff.phi>2.225*2*np.pi)]\n",
    "plt.figure(figsize=(12,6))\n",
    "plt.plot(cf.phi/(2*np.pi), cf.flux,color=\"grey\")\n",
    "plt.errorbar(cff.phi/(2*np.pi), cff.flux, yerr=cff.flux_err, color=\"r\", alpha=.9)\n",
    "plt.plot(cf.phi/(2*np.pi), [median]*len(cf.phi),color=\"grey\")\n",
    "\n",
    "plt.xlabel(\"time [rotation period]\")\n",
    "plt.ylabel(r\"flux [e$^{-}$/s]\");\n",
    "#plt.xlim(25,30)"
   ]
  },
  {
   "cell_type": "code",
   "execution_count": null,
   "metadata": {},
   "outputs": [],
   "source": []
  },
  {
   "cell_type": "code",
   "execution_count": 99,
   "metadata": {},
   "outputs": [
    {
     "data": {
      "text/html": [
       "<div>\n",
       "<style scoped>\n",
       "    .dataframe tbody tr th:only-of-type {\n",
       "        vertical-align: middle;\n",
       "    }\n",
       "\n",
       "    .dataframe tbody tr th {\n",
       "        vertical-align: top;\n",
       "    }\n",
       "\n",
       "    .dataframe thead th {\n",
       "        text-align: right;\n",
       "    }\n",
       "</style>\n",
       "<table border=\"1\" class=\"dataframe\">\n",
       "  <thead>\n",
       "    <tr style=\"text-align: right;\">\n",
       "      <th></th>\n",
       "      <th>phi</th>\n",
       "      <th>flux</th>\n",
       "      <th>t</th>\n",
       "      <th>flux_err</th>\n",
       "      <th>median_</th>\n",
       "    </tr>\n",
       "    <tr>\n",
       "      <th>phi</th>\n",
       "      <th></th>\n",
       "      <th></th>\n",
       "      <th></th>\n",
       "      <th></th>\n",
       "      <th></th>\n",
       "    </tr>\n",
       "  </thead>\n",
       "  <tbody>\n",
       "    <tr>\n",
       "      <th>(-0.0375, 0.0417]</th>\n",
       "      <td>0.012423</td>\n",
       "      <td>613.633232</td>\n",
       "      <td>1331.001750</td>\n",
       "      <td>5.800927</td>\n",
       "      <td>616.539031</td>\n",
       "    </tr>\n",
       "    <tr>\n",
       "      <th>(0.0417, 0.0834]</th>\n",
       "      <td>0.062113</td>\n",
       "      <td>615.144127</td>\n",
       "      <td>1331.004528</td>\n",
       "      <td>5.800927</td>\n",
       "      <td>616.539031</td>\n",
       "    </tr>\n",
       "    <tr>\n",
       "      <th>(0.0834, 0.125]</th>\n",
       "      <td>0.111803</td>\n",
       "      <td>612.218333</td>\n",
       "      <td>1331.007306</td>\n",
       "      <td>5.800927</td>\n",
       "      <td>616.539031</td>\n",
       "    </tr>\n",
       "    <tr>\n",
       "      <th>(0.125, 0.167]</th>\n",
       "      <td>0.149070</td>\n",
       "      <td>609.168448</td>\n",
       "      <td>1331.009390</td>\n",
       "      <td>5.800927</td>\n",
       "      <td>616.539031</td>\n",
       "    </tr>\n",
       "    <tr>\n",
       "      <th>(0.167, 0.209]</th>\n",
       "      <td>0.186338</td>\n",
       "      <td>613.051801</td>\n",
       "      <td>1331.011473</td>\n",
       "      <td>5.800927</td>\n",
       "      <td>616.539031</td>\n",
       "    </tr>\n",
       "    <tr>\n",
       "      <th>...</th>\n",
       "      <td>...</td>\n",
       "      <td>...</td>\n",
       "      <td>...</td>\n",
       "      <td>...</td>\n",
       "      <td>...</td>\n",
       "    </tr>\n",
       "    <tr>\n",
       "      <th>(37.332, 37.374]</th>\n",
       "      <td>37.354540</td>\n",
       "      <td>621.576389</td>\n",
       "      <td>1333.089293</td>\n",
       "      <td>5.800927</td>\n",
       "      <td>616.539031</td>\n",
       "    </tr>\n",
       "    <tr>\n",
       "      <th>(37.374, 37.416]</th>\n",
       "      <td>37.391808</td>\n",
       "      <td>616.293308</td>\n",
       "      <td>1333.091377</td>\n",
       "      <td>5.800927</td>\n",
       "      <td>616.539031</td>\n",
       "    </tr>\n",
       "    <tr>\n",
       "      <th>(37.416, 37.457]</th>\n",
       "      <td>37.429075</td>\n",
       "      <td>619.798831</td>\n",
       "      <td>1333.093460</td>\n",
       "      <td>5.800927</td>\n",
       "      <td>616.539031</td>\n",
       "    </tr>\n",
       "    <tr>\n",
       "      <th>(37.457, 37.499]</th>\n",
       "      <td>37.478765</td>\n",
       "      <td>616.006989</td>\n",
       "      <td>1333.096238</td>\n",
       "      <td>5.800927</td>\n",
       "      <td>616.539031</td>\n",
       "    </tr>\n",
       "    <tr>\n",
       "      <th>(37.499, 37.541]</th>\n",
       "      <td>37.528456</td>\n",
       "      <td>614.650364</td>\n",
       "      <td>1333.099016</td>\n",
       "      <td>5.800927</td>\n",
       "      <td>616.539031</td>\n",
       "    </tr>\n",
       "  </tbody>\n",
       "</table>\n",
       "<p>808 rows × 5 columns</p>\n",
       "</div>"
      ],
      "text/plain": [
       "                         phi        flux            t  flux_err     median_\n",
       "phi                                                                        \n",
       "(-0.0375, 0.0417]   0.012423  613.633232  1331.001750  5.800927  616.539031\n",
       "(0.0417, 0.0834]    0.062113  615.144127  1331.004528  5.800927  616.539031\n",
       "(0.0834, 0.125]     0.111803  612.218333  1331.007306  5.800927  616.539031\n",
       "(0.125, 0.167]      0.149070  609.168448  1331.009390  5.800927  616.539031\n",
       "(0.167, 0.209]      0.186338  613.051801  1331.011473  5.800927  616.539031\n",
       "...                      ...         ...          ...       ...         ...\n",
       "(37.332, 37.374]   37.354540  621.576389  1333.089293  5.800927  616.539031\n",
       "(37.374, 37.416]   37.391808  616.293308  1333.091377  5.800927  616.539031\n",
       "(37.416, 37.457]   37.429075  619.798831  1333.093460  5.800927  616.539031\n",
       "(37.457, 37.499]   37.478765  616.006989  1333.096238  5.800927  616.539031\n",
       "(37.499, 37.541]   37.528456  614.650364  1333.099016  5.800927  616.539031\n",
       "\n",
       "[808 rows x 5 columns]"
      ]
     },
     "execution_count": 99,
     "metadata": {},
     "output_type": "execute_result"
    }
   ],
   "source": [
    "#cff = cff[(cff.phi<18.7) |(cff.phi>19.6)]\n",
    "cff"
   ]
  },
  {
   "cell_type": "code",
   "execution_count": 100,
   "metadata": {
    "scrolled": true
   },
   "outputs": [],
   "source": [
    "# Write out light curve to use for MCMC fit\n",
    "cff = cff.dropna(how=\"any\")\n",
    "cff.to_csv(f\"{CWD}/data/lcs/{tstamp}_{target.ID}.csv\", index=False)"
   ]
  },
  {
   "cell_type": "code",
   "execution_count": 101,
   "metadata": {},
   "outputs": [
    {
     "data": {
      "text/plain": [
       "'13_10_2020_13_08'"
      ]
     },
     "execution_count": 101,
     "metadata": {},
     "output_type": "execute_result"
    }
   ],
   "source": [
    "tstamp"
   ]
  },
  {
   "cell_type": "code",
   "execution_count": 105,
   "metadata": {},
   "outputs": [
    {
     "data": {
      "image/png": "[encoded data removed]",
      "text/plain": [
       "<Figure size 1152x576 with 1 Axes>"
      ]
     },
     "metadata": {
      "needs_background": "light"
     },
     "output_type": "display_data"
    }
   ],
   "source": [
    "# Play with parameters to get a first guess for the MCMC \n",
    "# When fitting more than one flare, do one flare first, then the next etc.\n",
    "\n",
    "# Flare peak time\n",
    "phi_a =11.83\n",
    "\n",
    "# Active region latitude\n",
    "theta_a = 40.2959564620278 / 180 * np.pi\n",
    "\n",
    "# Flare amplitude\n",
    "a = 2.82553675464244\n",
    "\n",
    "# 2*FWHM of flare\n",
    "fwhm =  0.02402343971409 / target.Prot_d * np.pi *2 \n",
    "\n",
    "\n",
    "phi0 =4.\n",
    "\n",
    "\n",
    "phi_a, a, theta_a, fwhm, phi0 =  14.71592183677561, 0.7142289688195725, 1.0036986666259009, 1.7549310136349876, -2.8811279286762677\n",
    "\n",
    "Fth = calculate_specific_flare_flux(\"TESS\", flaret=1e4)\n",
    "phi_a_max = phi[-1]\n",
    "#plt.plot(phi,flux)\n",
    "radius = calculate_angular_radius(Fth, a, qlum, R,)\n",
    "#theta_a, i_mu, phi_a, radius\n",
    "\n",
    "plt.figure(figsize=(16,8))\n",
    "plt.plot(cff.phi,cff.flux)\n",
    "# for i in np.linspace(-2*np.pi,2*np.pi,10):\n",
    "#     plt.plot(phi, full_model(phi_a, theta_a, a, fwhm, i_mu, phi0=phi0,\n",
    "#                phi=phi, num_pts=50, qlum=qlum,\n",
    "#                Fth=Fth, R=R, median=median), c=\"r\", alpha=.31,)\n",
    "plt.plot(phi, full_model(phi_a, theta_a, a, fwhm, i_mu, phi0=phi0,\n",
    "           phi=phi, num_pts=50, qlum=qlum,\n",
    "           Fth=Fth, R=R, median=median), c=\"k\", alpha=.3,);\n",
    "# plt.xlim(1331,1333.25)\n",
    "#plt.ylim(608,900)"
   ]
  },
  {
   "cell_type": "code",
   "execution_count": 34,
   "metadata": {},
   "outputs": [],
   "source": [
    "# Choose model:\n",
    "log_prob = \"log_probability\"#_2flares\"\n",
    "nparam = log_probs[log_prob]\n",
    "\n",
    "\n",
    "# Save starting points and parameters for MCMC\n",
    "with open(f\"{CWD}/data/summary/inits.csv\", \"a\") as f:\n",
    "    firstout = (\"date,ID,phi_a,theta_a,a,fwhm,Fth,phi0,\"\\\n",
    "                \"i_mu,i_sigma,radius_deg,R_Rsun,qlum_erg_s,\"\\\n",
    "                \"median,log_prob,nparam\\n\")\n",
    "    out = (f\"{tstamp},{target.ID},{phi_a},{theta_a},{a},{fwhm},{Fth.value},\"\\\n",
    "           f\"{phi0},{i_mu},{i_sigma},{radius},{(R/R_sun).value},{qlum.value},\"\\\n",
    "           f\"{median},{log_prob},{nparam}\\n\")\n",
    "   # f.write(firstout)\n",
    "    f.write(out)"
   ]
  },
  {
   "cell_type": "code",
   "execution_count": null,
   "metadata": {},
   "outputs": [],
   "source": []
  }
 ],
 "metadata": {
  "kernelspec": {
   "display_name": "flaresinclustersii",
   "language": "python",
   "name": "flaresinclustersii"
  },
  "language_info": {
   "codemirror_mode": {
    "name": "ipython",
    "version": 3
   },
   "file_extension": ".py",
   "mimetype": "text/x-python",
   "name": "python",
   "nbconvert_exporter": "python",
   "pygments_lexer": "ipython3",
   "version": "3.7.3"
  }
 },
 "nbformat": 4,
 "nbformat_minor": 1
}

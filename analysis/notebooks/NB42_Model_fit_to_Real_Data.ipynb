{
 "cells": [
  {
   "cell_type": "code",
   "execution_count": 13,
   "metadata": {},
   "outputs": [],
   "source": [
    "import matplotlib.pyplot as plt\n",
    "%matplotlib inline\n",
    "\n",
    "from astropy.constants import R_sun, R_jup\n",
    "import astropy.units as u\n",
    "\n",
    "import os\n",
    "import copy\n",
    "import time\n",
    "\n",
    "from funcs.model import (full_model,\n",
    "                         aflare,\n",
    "                         aflare_decoupled,\n",
    "                         calculate_specific_flare_flux,\n",
    "                         calculate_angular_radius)\n",
    "from funcs.multiperiod import remove_sinusoidal\n",
    "from funcs.helper import fetch_lightcurve\n",
    "\n",
    "\n",
    "CWD = \"/\".join(os.getcwd().split(\"/\")[:-2])\n",
    "\n",
    "import warnings\n",
    "warnings.simplefilter(\"ignore\")\n",
    "\n",
    "#-----------------------------------\n",
    "import numpy as np\n",
    "import pandas as pd\n",
    "\n",
    "from altaipony.altai import find_iterative_median\n",
    "from altaipony.flarelc import FlareLightCurve\n",
    "\n",
    "\n",
    "# Different flare/active region configurations have different numbers of parameters\n",
    "log_probs = {\"log_probability\": 7, # one flare, one active region\n",
    "             \"log_probability_2flares\": 11, # two flares, one active region\n",
    "            }\n",
    "\n",
    "# Create a time stamp for this run\n",
    "tstamp = time.strftime(\"%d_%m_%Y_%H_%M\", time.localtime())\n"
   ]
  },
  {
   "cell_type": "code",
   "execution_count": 5,
   "metadata": {},
   "outputs": [
    {
     "data": {
      "text/plain": [
       "ID                             277539431\n",
       "QCS                                   12\n",
       "typ                                  slc\n",
       "cadence_min                            2\n",
       "mission                             tess\n",
       "prefix                               TIC\n",
       "origin                            custom\n",
       "h_mission                           TESS\n",
       "SpT                                   M7\n",
       "view_start                          1641\n",
       "view_stop                         1643.5\n",
       "view_min                             750\n",
       "view_max                             970\n",
       "BJDoff                           2457000\n",
       "tstart                           1641.84\n",
       "ampl_min                             0.9\n",
       "ampl_max                             1.7\n",
       "GRP                                 1.52\n",
       "plxmas                           72.9672\n",
       "eplxmas                            0.569\n",
       "RA                               163.815\n",
       "Dec                             -73.9364\n",
       "J                                  10.63\n",
       "R                                    NaN\n",
       "Gaia_G                           14.7381\n",
       "vsini_kms                           38.6\n",
       "e_vsini_kms                            1\n",
       "Prot_d                              0.19\n",
       "sini                                 NaN\n",
       "Ref                            this work\n",
       "identifier     WISEA J105515.71-735611.3\n",
       "Rstar                                NaN\n",
       "idtyp                               tess\n",
       "id                             277539431\n",
       "st                                    M7\n",
       "desig_2mass             10551532-7356091\n",
       "dist                             13.7047\n",
       "dist_err                        0.106872\n",
       "dist_source                         gaia\n",
       "rad                             0.145216\n",
       "rad_err                       0.00437047\n",
       "tflux                        5.01119e-11\n",
       "tfluxerr                     4.61344e-12\n",
       "tlum                         1.12637e+30\n",
       "tlumerr                      1.05174e+29\n",
       "kflux                        1.38073e-11\n",
       "kfluxerr                     1.51724e-12\n",
       "klum                         3.10348e+29\n",
       "klumerr                      3.44449e+28\n",
       "gmag                             14.7381\n",
       "jmag                               10.63\n",
       "kmag                               9.666\n",
       "i_mu                             1.52021\n",
       "i_sigma                        0.0416149\n",
       "Name: 3, dtype: object"
      ]
     },
     "execution_count": 5,
     "metadata": {},
     "output_type": "execute_result"
    }
   ],
   "source": [
    "# Read in target parameters\n",
    "# ALL TARGETS MUST BE DEFINED IN THIS TABLE AND HAVE LIGHT CURVE\n",
    "# OTHERWISE NOTHING WILL WORK\n",
    "lcs = pd.read_csv(f\"{CWD}/data/summary/lcsi.csv\")\n",
    "\n",
    "# Choose target from table\n",
    "target_N = 3\n",
    "target = lcs.iloc[target_N]\n",
    "\n",
    "# Pick up inclination and uncertainty\n",
    "i_mu, i_sigma = target.i_mu, target.i_sigma\n",
    "\n",
    "# Pick up quiescent luminosity\n",
    "qlum = target.tlum * u.erg/u.s\n",
    "\n",
    "# Pick up stellar radius\n",
    "R = target.rad * R_sun\n",
    "\n",
    "target"
   ]
  },
  {
   "cell_type": "code",
   "execution_count": 63,
   "metadata": {
    "scrolled": true
   },
   "outputs": [
    {
     "name": "stdout",
     "output_type": "stream",
     "text": [
      "TIC 44984200 modulation period:  2.7114843822240977 h\n",
      "Relative amplitude of modulation: 4.9e-03\n"
     ]
    }
   ],
   "source": [
    "\n",
    "# Get the light curve of the target\n",
    "# from a pre-defined path\n",
    "flck = fetch_lightcurve(target)\n",
    "\n",
    "# We are dealing with ultrafast rotators witha simple sinusoidal signal\n",
    "t, sflux, model, period = remove_sinusoidal(target, plot=False, save=False)\n",
    "\n",
    "# define flare light curve so that you can use find_iterative_median later\n",
    "flcd = FlareLightCurve(time=t, \n",
    "                       detrended_flux=sflux, \n",
    "                       detrended_flux_err=np.array(len(t)*[np.nanmean(flck.flux_err)]))\n",
    "\n",
    "\n",
    "# Choose the light curve range to use for the model fit\n",
    "choice = (t > target.view_start +.45 ) & (t < target.view_stop-1.) \n",
    "t = t[choice]\n",
    "flux = sflux[choice]\n",
    "\n",
    "# Define the flux error\n",
    "flux_err = np.nanmean(flcd.detrended_flux_err)\n",
    "\n",
    "# Find the median flux in the chosen light curve range\n",
    "# by clipping outliers iteratively\n",
    "flcd = flcd[choice]\n",
    "median = np.nanmean(find_iterative_median(flcd).it_med)\n",
    "\n",
    "\n",
    "# Convert time array to rotation phase array\n",
    "# using the rotation period of the star\n",
    "phi = (t - t[0]) / target.Prot_d * 2 * np.pi"
   ]
  },
  {
   "cell_type": "code",
   "execution_count": 64,
   "metadata": {},
   "outputs": [
    {
     "data": {
      "image/png": "[encoded data removed]",
      "text/plain": [
       "<Figure size 864x432 with 1 Axes>"
      ]
     },
     "metadata": {
      "needs_background": "light"
     },
     "output_type": "display_data"
    }
   ],
   "source": [
    "cf = pd.DataFrame({\"phi\":phi,\"flux\":flux, \"t\":t,\n",
    "              \"flux_err\":flux_err, \"median_\":median})\n",
    "cff = cf#f#.groupby(pd.cut(cf.phi, 900)).apply(np.mean)\n",
    "# cff = cff[(cff.phi<2.43*2*np.pi) |(cff.phi>2.55*2*np.pi)]\n",
    "\n",
    "plt.figure(figsize=(12,6))\n",
    "#plt.plot(cf.phi/(2*np.pi), cf.flux,color=\"grey\")\n",
    "plt.errorbar(cff.phi/(2*np.pi), cff.flux, yerr=cff.flux_err, color=\"g\", alpha=.9)\n",
    "half = cff.flux > cff.flux.max()/2 + median/2\n",
    "half2 = cff.loc[cff.phi/(2*np.pi)>0.6, \"flux\"] > cff.loc[cff.phi/(2*np.pi)>0.6, \"flux\"].max()/2 + median/2\n",
    "cff.loc[half | half2,  \"flux_err\" ] = cff[half | half2].flux *.1\n",
    "plt.errorbar(cff.phi/(2*np.pi), cff.flux, yerr=cff.flux_err, color=\"r\", alpha=.2)\n",
    "efold = (cff.flux > (cff.flux.max()-median)/np.e + median) & (cff.phi/(2*np.pi) < 2.5)\n",
    "# cff.loc[half,  \"flux_err\" ] = cff[half].flux *0.3\n",
    "#plt.errorbar(cff.phi/(2*np.pi), cff.flux, yerr=cff.flux_err, color=\"r\", alpha=.2)\n",
    "\n",
    "plt.plot(cf.phi/(2*np.pi), [median]*len(cf.phi),color=\"k\", zorder=1)\n",
    "\n",
    "plt.xlabel(\"time [rotation period]\")\n",
    "plt.ylabel(r\"flux [e$^{-}$/s]\");\n",
    "# plt.ylim(550, 750)"
   ]
  },
  {
   "cell_type": "code",
   "execution_count": 65,
   "metadata": {},
   "outputs": [
    {
     "data": {
      "text/plain": [
       "(216.91475, (756, 5))"
      ]
     },
     "execution_count": 65,
     "metadata": {},
     "output_type": "execute_result"
    }
   ],
   "source": [
    "#cff = cff[(cff.phi<18.7) |(cff.phi>19.6)]\n",
    "cff.flux_err.max(), cff.shape"
   ]
  },
  {
   "cell_type": "code",
   "execution_count": 66,
   "metadata": {
    "scrolled": true
   },
   "outputs": [],
   "source": [
    "# Write out light curve to use for MCMC fit\n",
    "cff = cff.dropna(how=\"any\")\n",
    "cff.to_csv(f\"{CWD}/data/lcs/{tstamp}_{target.ID}.csv\", index=False)"
   ]
  },
  {
   "cell_type": "code",
   "execution_count": 67,
   "metadata": {},
   "outputs": [
    {
     "data": {
      "text/plain": [
       "'06_11_2020_15_47'"
      ]
     },
     "execution_count": 67,
     "metadata": {},
     "output_type": "execute_result"
    }
   ],
   "source": [
    "tstamp"
   ]
  },
  {
   "cell_type": "code",
   "execution_count": 6,
   "metadata": {},
   "outputs": [
    {
     "data": {
      "text/html": [
       "<div>\n",
       "<style scoped>\n",
       "    .dataframe tbody tr th:only-of-type {\n",
       "        vertical-align: middle;\n",
       "    }\n",
       "\n",
       "    .dataframe tbody tr th {\n",
       "        vertical-align: top;\n",
       "    }\n",
       "\n",
       "    .dataframe thead th {\n",
       "        text-align: right;\n",
       "    }\n",
       "</style>\n",
       "<table border=\"1\" class=\"dataframe\">\n",
       "  <thead>\n",
       "    <tr style=\"text-align: right;\">\n",
       "      <th></th>\n",
       "      <th>phi</th>\n",
       "      <th>flux</th>\n",
       "      <th>t</th>\n",
       "      <th>flux_err</th>\n",
       "      <th>median_</th>\n",
       "    </tr>\n",
       "  </thead>\n",
       "  <tbody>\n",
       "    <tr>\n",
       "      <th>0</th>\n",
       "      <td>0.000000</td>\n",
       "      <td>784.459680</td>\n",
       "      <td>1641.601919</td>\n",
       "      <td>7.270714</td>\n",
       "      <td>780.411071</td>\n",
       "    </tr>\n",
       "    <tr>\n",
       "      <th>1</th>\n",
       "      <td>0.045926</td>\n",
       "      <td>788.427499</td>\n",
       "      <td>1641.603308</td>\n",
       "      <td>7.270926</td>\n",
       "      <td>780.411071</td>\n",
       "    </tr>\n",
       "    <tr>\n",
       "      <th>2</th>\n",
       "      <td>0.091852</td>\n",
       "      <td>774.154231</td>\n",
       "      <td>1641.604697</td>\n",
       "      <td>7.269866</td>\n",
       "      <td>780.411071</td>\n",
       "    </tr>\n",
       "    <tr>\n",
       "      <th>3</th>\n",
       "      <td>0.137778</td>\n",
       "      <td>785.521701</td>\n",
       "      <td>1641.606086</td>\n",
       "      <td>7.279974</td>\n",
       "      <td>780.411071</td>\n",
       "    </tr>\n",
       "    <tr>\n",
       "      <th>4</th>\n",
       "      <td>0.183703</td>\n",
       "      <td>784.978135</td>\n",
       "      <td>1641.607475</td>\n",
       "      <td>7.268611</td>\n",
       "      <td>780.411071</td>\n",
       "    </tr>\n",
       "    <tr>\n",
       "      <th>...</th>\n",
       "      <td>...</td>\n",
       "      <td>...</td>\n",
       "      <td>...</td>\n",
       "      <td>...</td>\n",
       "      <td>...</td>\n",
       "    </tr>\n",
       "    <tr>\n",
       "      <th>1168</th>\n",
       "      <td>54.238435</td>\n",
       "      <td>778.419431</td>\n",
       "      <td>1643.242168</td>\n",
       "      <td>6.898362</td>\n",
       "      <td>780.411071</td>\n",
       "    </tr>\n",
       "    <tr>\n",
       "      <th>1169</th>\n",
       "      <td>54.284361</td>\n",
       "      <td>783.178613</td>\n",
       "      <td>1643.243557</td>\n",
       "      <td>6.959084</td>\n",
       "      <td>780.411071</td>\n",
       "    </tr>\n",
       "    <tr>\n",
       "      <th>1170</th>\n",
       "      <td>54.330287</td>\n",
       "      <td>782.953756</td>\n",
       "      <td>1643.244946</td>\n",
       "      <td>6.896783</td>\n",
       "      <td>780.411071</td>\n",
       "    </tr>\n",
       "    <tr>\n",
       "      <th>1171</th>\n",
       "      <td>54.376213</td>\n",
       "      <td>784.880991</td>\n",
       "      <td>1643.246335</td>\n",
       "      <td>6.907295</td>\n",
       "      <td>780.411071</td>\n",
       "    </tr>\n",
       "    <tr>\n",
       "      <th>1172</th>\n",
       "      <td>54.422139</td>\n",
       "      <td>787.321049</td>\n",
       "      <td>1643.247724</td>\n",
       "      <td>6.897735</td>\n",
       "      <td>780.411071</td>\n",
       "    </tr>\n",
       "  </tbody>\n",
       "</table>\n",
       "<p>1173 rows × 5 columns</p>\n",
       "</div>"
      ],
      "text/plain": [
       "            phi        flux            t  flux_err     median_\n",
       "0      0.000000  784.459680  1641.601919  7.270714  780.411071\n",
       "1      0.045926  788.427499  1641.603308  7.270926  780.411071\n",
       "2      0.091852  774.154231  1641.604697  7.269866  780.411071\n",
       "3      0.137778  785.521701  1641.606086  7.279974  780.411071\n",
       "4      0.183703  784.978135  1641.607475  7.268611  780.411071\n",
       "...         ...         ...          ...       ...         ...\n",
       "1168  54.238435  778.419431  1643.242168  6.898362  780.411071\n",
       "1169  54.284361  783.178613  1643.243557  6.959084  780.411071\n",
       "1170  54.330287  782.953756  1643.244946  6.896783  780.411071\n",
       "1171  54.376213  784.880991  1643.246335  6.907295  780.411071\n",
       "1172  54.422139  787.321049  1643.247724  6.897735  780.411071\n",
       "\n",
       "[1173 rows x 5 columns]"
      ]
     },
     "execution_count": 6,
     "metadata": {},
     "output_type": "execute_result"
    }
   ],
   "source": [
    "gplc = pd.read_csv(f\"{CWD}/data/lcs/04_12_2020_14_18_277539431.csv\")\n",
    "gplc"
   ]
  },
  {
   "cell_type": "code",
   "execution_count": 16,
   "metadata": {},
   "outputs": [
    {
     "data": {
      "image/png": "[encoded data removed]",
      "text/plain": [
       "<Figure size 720x504 with 1 Axes>"
      ]
     },
     "metadata": {
      "needs_background": "light"
     },
     "output_type": "display_data"
    }
   ],
   "source": [
    "# Play with parameters to get a first guess for the MCMC \n",
    "# When fitting more than one flare, do one flare first, then the next etc.\n",
    "\n",
    "# Flare peak time\n",
    "phi_a =8.\n",
    "# Active region latitude\n",
    "theta_a = 1.41\n",
    "\n",
    "# Flare amplitude\n",
    "a = 1.5\n",
    "\n",
    "# 2*FWHM of flare\n",
    "fwhm1 = 4.96\n",
    "fwhm2 = 4.96\n",
    "\n",
    "\n",
    "phi0 =-2.61\n",
    "i_mu = 1.52 \n",
    "i_sigma = 0.04\n",
    "\n",
    "Fth = calculate_specific_flare_flux(\"TESS\", flaret=1e4)\n",
    "#---------------------------------------\n",
    "\n",
    "# Flare peak time\n",
    "# phi_a2 =17.8\n",
    "\n",
    "\n",
    "# # Flare amplitude\n",
    "# a2 = .05053675464244\n",
    "\n",
    "# # 2*FWHM of flare\n",
    "# fwhm12 = 1.1\n",
    "# fwhm22 =1.4\n",
    "#-----------------------------------------\n",
    "#plt.plot(phi,flux)\n",
    "radius = calculate_angular_radius(Fth, a, qlum, R,)\n",
    "#theta_a, i_mu, phi_a, radius\n",
    "\n",
    "plt.figure(figsize=(10,7))\n",
    "# plt.plot(cff.phi,cff.flux)\n",
    "plt.plot(gplc.phi,gplc.flux)\n",
    "phi= gplc.phi.values\n",
    "median = gplc.median_.iloc[0]\n",
    "for i in np.linspace(0,np.pi/2,10):\n",
    "    plt.plot(phi, full_model(phi_a, theta_a, a, fwhm1, fwhm2, i, phi0=phi0,\n",
    "               phi=phi, num_pts=50, qlum=qlum,\n",
    "               Fth=Fth, R=R, median=median), c=\"r\", alpha=.31,)\n",
    "plt.plot(phi, full_model(phi_a, theta_a, a, fwhm1, fwhm2, i_mu, phi0=phi0,\n",
    "           phi=phi, num_pts=50, qlum=qlum,\n",
    "           Fth=Fth, R=R, median=median), c=\"k\", alpha=1,);\n",
    "\n",
    "#plt.ylim(1650,2000)\n",
    "#plt.yscale(\"log\")\n",
    "\n",
    "#  + full_model(phi_a2, theta_a, a2, fwhm12, fwhm22, i, phi0=phi0,\n",
    "#                phi=phi, num_pts=50, qlum=qlum,\n",
    "#                Fth=Fth, R=R, median=median)-median\n",
    "    \n",
    "#     + full_model(phi_a2, theta_a, a2, fwhm12, fwhm22, i_mu, phi0=phi0,\n",
    "#                phi=phi, num_pts=50, qlum=qlum,\n",
    "#                Fth=Fth, R=R, median=median)-median"
   ]
  },
  {
   "cell_type": "code",
   "execution_count": 65,
   "metadata": {},
   "outputs": [],
   "source": [
    "# Choose model:\n",
    "log_prob = \"log_probability_2flares\"\n",
    "nparam = log_probs[log_prob]\n",
    "\n",
    "\n",
    "# Save starting points and parameters for MCMC\n",
    "with open(f\"{CWD}/data/summary/inits_decoupled.csv\", \"a\") as f:\n",
    "    firstout = (\"date,ID,phi_a,theta_a,a,fwhm1,fwhm2,Fth,phi0,\"\\\n",
    "                \"i_mu,i_sigma,radius_deg,R_Rsun,qlum_erg_s,\"\\\n",
    "                \"median,log_prob,nparam\\n\")\n",
    "    out = (f\"{tstamp},{target.ID},{phi_a},{theta_a},{a},{fwhm1},{fwhm2},{Fth.value},\"\\\n",
    "           f\"{phi0},{i_mu},{i_sigma},{radius},{(R/R_sun).value},{qlum.value},\"\\\n",
    "           f\"{median},{log_prob},{nparam}\\n\")\n",
    "   # f.write(firstout)\n",
    "    f.write(out)"
   ]
  },
  {
   "cell_type": "code",
   "execution_count": 58,
   "metadata": {},
   "outputs": [
    {
     "data": {
      "text/plain": [
       "33.333333333333336"
      ]
     },
     "execution_count": 58,
     "metadata": {},
     "output_type": "execute_result"
    }
   ],
   "source": [
    "10000/5./60"
   ]
  },
  {
   "cell_type": "code",
   "execution_count": 40,
   "metadata": {},
   "outputs": [
    {
     "data": {
      "text/plain": [
       "1.3888888888888888"
      ]
     },
     "execution_count": 40,
     "metadata": {},
     "output_type": "execute_result"
    }
   ],
   "source": [
    "5000/3600"
   ]
  },
  {
   "cell_type": "code",
   "execution_count": null,
   "metadata": {},
   "outputs": [],
   "source": []
  }
 ],
 "metadata": {
  "kernelspec": {
   "display_name": "forallpurposes",
   "language": "python",
   "name": "forallpurposes"
  },
  "language_info": {
   "codemirror_mode": {
    "name": "ipython",
    "version": 3
   },
   "file_extension": ".py",
   "mimetype": "text/x-python",
   "name": "python",
   "nbconvert_exporter": "python",
   "pygments_lexer": "ipython3",
   "version": "3.6.9"
  }
 },
 "nbformat": 4,
 "nbformat_minor": 1
}

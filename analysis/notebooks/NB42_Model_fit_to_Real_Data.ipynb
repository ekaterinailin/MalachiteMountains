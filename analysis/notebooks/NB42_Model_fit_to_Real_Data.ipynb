{
 "cells": [
  {
   "cell_type": "code",
   "execution_count": 59,
   "metadata": {},
   "outputs": [],
   "source": [
    "import matplotlib.pyplot as plt\n",
    "%matplotlib inline\n",
    "\n",
    "from astropy.constants import R_sun, R_jup\n",
    "import astropy.units as u\n",
    "\n",
    "import os\n",
    "import copy\n",
    "import time\n",
    "\n",
    "from funcs.model import (full_model,\n",
    "                         aflare,\n",
    "                         aflare_decoupled,\n",
    "                         calculate_specific_flare_flux,\n",
    "                         calculate_angular_radius)\n",
    "from funcs.multiperiod import remove_sinusoidal\n",
    "from funcs.helper import fetch_lightcurve\n",
    "\n",
    "\n",
    "CWD = \"/\".join(os.getcwd().split(\"/\")[:-2])\n",
    "\n",
    "import warnings\n",
    "warnings.simplefilter(\"ignore\")\n",
    "\n",
    "#-----------------------------------\n",
    "import numpy as np\n",
    "import pandas as pd\n",
    "\n",
    "from altaipony.altai import find_iterative_median\n",
    "from altaipony.flarelc import FlareLightCurve\n",
    "\n",
    "\n",
    "# Different flare/active region configurations have different numbers of parameters\n",
    "log_probs = {\"log_probability\": 7, # one flare, one active region\n",
    "             \"log_probability_2flares\": 11, # two flares, one active region\n",
    "            }\n",
    "\n",
    "# Create a time stamp for this run\n",
    "tstamp = time.strftime(\"%d_%m_%Y_%H_%M\", time.localtime())\n"
   ]
  },
  {
   "cell_type": "code",
   "execution_count": 60,
   "metadata": {},
   "outputs": [
    {
     "data": {
      "text/plain": [
       "'30_10_2020_14_04'"
      ]
     },
     "execution_count": 60,
     "metadata": {},
     "output_type": "execute_result"
    }
   ],
   "source": [
    "tstamp"
   ]
  },
  {
   "cell_type": "code",
   "execution_count": 63,
   "metadata": {},
   "outputs": [
    {
     "data": {
      "text/plain": [
       "ID                           237880881\n",
       "QCS                                  1\n",
       "typ                                slc\n",
       "cadence_min                          2\n",
       "mission                           tess\n",
       "prefix                             TIC\n",
       "origin                         generic\n",
       "h_mission                         TESS\n",
       "SpT                                 M5\n",
       "view_start                        1331\n",
       "view_stop                       1333.5\n",
       "view_min                           560\n",
       "view_max                           700\n",
       "BJDoff                         2457000\n",
       "tstart                          1331.7\n",
       "ampl_min                           NaN\n",
       "ampl_max                           NaN\n",
       "GRP                                NaN\n",
       "plxmas                             NaN\n",
       "eplxmas                            NaN\n",
       "RA                              19.528\n",
       "Dec                           -62.9831\n",
       "J                                11.53\n",
       "R                                  NaN\n",
       "Gaia_G                         14.9796\n",
       "vsini_kms                         14.4\n",
       "e_vsini_kms                        2.6\n",
       "Prot_d                         0.35125\n",
       "sini                               NaN\n",
       "Ref                           Kraus+14\n",
       "identifier     2MASS J01180670-6258591\n",
       "Rstar                            0.199\n",
       "idtyp                             tess\n",
       "id                           237880881\n",
       "st                                  M5\n",
       "desig_2mass           01180670-6258591\n",
       "dist                           46.0681\n",
       "dist_err                      0.143774\n",
       "dist_source                       gaia\n",
       "rad                           0.275151\n",
       "rad_err                     0.00803926\n",
       "tflux                      3.49265e-11\n",
       "tfluxerr                   2.21194e-12\n",
       "tlum                       8.87069e+30\n",
       "tlumerr                    5.64514e+29\n",
       "kflux                      1.27267e-11\n",
       "kfluxerr                   6.84475e-13\n",
       "klum                       3.23236e+30\n",
       "klumerr                    1.75011e+29\n",
       "gmag                           14.9796\n",
       "jmag                             11.53\n",
       "kmag                            10.636\n",
       "i_mu                          0.371856\n",
       "i_sigma                      0.0402463\n",
       "Name: 1, dtype: object"
      ]
     },
     "execution_count": 63,
     "metadata": {},
     "output_type": "execute_result"
    }
   ],
   "source": [
    "# Read in target parameters\n",
    "# ALL TARGETS MUST BE DEFINED IN THIS TABLE AND HAVE LIGHT CURVE\n",
    "# OTHERWISE NOTHING WILL WORK\n",
    "lcs = pd.read_csv(f\"{CWD}/data/summary/lcsi.csv\")\n",
    "\n",
    "# Choose target from table\n",
    "target_N = 1\n",
    "target = lcs.iloc[target_N]\n",
    "\n",
    "# Pick up inclination and uncertainty\n",
    "i_mu, i_sigma = target.i_mu, target.i_sigma\n",
    "\n",
    "# Pick up quiescent luminosity\n",
    "qlum = target.tlum * u.erg/u.s\n",
    "\n",
    "# Pick up stellar radius\n",
    "R = target.rad * R_sun\n",
    "\n",
    "target"
   ]
  },
  {
   "cell_type": "code",
   "execution_count": 108,
   "metadata": {
    "scrolled": true
   },
   "outputs": [
    {
     "name": "stderr",
     "output_type": "stream",
     "text": [
      "10% (1972/20076) of the cadences will be ignored due to the quality mask (quality_bitmask=175).\n",
      "10% (1972/20076) of the cadences will be ignored due to the quality mask (quality_bitmask=175).\n",
      "10% (1972/20076) of the cadences will be ignored due to the quality mask (quality_bitmask=175).\n",
      "10% (1972/20076) of the cadences will be ignored due to the quality mask (quality_bitmask=175).\n",
      "10% (1972/20076) of the cadences will be ignored due to the quality mask (quality_bitmask=175).\n",
      "10% (1972/20076) of the cadences will be ignored due to the quality mask (quality_bitmask=175).\n"
     ]
    },
    {
     "name": "stdout",
     "output_type": "stream",
     "text": [
      "TIC 237880881 modulation period:  8.440140530163145 h\n",
      "Relative amplitude of modulation: -1.3e-02\n"
     ]
    }
   ],
   "source": [
    "\n",
    "# Get the light curve of the target\n",
    "# from a pre-defined path\n",
    "flck = fetch_lightcurve(target)\n",
    "\n",
    "# We are dealing with ultrafast rotators witha simple sinusoidal signal\n",
    "t, sflux, model, period = remove_sinusoidal(target, plot=False, save=False)\n",
    "\n",
    "# define flare light curve so that you can use find_iterative_median later\n",
    "flcd = FlareLightCurve(time=t, \n",
    "                       detrended_flux=sflux, \n",
    "                       detrended_flux_err=np.array(len(t)*[np.nanmean(flck.flux_err)]))\n",
    "\n",
    "\n",
    "# Choose the light curve range to use for the model fit\n",
    "choice = (t > target.view_start +.55) & (t < target.view_stop-.55) \n",
    "t = t[choice]\n",
    "flux = sflux[choice]\n",
    "\n",
    "# Define the flux error\n",
    "flux_err = np.nanmean(flcd.detrended_flux_err)\n",
    "\n",
    "# Find the median flux in the chosen light curve range\n",
    "# by clipping outliers iteratively\n",
    "flcd = flcd[choice]\n",
    "median = np.nanmean(find_iterative_median(flcd).it_med)-7\n",
    "\n",
    "\n",
    "# Convert time array to rotation phase array\n",
    "# using the rotation period of the star\n",
    "phi = (t - t[0]) / target.Prot_d * 2 * np.pi"
   ]
  },
  {
   "cell_type": "code",
   "execution_count": 111,
   "metadata": {},
   "outputs": [
    {
     "data": {
      "text/plain": [
       "(550.0, 750.0)"
      ]
     },
     "execution_count": 111,
     "metadata": {},
     "output_type": "execute_result"
    },
    {
     "data": {
      "image/png": "[encoded data removed]",
      "text/plain": [
       "<Figure size 864x432 with 1 Axes>"
      ]
     },
     "metadata": {
      "needs_background": "light"
     },
     "output_type": "display_data"
    }
   ],
   "source": [
    "\n",
    "cf = pd.DataFrame({\"phi\":phi,\"flux\":flux, \"t\":t,\n",
    "              \"flux_err\":flux_err, \"median_\":median})\n",
    "cff = cf#f#.groupby(pd.cut(cf.phi, 900)).apply(np.mean)\n",
    "# cff = cff[(cff.phi<2.43*2*np.pi) |(cff.phi>2.55*2*np.pi)]\n",
    "plt.figure(figsize=(12,6))\n",
    "plt.plot(cf.phi/(2*np.pi), cf.flux,color=\"grey\")\n",
    "plt.errorbar(cff.phi/(2*np.pi), cff.flux, yerr=cff.flux_err, color=\"r\", alpha=.9)\n",
    "plt.plot(cf.phi/(2*np.pi), [median]*len(cf.phi),color=\"k\", zorder=1)\n",
    "\n",
    "plt.xlabel(\"time [rotation period]\")\n",
    "plt.ylabel(r\"flux [e$^{-}$/s]\");\n",
    "plt.ylim(550, 750)"
   ]
  },
  {
   "cell_type": "code",
   "execution_count": 112,
   "metadata": {},
   "outputs": [
    {
     "data": {
      "text/html": [
       "<div>\n",
       "<style scoped>\n",
       "    .dataframe tbody tr th:only-of-type {\n",
       "        vertical-align: middle;\n",
       "    }\n",
       "\n",
       "    .dataframe tbody tr th {\n",
       "        vertical-align: top;\n",
       "    }\n",
       "\n",
       "    .dataframe thead th {\n",
       "        text-align: right;\n",
       "    }\n",
       "</style>\n",
       "<table border=\"1\" class=\"dataframe\">\n",
       "  <thead>\n",
       "    <tr style=\"text-align: right;\">\n",
       "      <th></th>\n",
       "      <th>phi</th>\n",
       "      <th>flux</th>\n",
       "      <th>t</th>\n",
       "      <th>flux_err</th>\n",
       "      <th>median_</th>\n",
       "    </tr>\n",
       "  </thead>\n",
       "  <tbody>\n",
       "    <tr>\n",
       "      <th>0</th>\n",
       "      <td>0.000000</td>\n",
       "      <td>619.675801</td>\n",
       "      <td>1331.551068</td>\n",
       "      <td>5.800927</td>\n",
       "      <td>615.294854</td>\n",
       "    </tr>\n",
       "    <tr>\n",
       "      <th>1</th>\n",
       "      <td>0.024845</td>\n",
       "      <td>621.076333</td>\n",
       "      <td>1331.552457</td>\n",
       "      <td>5.800927</td>\n",
       "      <td>615.294854</td>\n",
       "    </tr>\n",
       "    <tr>\n",
       "      <th>2</th>\n",
       "      <td>0.049690</td>\n",
       "      <td>619.339414</td>\n",
       "      <td>1331.553845</td>\n",
       "      <td>5.800927</td>\n",
       "      <td>615.294854</td>\n",
       "    </tr>\n",
       "    <tr>\n",
       "      <th>3</th>\n",
       "      <td>0.074535</td>\n",
       "      <td>608.982802</td>\n",
       "      <td>1331.555234</td>\n",
       "      <td>5.800927</td>\n",
       "      <td>615.294854</td>\n",
       "    </tr>\n",
       "    <tr>\n",
       "      <th>4</th>\n",
       "      <td>0.173915</td>\n",
       "      <td>612.524902</td>\n",
       "      <td>1331.560790</td>\n",
       "      <td>5.800927</td>\n",
       "      <td>615.294854</td>\n",
       "    </tr>\n",
       "    <tr>\n",
       "      <th>...</th>\n",
       "      <td>...</td>\n",
       "      <td>...</td>\n",
       "      <td>...</td>\n",
       "      <td>...</td>\n",
       "      <td>...</td>\n",
       "    </tr>\n",
       "    <tr>\n",
       "      <th>935</th>\n",
       "      <td>24.919587</td>\n",
       "      <td>614.657919</td>\n",
       "      <td>1332.944152</td>\n",
       "      <td>5.800927</td>\n",
       "      <td>615.294854</td>\n",
       "    </tr>\n",
       "    <tr>\n",
       "      <th>936</th>\n",
       "      <td>24.944432</td>\n",
       "      <td>606.842306</td>\n",
       "      <td>1332.945541</td>\n",
       "      <td>5.800927</td>\n",
       "      <td>615.294854</td>\n",
       "    </tr>\n",
       "    <tr>\n",
       "      <th>937</th>\n",
       "      <td>24.969277</td>\n",
       "      <td>627.903209</td>\n",
       "      <td>1332.946929</td>\n",
       "      <td>5.800927</td>\n",
       "      <td>615.294854</td>\n",
       "    </tr>\n",
       "    <tr>\n",
       "      <th>938</th>\n",
       "      <td>24.994122</td>\n",
       "      <td>621.402229</td>\n",
       "      <td>1332.948318</td>\n",
       "      <td>5.800927</td>\n",
       "      <td>615.294854</td>\n",
       "    </tr>\n",
       "    <tr>\n",
       "      <th>939</th>\n",
       "      <td>25.018967</td>\n",
       "      <td>611.496917</td>\n",
       "      <td>1332.949707</td>\n",
       "      <td>5.800927</td>\n",
       "      <td>615.294854</td>\n",
       "    </tr>\n",
       "  </tbody>\n",
       "</table>\n",
       "<p>940 rows × 5 columns</p>\n",
       "</div>"
      ],
      "text/plain": [
       "           phi        flux            t  flux_err     median_\n",
       "0     0.000000  619.675801  1331.551068  5.800927  615.294854\n",
       "1     0.024845  621.076333  1331.552457  5.800927  615.294854\n",
       "2     0.049690  619.339414  1331.553845  5.800927  615.294854\n",
       "3     0.074535  608.982802  1331.555234  5.800927  615.294854\n",
       "4     0.173915  612.524902  1331.560790  5.800927  615.294854\n",
       "..         ...         ...          ...       ...         ...\n",
       "935  24.919587  614.657919  1332.944152  5.800927  615.294854\n",
       "936  24.944432  606.842306  1332.945541  5.800927  615.294854\n",
       "937  24.969277  627.903209  1332.946929  5.800927  615.294854\n",
       "938  24.994122  621.402229  1332.948318  5.800927  615.294854\n",
       "939  25.018967  611.496917  1332.949707  5.800927  615.294854\n",
       "\n",
       "[940 rows x 5 columns]"
      ]
     },
     "execution_count": 112,
     "metadata": {},
     "output_type": "execute_result"
    }
   ],
   "source": [
    "#cff = cff[(cff.phi<18.7) |(cff.phi>19.6)]\n",
    "cff"
   ]
  },
  {
   "cell_type": "code",
   "execution_count": 113,
   "metadata": {
    "scrolled": true
   },
   "outputs": [],
   "source": [
    "# Write out light curve to use for MCMC fit\n",
    "cff = cff.dropna(how=\"any\")\n",
    "cff.to_csv(f\"{CWD}/data/lcs/{tstamp}_{target.ID}.csv\", index=False)"
   ]
  },
  {
   "cell_type": "code",
   "execution_count": 114,
   "metadata": {},
   "outputs": [
    {
     "data": {
      "text/plain": [
       "'30_10_2020_14_04'"
      ]
     },
     "execution_count": 114,
     "metadata": {},
     "output_type": "execute_result"
    }
   ],
   "source": [
    "tstamp"
   ]
  },
  {
   "cell_type": "code",
   "execution_count": 145,
   "metadata": {},
   "outputs": [
    {
     "data": {
      "image/png": "[encoded data removed]",
      "text/plain": [
       "<Figure size 576x504 with 1 Axes>"
      ]
     },
     "metadata": {
      "needs_background": "light"
     },
     "output_type": "display_data"
    }
   ],
   "source": [
    "# Play with parameters to get a first guess for the MCMC \n",
    "# When fitting more than one flare, do one flare first, then the next etc.\n",
    "\n",
    "# Flare peak time\n",
    "phi_a =2.\n",
    "# Active region latitude\n",
    "theta_a = 65.2959564620278 / 180 * np.pi\n",
    "\n",
    "# Flare amplitude\n",
    "a = 1.902553675464244\n",
    "\n",
    "# 2*FWHM of flare\n",
    "fwhm1 = .15\n",
    "fwhm2 = .2\n",
    "\n",
    "\n",
    "phi0 =6.\n",
    "\n",
    "\n",
    "Fth = calculate_specific_flare_flux(\"TESS\", flaret=1e4)\n",
    "#---------------------------------------\n",
    "\n",
    "# Flare peak time\n",
    "phi_a2 =4.9\n",
    "\n",
    "\n",
    "# Flare amplitude\n",
    "a2 = .52553675464244\n",
    "\n",
    "# 2*FWHM of flare\n",
    "fwhm12 = 1.1\n",
    "fwhm22 =1.4\n",
    "#-----------------------------------------\n",
    "#plt.plot(phi,flux)\n",
    "radius = calculate_angular_radius(Fth, a, qlum, R,)\n",
    "#theta_a, i_mu, phi_a, radius\n",
    "\n",
    "plt.figure(figsize=(8,7))\n",
    "plt.plot(cff.phi,cff.flux)\n",
    "for i in np.linspace(0,np.pi/2,10):\n",
    "    plt.plot(phi, full_model(phi_a, theta_a, a, fwhm1, fwhm2, i, phi0=phi0,\n",
    "               phi=phi, num_pts=50, qlum=qlum,\n",
    "               Fth=Fth, R=R, median=median) + full_model(phi_a2, theta_a, a2, fwhm12, fwhm22, i, phi0=phi0,\n",
    "               phi=phi, num_pts=50, qlum=qlum,\n",
    "               Fth=Fth, R=R, median=median)-median, c=\"r\", alpha=.31,)\n",
    "plt.plot(phi, full_model(phi_a, theta_a, a, fwhm1, fwhm2, i_mu, phi0=phi0,\n",
    "           phi=phi, num_pts=50, qlum=qlum,\n",
    "           Fth=Fth, R=R, median=median)+ full_model(phi_a2, theta_a, a2, fwhm12, fwhm22, i_mu, phi0=phi0,\n",
    "               phi=phi, num_pts=50, qlum=qlum,\n",
    "               Fth=Fth, R=R, median=median)-median, c=\"k\", alpha=1,);\n",
    "\n",
    "#plt.ylim(300,460)\n",
    "#plt.yscale(\"log\")"
   ]
  },
  {
   "cell_type": "code",
   "execution_count": 147,
   "metadata": {},
   "outputs": [],
   "source": [
    "# Choose model:\n",
    "log_prob = \"log_probability_2flares\"\n",
    "nparam = log_probs[log_prob]\n",
    "\n",
    "\n",
    "# Save starting points and parameters for MCMC\n",
    "with open(f\"{CWD}/data/summary/inits_decoupled.csv\", \"a\") as f:\n",
    "    firstout = (\"date,ID,phi_a,theta_a,a,fwhm1,fwhm2,Fth,phi0,\"\\\n",
    "                \"i_mu,i_sigma,radius_deg,R_Rsun,qlum_erg_s,\"\\\n",
    "                \"median,log_prob,nparam\\n\")\n",
    "    out = (f\"{tstamp},{target.ID},{phi_a2},{theta_a},{a2},{fwhm12},{fwhm22},{Fth.value},\"\\\n",
    "           f\"{phi0},{i_mu},{i_sigma},{radius},{(R/R_sun).value},{qlum.value},\"\\\n",
    "           f\"{median},{log_prob},{nparam}\\n\")\n",
    "   # f.write(firstout)\n",
    "    f.write(out)"
   ]
  },
  {
   "cell_type": "code",
   "execution_count": 58,
   "metadata": {},
   "outputs": [
    {
     "data": {
      "text/plain": [
       "33.333333333333336"
      ]
     },
     "execution_count": 58,
     "metadata": {},
     "output_type": "execute_result"
    }
   ],
   "source": [
    "10000/5./60"
   ]
  },
  {
   "cell_type": "code",
   "execution_count": null,
   "metadata": {},
   "outputs": [],
   "source": []
  }
 ],
 "metadata": {
  "kernelspec": {
   "display_name": "forallpurposes",
   "language": "python",
   "name": "forallpurposes"
  },
  "language_info": {
   "codemirror_mode": {
    "name": "ipython",
    "version": 3
   },
   "file_extension": ".py",
   "mimetype": "text/x-python",
   "name": "python",
   "nbconvert_exporter": "python",
   "pygments_lexer": "ipython3",
   "version": "3.6.9"
  }
 },
 "nbformat": 4,
 "nbformat_minor": 1
}

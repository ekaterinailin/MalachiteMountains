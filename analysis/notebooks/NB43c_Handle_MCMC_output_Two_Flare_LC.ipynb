{
 "cells": [
  {
   "cell_type": "code",
   "execution_count": 2,
   "metadata": {},
   "outputs": [],
   "source": [
    "import numpy as np\n",
    "import pandas as pd\n",
    "\n",
    "import emcee\n",
    "import corner\n",
    "\n",
    "import os\n",
    "CWD = \"/\".join(os.getcwd().split(\"/\")[:-2])\n",
    "\n",
    "import matplotlib.pyplot as plt\n",
    "%matplotlib inline\n",
    "\n",
    "from funcs.model import full_model_2flares, aflare, calculate_angular_radius\n",
    "\n",
    "import astropy.units as u\n",
    "from astropy.constants import R_sun\n",
    "\n",
    "import matplotlib \n",
    "matplotlib.rc('xtick', labelsize=16) \n",
    "matplotlib.rc('ytick', labelsize=16) \n",
    "\n",
    "font = {'family' : 'courier',\n",
    "        'weight' : 'normal',\n",
    "        'size'   : 16}\n",
    "\n",
    "matplotlib.rc('font', **font)\n",
    "\n",
    "from matplotlib.lines import Line2D"
   ]
  },
  {
   "cell_type": "code",
   "execution_count": 3,
   "metadata": {},
   "outputs": [],
   "source": [
    "ID = 44984200#237880881#212035340 #100004076#\n",
    "tstamp = \"04_08_2020_13_40\"#'11_02_2020_10_07'"
   ]
  },
  {
   "cell_type": "code",
   "execution_count": 4,
   "metadata": {},
   "outputs": [],
   "source": [
    "props = pd.read_csv(f\"{CWD}/data/summary/everything.csv\")\n",
    "target = props[props.ID == ID].iloc[0]\n"
   ]
  },
  {
   "cell_type": "code",
   "execution_count": 5,
   "metadata": {},
   "outputs": [],
   "source": [
    "inits = pd.read_csv(f\"{CWD}/data/summary/inits.csv\")\n",
    "inits = inits[(inits.ID == str(ID)+\"a\")&(inits.tstamp==tstamp)].iloc[0]\n",
    "qlum = inits.qlum_erg_s *u.erg/u.s\n",
    "Fth = inits.Fth * u.erg/u.cm**2/u.s\n",
    "median = inits.median\n",
    "R = inits.R_Rsun *R_sun"
   ]
  },
  {
   "cell_type": "code",
   "execution_count": 6,
   "metadata": {},
   "outputs": [],
   "source": [
    "lc = pd.read_csv(f\"{CWD}/data/lcs/{tstamp}_{ID}.csv\")"
   ]
  },
  {
   "cell_type": "code",
   "execution_count": 7,
   "metadata": {},
   "outputs": [
    {
     "data": {
      "text/plain": [
       "ID                     44984200\n",
       "QCS                          10\n",
       "typ                         slc\n",
       "cadence_min                   2\n",
       "mission                    tess\n",
       "prefix                      TIC\n",
       "origin                   custom\n",
       "h_mission                  TESS\n",
       "SpT                          M6\n",
       "view_start              1587.25\n",
       "view_stop               1589.75\n",
       "view_min                   1620\n",
       "view_max                   2200\n",
       "BJDoff                  2457000\n",
       "tstart                  1588.03\n",
       "ampl_min                    0.5\n",
       "ampl_max                    0.8\n",
       "RA                      129.508\n",
       "Dec                    -58.9331\n",
       "J                        10.309\n",
       "R                         15.08\n",
       "Gaia_G                  14.4115\n",
       "vsini_kms                   NaN\n",
       "e_vsini_kms                 NaN\n",
       "Prot_d                    0.113\n",
       "sini                        NaN\n",
       "Ref                   this work\n",
       "identifier       SCR J0838-5855\n",
       "Rstar                       NaN\n",
       "idtyp                      tess\n",
       "id                     44984200\n",
       "st                           M6\n",
       "desig_2mass    08380224-5855583\n",
       "dist                    11.1067\n",
       "dist_err              0.0274716\n",
       "dist_source                gaia\n",
       "rad                    0.142339\n",
       "rad_err              0.00414734\n",
       "tflux               6.30529e-11\n",
       "tfluxerr            4.37846e-12\n",
       "tlum                9.30845e+29\n",
       "tlumerr             6.48026e+28\n",
       "kflux               2.01816e-11\n",
       "kfluxerr            1.41212e-12\n",
       "klum                2.97939e+29\n",
       "klumerr             2.08991e+28\n",
       "gmag                    14.4115\n",
       "jmag                     10.309\n",
       "kmag                      9.268\n",
       "Name: 2, dtype: object"
      ]
     },
     "execution_count": 7,
     "metadata": {},
     "output_type": "execute_result"
    }
   ],
   "source": [
    "target"
   ]
  },
  {
   "cell_type": "code",
   "execution_count": 8,
   "metadata": {},
   "outputs": [
    {
     "name": "stdout",
     "output_type": "stream",
     "text": [
      "burn-in: 2229\n",
      "thin: 118\n",
      "flat chain shape: (270560, 9)\n",
      "flat log prob shape: (270560,)\n"
     ]
    }
   ],
   "source": [
    "# see here https://emcee.readthedocs.io/en/stable/tutorials/monitor/\n",
    "filename = f\"{CWD}/analysis/results/mcmc/{tstamp}_{target.ID}b_MCMC.h5\"\n",
    "reader = emcee.backends.HDFBackend(filename)\n",
    "\n",
    "tau = reader.get_autocorr_time()\n",
    "burnin = int(2 * np.max(tau))\n",
    "thin = int(0.5 * np.min(tau))\n",
    "# burnin=70000\n",
    "# thin=170\n",
    "ndim=9\n",
    "samples = reader.get_chain(discard=burnin, flat=True, thin=thin)\n",
    "log_prob_samples = reader.get_log_prob(discard=burnin, flat=True, thin=thin)\n",
    "log_prior_samples = reader.get_blobs(discard=burnin, flat=True, thin=thin)\n",
    "\n",
    "print(\"burn-in: {0}\".format(burnin))\n",
    "print(\"thin: {0}\".format(thin))\n",
    "print(\"flat chain shape: {0}\".format(samples.shape))\n",
    "print(\"flat log prob shape: {0}\".format(log_prob_samples.shape))\n"
   ]
  },
  {
   "cell_type": "code",
   "execution_count": null,
   "metadata": {},
   "outputs": [],
   "source": [
    "\n",
    "\n",
    "columns = [\"phase_peak_a\", \"phase_peak_b\", \"latitude_rad\",\n",
    "           \"a_a\", \"a_b\", \"fwhm_periods_a\", \"fwhm_periods_b\",\n",
    "           \"i_rad\",\"phase_0\"]\n",
    "\n",
    "rawsamples = pd.DataFrame(data=samples, columns=columns)\n",
    "\n",
    "for suffix in [\"a\",\"b\"]:\n",
    "    rawsamples1 = rawsamples[[f\"phase_peak_{suffix}\",\n",
    "                               \"latitude_rad\",\n",
    "                               f\"a_{suffix}\",\n",
    "                               f\"fwhm_periods_{suffix}\",\n",
    "                               \"i_rad\",\n",
    "                               \"phase_0\"]]\n",
    "    rawsamples2 = rawsamples1.rename(index=str, \n",
    "                                    columns=dict(zip([f\"phase_peak_{suffix}\",\n",
    "                                                      f\"a_{suffix}\",\n",
    "                                                      f\"fwhm_periods_{suffix}\"],\n",
    "                                                     [\"phase_peak\",\n",
    "                                                      \"a\",\n",
    "                                                      \"fwhm_periods\"])))\n",
    "    rawsamples2.to_csv(f\"{CWD}/analysis/results/mcmc/\"\n",
    "                       f\"{tstamp}_{target.ID}{suffix}\"\n",
    "                       f\"_raw_mcmc_sample.csv\",\n",
    "                       index=False)\n",
    "\n"
   ]
  },
  {
   "cell_type": "code",
   "execution_count": null,
   "metadata": {},
   "outputs": [],
   "source": [
    "from get_mcmc_outputs import write_meta_mcmc\n",
    "write_meta_mcmc(CWD, tstamp, target.ID, burnin, samples.shape[0], samples.shape[1], ndim)"
   ]
  },
  {
   "cell_type": "markdown",
   "metadata": {},
   "source": [
    "# Plots\n",
    "### Plot the full chain"
   ]
  },
  {
   "cell_type": "code",
   "execution_count": null,
   "metadata": {},
   "outputs": [],
   "source": [
    "fig, axes = plt.subplots(9, figsize=(10, 15), sharex=True)\n",
    "\n",
    "multi_samples = reader.get_chain()\n",
    "walkers = multi_samples.shape[1]\n",
    "steps = multi_samples.shape[0]\n",
    "nparam = multi_samples.shape[2]\n",
    "# -----------------------------------------------------------------------\n",
    "#map phi_a_distr to t0_distr:\n",
    "for i in [0,1]:\n",
    "    multi_samples[:, :,i] = np.interp(multi_samples[:,:,i],lc.phi,lc.t)\n",
    "\n",
    "# convert theta_f to degrees\n",
    "multi_samples[:, :,2] = multi_samples[:,:, 2] / np.pi * 180.\n",
    "\n",
    "# convert FWHM to days\n",
    "for i in [5,6]:\n",
    "    multi_samples[:,:, i] = multi_samples[:,:, i]/2/np.pi*target.Prot_d \n",
    "\n",
    "# convert i to degrees\n",
    "multi_samples[:,:, -2] = multi_samples[:,:, -2] / np.pi * 180.\n",
    "\n",
    "# map phi0 to phi_peak longitude, still call it phi0\n",
    "multi_samples[:,:, -1] = (multi_samples[:, :,0]%(2.*np.pi) - multi_samples[:,:, -1]) / np.pi * 180. # 0 would be facing the observer\n",
    "# -----------------------------------------------------------------------\n",
    "labels = [r'$t_\\mathrm{f,1} [d]$', r'$t_\\mathrm{f,2} [d]$',\n",
    "          r'$\\theta_\\mathrm{f}$ [deg]', \n",
    "          r'$a_1$', r'$a_2$',\n",
    "          r'FWHM$_1$ [d]', r'FWHM$_2$ [d]', \n",
    "          r'$i$ [deg]',\n",
    "          r\"$\\phi_\\mathrm{f}$ [deg]\"]\n",
    "matplotlib.rc('xtick', labelsize=10) \n",
    "matplotlib.rc('ytick', labelsize=10) \n",
    "for j in range(ndim):\n",
    "    ax = axes[j]\n",
    "    ax.plot(multi_samples[:, :, j], \"k\", alpha=0.3)\n",
    "    ax.set_xlim(0, len(multi_samples))\n",
    "    ax.set_ylabel(labels[j])\n",
    "    ax.yaxis.set_label_coords(-0.1, 0.5)\n",
    "\n",
    "axes[-1].set_xlabel(\"step number\");\n",
    "plt.tight_layout()\n",
    "plt.savefig(f\"{CWD}/analysis/plots/flarefit/{tstamp}_{target.prefix}{target.ID}_chain.png\",dpi=300)"
   ]
  },
  {
   "cell_type": "code",
   "execution_count": null,
   "metadata": {},
   "outputs": [],
   "source": [
    "# with open(f\"{CWD}/analysis/results/mcmc/mcmc_meta.csv\",\"a\") as f:\n",
    "#     #Add more lines here\n",
    "    \n",
    "#     out = f\"{tstamp},{target.ID},{burnin},{steps},{walkers},{nparam},{ndim},{thin}\"\n",
    "#     firstout = f\"date,ID,burnin,steps,walkers,nparam,ndim, thin\"\n",
    "#     out += \"\\n\"\n",
    "#     firstout += \"\\n\"\n",
    "#     f.write(firstout)\n",
    "#     f.write(out)"
   ]
  },
  {
   "cell_type": "code",
   "execution_count": null,
   "metadata": {},
   "outputs": [],
   "source": [
    "\n",
    "#map phi_a_distr to t0_distr:\n",
    "for i in [0,1]:\n",
    "    samples[:, i] = np.interp(samples[:,i],lc.phi,lc.t)\n",
    "\n",
    "# convert theta_f to degrees\n",
    "samples[:, 2] = samples[:, 2] / np.pi * 180.\n",
    "\n",
    "# convert FWHM to days\n",
    "for i in [5,6]:\n",
    "    samples[:, i] = samples[:, i]/2/np.pi*target.Prot_d \n",
    "\n",
    "# convert i to degrees\n",
    "samples[:, -2] = samples[:, -2] / np.pi * 180.\n",
    "\n",
    "# map phi0 to phi_peak longitude, still call it phi0\n",
    "samples[:, -1] = (samples[:, 0]%(2.*np.pi) - samples[:, -1]) / np.pi * 180. # 0 would be facing the observer\n",
    "\n",
    "\n",
    "\n"
   ]
  },
  {
   "cell_type": "markdown",
   "metadata": {},
   "source": [
    "### Corner plot"
   ]
  },
  {
   "cell_type": "code",
   "execution_count": null,
   "metadata": {
    "scrolled": false
   },
   "outputs": [],
   "source": [
    "fig = corner.corner(samples, labels=labels)\n",
    "matplotlib.rc('xtick', labelsize=16) \n",
    "matplotlib.rc('ytick', labelsize=16) \n",
    "plt.savefig(f\"{CWD}/analysis/plots/flarefit/{tstamp}_{target.prefix}{target.ID}_corner_disc{burnin}.png\",dpi=300)"
   ]
  },
  {
   "cell_type": "code",
   "execution_count": null,
   "metadata": {},
   "outputs": [],
   "source": [
    "0.37 / np.pi *180\n",
    "median"
   ]
  },
  {
   "cell_type": "markdown",
   "metadata": {},
   "source": [
    "### Retrieve and plot some example fits to the data from the chain"
   ]
  },
  {
   "cell_type": "code",
   "execution_count": 9,
   "metadata": {
    "scrolled": false
   },
   "outputs": [
    {
     "name": "stderr",
     "output_type": "stream",
     "text": [
      "findfont: Font family ['courier'] not found. Falling back to DejaVu Sans.\n"
     ]
    },
    {
     "data": {
      "image/png": "[encoded data removed]",
      "text/plain": [
       "<Figure size 720x576 with 1 Axes>"
      ]
     },
     "metadata": {
      "needs_background": "light"
     },
     "output_type": "display_data"
    }
   ],
   "source": [
    "flat_samples = reader.get_chain(discard=burnin+500000, flat=True, thin=thin)\n",
    "N = 50\n",
    "phi = lc.phi.values\n",
    "time = lc.t\n",
    "flux = lc.flux.values\n",
    "median = lc.median_[0]\n",
    "inds = np.random.randint(len(flat_samples), size=N)\n",
    "plt.figure(figsize=(10,8))\n",
    "#plt.scatter(flck.time, flck.flux, s=1)\n",
    "plt.scatter(time, flux, s=10, c=\"k\", label=r\"de-trended light curve\")\n",
    "#plt.errorbar(phi, flux, yerr=flux_err, fmt=\".k\", capsize=0)\n",
    "\n",
    "for ind in inds:\n",
    "    sample = flat_samples[ind]\n",
    "    phi_a1, phi_a2, theta_a, a1, a2, fwhm1, fwhm2, i, phi0 = sample\n",
    "    plt.plot(time, aflare(phi, phi_a1, fwhm1, a1*median)+ median, c=\"grey\", alpha=0.05, linewidth=3)\n",
    "    plt.plot(time, aflare(phi, phi_a2, fwhm2, a2*median)+ median, c=\"grey\", alpha=0.05, linewidth=3)\n",
    "    plt.plot(time, full_model_2flares((phi_a1,phi_a2), theta_a, (a1,a2), (fwhm1,fwhm2), i, phi0=phi0,\n",
    "               phi=phi, num_pts=50, qlum=qlum,\n",
    "               Fth=Fth, R=R, median=median), c=\"r\", alpha=0.05,)\n",
    "    \n",
    "\n",
    "legend_elements = [Line2D([0], [0], color='grey', lw=4, label=\"flare model\"),\n",
    "                   Line2D([0], [0], color='r', lw=4, label=\"modulated flares\"),\n",
    "                   Line2D([0], [0], marker='o', color='w', label=\"de-trended light curve\",\n",
    "                          markerfacecolor='k', markersize=5),\n",
    "                  ]\n",
    "plt.legend(handles=legend_elements, fontsize=16)\n",
    "plt.xlabel(f\"time [BJD - {target.BJDoff}]\",fontsize=16)\n",
    "plt.ylabel(r\"flux [e$^{-}$/s]\",fontsize=16);\n",
    "plt.yscale(\"log\")\n",
    "#plt.ylim(590,2070)\n",
    "#plt.xlim(1331.5,1332.75)\n",
    "plt.ylim(1650,2200)\n",
    "plt.tight_layout()\n",
    "plt.savefig(f\"{CWD}/analysis/plots/flarefit/{tstamp}_{target.prefix}{target.ID}_flarefit_{N}retrievals.png\",dpi=300)"
   ]
  },
  {
   "cell_type": "code",
   "execution_count": null,
   "metadata": {},
   "outputs": [],
   "source": [
    "columns = [\"t0_d_a\",\"t0_d_b\",\"latitude_deg\",\n",
    "           \"a_a\",\"a_b\",\"fwhm_d_a\", \n",
    "           \"fwhm_d_b\",\"i_deg\",\"phase_deg\"]\n",
    "\n",
    "rawsamples = pd.DataFrame(data=samples, columns=columns)\n",
    "\n",
    "for suffix in [\"a\",\"b\"]:\n",
    "    rawsamples1 = rawsamples[[f\"t0_d_{suffix}\",\n",
    "                               \"latitude_deg\",\n",
    "                               f\"a_{suffix}\",\n",
    "                               f\"fwhm_d_{suffix}\",\n",
    "                               \"i_deg\",\n",
    "                               \"phase_deg\"]]\n",
    "    rawsamples2 = rawsamples1.rename(index=str, \n",
    "                                    columns=dict(zip([f\"t0_d_{suffix}\",\n",
    "                                                      f\"a_{suffix}\",\n",
    "                                                      f\"fwhm_d_{suffix}\"],\n",
    "                                                     [\"t0_d\",\n",
    "                                                      \"a\",\n",
    "                                                      \"fwhm_d\"])))\n",
    "    rawsamples2.to_csv(f\"{CWD}/analysis/results/mcmc/\"\n",
    "                       f\"{tstamp}_{target.ID}{suffix}\"\n",
    "                       f\"_converted_mcmc_sample.csv\",\n",
    "                       index=False)"
   ]
  },
  {
   "cell_type": "code",
   "execution_count": null,
   "metadata": {},
   "outputs": [],
   "source": []
  }
 ],
 "metadata": {
  "kernelspec": {
   "display_name": "flaresinclustersii",
   "language": "python",
   "name": "flaresinclustersii"
  },
  "language_info": {
   "codemirror_mode": {
    "name": "ipython",
    "version": 3
   },
   "file_extension": ".py",
   "mimetype": "text/x-python",
   "name": "python",
   "nbconvert_exporter": "python",
   "pygments_lexer": "ipython3",
   "version": "3.7.3"
  }
 },
 "nbformat": 4,
 "nbformat_minor": 1
}

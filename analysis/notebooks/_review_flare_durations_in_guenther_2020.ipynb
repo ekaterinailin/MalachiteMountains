{
 "cells": [
  {
   "cell_type": "code",
   "execution_count": 2,
   "metadata": {},
   "outputs": [],
   "source": [
    "import numpy as np\n",
    "import pandas as pd\n",
    "\n",
    "import matplotlib.pyplot as plt"
   ]
  },
  {
   "cell_type": "code",
   "execution_count": 110,
   "metadata": {},
   "outputs": [],
   "source": [
    "df = pd.read_csv(\"../../data/guenther/guenther_complete.tsv\", skiprows=76, delimiter=\"\\t\", na_values={'     ':np.nan})"
   ]
  },
  {
   "cell_type": "code",
   "execution_count": 111,
   "metadata": {},
   "outputs": [
    {
     "data": {
      "text/plain": [
       "Index(['TIC', 'Sec', 'Outbst', 'Flare', 'tpeak', 'e_tpeak', 'E_tpeak', 'Amp',\n",
       "       'e_Amp', 'E_Amp', 'FWHMdt', 'e_FWHMdt', 'E_FWHMdt', 'Ebol', 'e_Ebol',\n",
       "       'E_Ebol', 'MCME', 'e_MCME', 'E_MCME', 'Teff', 'SpT', 'Prot-t', 'Prot-k',\n",
       "       'Prot', 'aFFD', 'bFFD'],\n",
       "      dtype='object')"
      ]
     },
     "execution_count": 111,
     "metadata": {},
     "output_type": "execute_result"
    }
   ],
   "source": [
    "df.columns"
   ]
  },
  {
   "cell_type": "code",
   "execution_count": 112,
   "metadata": {},
   "outputs": [],
   "source": [
    "df = df.replace('     ',9999)\n",
    "df = df.replace('         ', np.nan)"
   ]
  },
  {
   "cell_type": "code",
   "execution_count": 154,
   "metadata": {},
   "outputs": [],
   "source": [
    "fullconv = df[(df.SpT ==\"M4-M10\") & (df.Amp >.2) & (df.Prot.astype(float)<.5)]"
   ]
  },
  {
   "cell_type": "code",
   "execution_count": 155,
   "metadata": {},
   "outputs": [
    {
     "data": {
      "text/plain": [
       "array(['0.330389', '0.350149', '0.274577', '0.373484', '0.16519',\n",
       "       '0.24192', '0.232933', '0.2658', '0.350296', '0.179332',\n",
       "       '0.317704', '0.100378', '0.409895', '0.457255', '0.240481',\n",
       "       '0.427334', '0.356666', '0.357278', '0.460872', '0.336186',\n",
       "       '0.151577', '0.469225', '0.445607', '0.24919', '0.493011',\n",
       "       '0.496034', '0.3697', '0.129207', '0.38061', '0.351883', '0.29475',\n",
       "       '0.339576', '0.109599', '0.254214', '0.278915', '0.284583',\n",
       "       '0.287775', '0.400483', '0.366655', '0.361917', '0.448385',\n",
       "       '0.323365', '0.452847', '0.354722', '0.096678', '0.173634',\n",
       "       '0.190722', '0.402336', '0.444417', '0.42935', '0.143229',\n",
       "       '0.314956', '0.290342', '0.200665'], dtype=object)"
      ]
     },
     "execution_count": 155,
     "metadata": {},
     "output_type": "execute_result"
    }
   ],
   "source": [
    "fullconv.Prot.unique()"
   ]
  },
  {
   "cell_type": "code",
   "execution_count": 156,
   "metadata": {},
   "outputs": [
    {
     "data": {
      "image/png": "[encoded data removed]",
      "text/plain": [
       "<Figure size 432x288 with 1 Axes>"
      ]
     },
     "metadata": {
      "needs_background": "light"
     },
     "output_type": "display_data"
    }
   ],
   "source": [
    "plt.hist(fullconv.Prot.astype(float).unique(), bins=20);\n",
    "fracfast = fullconv[fullconv.Prot.astype(float)<.5].Prot.unique().shape[0] / fullconv.Prot.unique().shape[0]"
   ]
  },
  {
   "cell_type": "code",
   "execution_count": 157,
   "metadata": {},
   "outputs": [
    {
     "data": {
      "text/plain": [
       "0.0125"
      ]
     },
     "execution_count": 157,
     "metadata": {},
     "output_type": "execute_result"
    }
   ],
   "source": [
    "fullconv[fullconv.FWHMdt > 0.02].shape[0] / fullconv.shape[0] "
   ]
  },
  {
   "cell_type": "code",
   "execution_count": 13,
   "metadata": {},
   "outputs": [],
   "source": [
    "ns, bins = np.histogram(df.Flare.values, bins = np.arange(6))"
   ]
  },
  {
   "cell_type": "code",
   "execution_count": 14,
   "metadata": {},
   "outputs": [],
   "source": [
    "ns = df.Flare.value_counts()"
   ]
  },
  {
   "cell_type": "code",
   "execution_count": 20,
   "metadata": {},
   "outputs": [
    {
     "data": {
      "text/html": [
       "<div>\n",
       "<style scoped>\n",
       "    .dataframe tbody tr th:only-of-type {\n",
       "        vertical-align: middle;\n",
       "    }\n",
       "\n",
       "    .dataframe tbody tr th {\n",
       "        vertical-align: top;\n",
       "    }\n",
       "\n",
       "    .dataframe thead th {\n",
       "        text-align: right;\n",
       "    }\n",
       "</style>\n",
       "<table border=\"1\" class=\"dataframe\">\n",
       "  <thead>\n",
       "    <tr style=\"text-align: right;\">\n",
       "      <th></th>\n",
       "      <th>TIC</th>\n",
       "      <th>Sec</th>\n",
       "      <th>Outbst</th>\n",
       "      <th>Flare</th>\n",
       "      <th>tpeak</th>\n",
       "      <th>e_tpeak</th>\n",
       "      <th>E_tpeak</th>\n",
       "      <th>Amp</th>\n",
       "      <th>e_Amp</th>\n",
       "      <th>E_Amp</th>\n",
       "      <th>Ebol</th>\n",
       "      <th>e_Ebol</th>\n",
       "      <th>E_Ebol</th>\n",
       "    </tr>\n",
       "  </thead>\n",
       "  <tbody>\n",
       "    <tr>\n",
       "      <th>0</th>\n",
       "      <td>2760232</td>\n",
       "      <td>2</td>\n",
       "      <td>1</td>\n",
       "      <td>1</td>\n",
       "      <td>2.458357e+06</td>\n",
       "      <td>0.000863</td>\n",
       "      <td>0.000854</td>\n",
       "      <td>0.01475</td>\n",
       "      <td>0.00168</td>\n",
       "      <td>0.00170</td>\n",
       "      <td></td>\n",
       "      <td></td>\n",
       "      <td>NaN</td>\n",
       "    </tr>\n",
       "    <tr>\n",
       "      <th>1</th>\n",
       "      <td>2760232</td>\n",
       "      <td>2</td>\n",
       "      <td>2</td>\n",
       "      <td>1</td>\n",
       "      <td>2.458358e+06</td>\n",
       "      <td>0.001059</td>\n",
       "      <td>0.001026</td>\n",
       "      <td>0.01389</td>\n",
       "      <td>0.00162</td>\n",
       "      <td>0.00175</td>\n",
       "      <td></td>\n",
       "      <td></td>\n",
       "      <td>NaN</td>\n",
       "    </tr>\n",
       "    <tr>\n",
       "      <th>2</th>\n",
       "      <td>2760232</td>\n",
       "      <td>2</td>\n",
       "      <td>3</td>\n",
       "      <td>1</td>\n",
       "      <td>2.458360e+06</td>\n",
       "      <td>0.000026</td>\n",
       "      <td>0.000026</td>\n",
       "      <td>0.28258</td>\n",
       "      <td>0.00817</td>\n",
       "      <td>0.00949</td>\n",
       "      <td></td>\n",
       "      <td></td>\n",
       "      <td>NaN</td>\n",
       "    </tr>\n",
       "    <tr>\n",
       "      <th>3</th>\n",
       "      <td>2760232</td>\n",
       "      <td>2</td>\n",
       "      <td>3</td>\n",
       "      <td>2</td>\n",
       "      <td>2.458360e+06</td>\n",
       "      <td>0.000195</td>\n",
       "      <td>0.000195</td>\n",
       "      <td>0.04634</td>\n",
       "      <td>0.00589</td>\n",
       "      <td>0.00598</td>\n",
       "      <td></td>\n",
       "      <td></td>\n",
       "      <td>NaN</td>\n",
       "    </tr>\n",
       "    <tr>\n",
       "      <th>4</th>\n",
       "      <td>2760232</td>\n",
       "      <td>2</td>\n",
       "      <td>3</td>\n",
       "      <td>3</td>\n",
       "      <td>2.458360e+06</td>\n",
       "      <td>0.001735</td>\n",
       "      <td>0.001565</td>\n",
       "      <td>0.01665</td>\n",
       "      <td>0.00185</td>\n",
       "      <td>0.00155</td>\n",
       "      <td></td>\n",
       "      <td></td>\n",
       "      <td>NaN</td>\n",
       "    </tr>\n",
       "    <tr>\n",
       "      <th>...</th>\n",
       "      <td>...</td>\n",
       "      <td>...</td>\n",
       "      <td>...</td>\n",
       "      <td>...</td>\n",
       "      <td>...</td>\n",
       "      <td>...</td>\n",
       "      <td>...</td>\n",
       "      <td>...</td>\n",
       "      <td>...</td>\n",
       "      <td>...</td>\n",
       "      <td>...</td>\n",
       "      <td>...</td>\n",
       "      <td>...</td>\n",
       "    </tr>\n",
       "    <tr>\n",
       "      <th>8690</th>\n",
       "      <td>471015484</td>\n",
       "      <td>2</td>\n",
       "      <td>9</td>\n",
       "      <td>1</td>\n",
       "      <td>2.458371e+06</td>\n",
       "      <td>0.000070</td>\n",
       "      <td>0.000073</td>\n",
       "      <td>0.13585</td>\n",
       "      <td>0.00572</td>\n",
       "      <td>0.00568</td>\n",
       "      <td></td>\n",
       "      <td></td>\n",
       "      <td>NaN</td>\n",
       "    </tr>\n",
       "    <tr>\n",
       "      <th>8691</th>\n",
       "      <td>471015484</td>\n",
       "      <td>2</td>\n",
       "      <td>10</td>\n",
       "      <td>1</td>\n",
       "      <td>2.458373e+06</td>\n",
       "      <td>0.000201</td>\n",
       "      <td>0.000249</td>\n",
       "      <td>0.04478</td>\n",
       "      <td>0.00437</td>\n",
       "      <td>0.00442</td>\n",
       "      <td></td>\n",
       "      <td></td>\n",
       "      <td>NaN</td>\n",
       "    </tr>\n",
       "    <tr>\n",
       "      <th>8692</th>\n",
       "      <td>471015484</td>\n",
       "      <td>2</td>\n",
       "      <td>10</td>\n",
       "      <td>2</td>\n",
       "      <td>2.458373e+06</td>\n",
       "      <td>0.000323</td>\n",
       "      <td>0.000329</td>\n",
       "      <td>0.02797</td>\n",
       "      <td>0.00334</td>\n",
       "      <td>0.00339</td>\n",
       "      <td></td>\n",
       "      <td></td>\n",
       "      <td>NaN</td>\n",
       "    </tr>\n",
       "    <tr>\n",
       "      <th>8693</th>\n",
       "      <td>471015484</td>\n",
       "      <td>2</td>\n",
       "      <td>11</td>\n",
       "      <td>1</td>\n",
       "      <td>2.458379e+06</td>\n",
       "      <td>0.000151</td>\n",
       "      <td>0.000161</td>\n",
       "      <td>0.03871</td>\n",
       "      <td>0.00519</td>\n",
       "      <td>0.00646</td>\n",
       "      <td></td>\n",
       "      <td></td>\n",
       "      <td>NaN</td>\n",
       "    </tr>\n",
       "    <tr>\n",
       "      <th>8694</th>\n",
       "      <td>471015484</td>\n",
       "      <td>2</td>\n",
       "      <td>12</td>\n",
       "      <td>1</td>\n",
       "      <td>2.458380e+06</td>\n",
       "      <td>0.000078</td>\n",
       "      <td>0.000075</td>\n",
       "      <td>0.10938</td>\n",
       "      <td>0.00683</td>\n",
       "      <td>0.00801</td>\n",
       "      <td></td>\n",
       "      <td></td>\n",
       "      <td>NaN</td>\n",
       "    </tr>\n",
       "  </tbody>\n",
       "</table>\n",
       "<p>8695 rows × 13 columns</p>\n",
       "</div>"
      ],
      "text/plain": [
       "            TIC  Sec  Outbst  Flare         tpeak   e_tpeak   E_tpeak  \\\n",
       "0       2760232    2       1      1  2.458357e+06  0.000863  0.000854   \n",
       "1       2760232    2       2      1  2.458358e+06  0.001059  0.001026   \n",
       "2       2760232    2       3      1  2.458360e+06  0.000026  0.000026   \n",
       "3       2760232    2       3      2  2.458360e+06  0.000195  0.000195   \n",
       "4       2760232    2       3      3  2.458360e+06  0.001735  0.001565   \n",
       "...         ...  ...     ...    ...           ...       ...       ...   \n",
       "8690  471015484    2       9      1  2.458371e+06  0.000070  0.000073   \n",
       "8691  471015484    2      10      1  2.458373e+06  0.000201  0.000249   \n",
       "8692  471015484    2      10      2  2.458373e+06  0.000323  0.000329   \n",
       "8693  471015484    2      11      1  2.458379e+06  0.000151  0.000161   \n",
       "8694  471015484    2      12      1  2.458380e+06  0.000078  0.000075   \n",
       "\n",
       "          Amp    e_Amp    E_Amp       Ebol     e_Ebol  E_Ebol  \n",
       "0     0.01475  0.00168  0.00170                           NaN  \n",
       "1     0.01389  0.00162  0.00175                           NaN  \n",
       "2     0.28258  0.00817  0.00949                           NaN  \n",
       "3     0.04634  0.00589  0.00598                           NaN  \n",
       "4     0.01665  0.00185  0.00155                           NaN  \n",
       "...       ...      ...      ...        ...        ...     ...  \n",
       "8690  0.13585  0.00572  0.00568                           NaN  \n",
       "8691  0.04478  0.00437  0.00442                           NaN  \n",
       "8692  0.02797  0.00334  0.00339                           NaN  \n",
       "8693  0.03871  0.00519  0.00646                           NaN  \n",
       "8694  0.10938  0.00683  0.00801                           NaN  \n",
       "\n",
       "[8695 rows x 13 columns]"
      ]
     },
     "execution_count": 20,
     "metadata": {},
     "output_type": "execute_result"
    }
   ],
   "source": [
    "df"
   ]
  },
  {
   "cell_type": "code",
   "execution_count": 47,
   "metadata": {},
   "outputs": [
    {
     "data": {
      "text/plain": [
       "(0.7649654360935432, 0.9591116340638329)"
      ]
     },
     "execution_count": 47,
     "metadata": {},
     "output_type": "execute_result"
    }
   ],
   "source": [
    "# ns[1] - ns[2:].sum()\n",
    "(ns[1] -  ns[2]) / ns[1] , (ns[1] - ns[3]) / ns[1]"
   ]
  },
  {
   "cell_type": "code",
   "execution_count": 45,
   "metadata": {},
   "outputs": [
    {
     "data": {
      "text/plain": [
       "Outbst  TIC        Sec\n",
       "58      140045538  1      1\n",
       "3       100100909  2      1\n",
       "        102032397  2      1\n",
       "        102071750  2      1\n",
       "        114819903  2      1\n",
       "                         ..\n",
       "7       273512747  1      1\n",
       "        274017928  1      1\n",
       "        277298771  1      1\n",
       "                   2      1\n",
       "1       2760232    2      1\n",
       "Length: 6799, dtype: int64"
      ]
     },
     "execution_count": 45,
     "metadata": {},
     "output_type": "execute_result"
    }
   ],
   "source": [
    "df[[\"Outbst\", \"TIC\", \"Sec\"]].drop_duplicates().value_counts()"
   ]
  },
  {
   "cell_type": "code",
   "execution_count": 19,
   "metadata": {},
   "outputs": [],
   "source": [
    "largest = df.groupby([\"Outbst\", \"TIC\", \"Sec\"]).Amp.apply(lambda x: x.sort_values(ascending=False).iloc[0])"
   ]
  },
  {
   "cell_type": "code",
   "execution_count": 20,
   "metadata": {},
   "outputs": [
    {
     "data": {
      "text/plain": [
       "Outbst  TIC        Sec\n",
       "1       2760232    2      0.01475\n",
       "        2761472    2      0.18707\n",
       "        5640393    2      0.02089\n",
       "        5656273    2      0.03756\n",
       "        5676537    2      0.00681\n",
       "                           ...   \n",
       "54      140045538  1      0.02351\n",
       "55      140045538  1      0.01189\n",
       "56      140045538  1      0.00706\n",
       "57      140045538  1      0.00994\n",
       "58      140045538  1      0.05174\n",
       "Name: Amp, Length: 6799, dtype: float64"
      ]
     },
     "execution_count": 20,
     "metadata": {},
     "output_type": "execute_result"
    }
   ],
   "source": [
    "largest"
   ]
  },
  {
   "cell_type": "code",
   "execution_count": 22,
   "metadata": {},
   "outputs": [],
   "source": [
    "count = df.groupby([\"Outbst\", \"TIC\", \"Sec\"]).Amp.count().rename(\"count\")"
   ]
  },
  {
   "cell_type": "code",
   "execution_count": 9,
   "metadata": {},
   "outputs": [
    {
     "data": {
      "text/plain": [
       "Outbst  TIC        Sec      \n",
       "1       2760232    2    0       0.01475\n",
       "        2761472    2    18      0.18707\n",
       "        5640393    2    40      0.02089\n",
       "        5656273    2    62      0.03756\n",
       "        5676537    2    89      0.00681\n",
       "                                 ...   \n",
       "54      140045538  1    1880    0.02351\n",
       "55      140045538  1    1881    0.01189\n",
       "56      140045538  1    1882    0.00706\n",
       "57      140045538  1    1883    0.00994\n",
       "58      140045538  1    1884    0.05174\n",
       "Name: Amp, Length: 6799, dtype: float64"
      ]
     },
     "execution_count": 9,
     "metadata": {},
     "output_type": "execute_result"
    }
   ],
   "source": [
    "largest"
   ]
  },
  {
   "cell_type": "code",
   "execution_count": 25,
   "metadata": {},
   "outputs": [],
   "source": [
    "vals = pd.DataFrame([largest, count]).T"
   ]
  },
  {
   "cell_type": "code",
   "execution_count": 32,
   "metadata": {},
   "outputs": [
    {
     "data": {
      "image/png": "[encoded data removed]",
      "text/plain": [
       "<Figure size 1152x288 with 1 Axes>"
      ]
     },
     "metadata": {
      "needs_background": "light"
     },
     "output_type": "display_data"
    }
   ],
   "source": [
    "%matplotlib inline\n",
    "plt.figure(figsize=(16,4))\n",
    "plt.scatter(vals.Amp, vals[\"count\"], s=1)\n",
    "plt.xscale(\"log\")"
   ]
  },
  {
   "cell_type": "code",
   "execution_count": 81,
   "metadata": {},
   "outputs": [
    {
     "data": {
      "text/plain": [
       "0.040888365936167084"
      ]
     },
     "execution_count": 81,
     "metadata": {},
     "output_type": "execute_result"
    }
   ],
   "source": [
    "vals[vals[\"count\"]>2].shape[0] /vals.shape[0]"
   ]
  },
  {
   "cell_type": "code",
   "execution_count": 77,
   "metadata": {},
   "outputs": [
    {
     "data": {
      "text/plain": [
       "0.23503456390645683"
      ]
     },
     "execution_count": 77,
     "metadata": {},
     "output_type": "execute_result"
    }
   ],
   "source": [
    "vals[vals[\"count\"]>1].shape[0] /vals.shape[0]"
   ]
  },
  {
   "cell_type": "code",
   "execution_count": 73,
   "metadata": {},
   "outputs": [],
   "source": [
    "thrs = vals.Amp.quantile(.9)"
   ]
  },
  {
   "cell_type": "code",
   "execution_count": 74,
   "metadata": {},
   "outputs": [],
   "source": [
    "thrs = .24"
   ]
  },
  {
   "cell_type": "code",
   "execution_count": 75,
   "metadata": {},
   "outputs": [
    {
     "data": {
      "text/plain": [
       "(1.6808823529411765, 0.7339359370062297, 0.5264705882352941)"
      ]
     },
     "execution_count": 75,
     "metadata": {},
     "output_type": "execute_result"
    }
   ],
   "source": [
    "above = vals.loc[vals[\"Amp\"]>thrs]\n",
    "above[\"count\"].mean(), above[\"count\"].std(), above[above[\"count\"]>1].shape[0] / above.shape[0]"
   ]
  },
  {
   "cell_type": "code",
   "execution_count": 76,
   "metadata": {},
   "outputs": [
    {
     "data": {
      "text/plain": [
       "(1.2341885929073377, 0.4980195735573598, 0.2026474914201667)"
      ]
     },
     "execution_count": 76,
     "metadata": {},
     "output_type": "execute_result"
    }
   ],
   "source": [
    "above = vals.loc[vals[\"Amp\"]<thrs]\n",
    "above[\"count\"].mean(), above[\"count\"].std(), above[above[\"count\"]>1].shape[0] / above.shape[0]"
   ]
  },
  {
   "cell_type": "code",
   "execution_count": 43,
   "metadata": {},
   "outputs": [
    {
     "data": {
      "text/plain": [
       "(1.2638119478963916, 0.5256470146763119)"
      ]
     },
     "execution_count": 43,
     "metadata": {},
     "output_type": "execute_result"
    }
   ],
   "source": [
    "vals.loc[vals[\"Amp\"]<thrs,\"count\"].mean(), vals.loc[vals[\"Amp\"]<thrs,\"count\"].std()"
   ]
  },
  {
   "cell_type": "code",
   "execution_count": null,
   "metadata": {},
   "outputs": [],
   "source": []
  },
  {
   "cell_type": "code",
   "execution_count": 17,
   "metadata": {},
   "outputs": [
    {
     "data": {
      "text/html": [
       "<div>\n",
       "<style scoped>\n",
       "    .dataframe tbody tr th:only-of-type {\n",
       "        vertical-align: middle;\n",
       "    }\n",
       "\n",
       "    .dataframe tbody tr th {\n",
       "        vertical-align: top;\n",
       "    }\n",
       "\n",
       "    .dataframe thead th {\n",
       "        text-align: right;\n",
       "    }\n",
       "</style>\n",
       "<table border=\"1\" class=\"dataframe\">\n",
       "  <thead>\n",
       "    <tr style=\"text-align: right;\">\n",
       "      <th></th>\n",
       "      <th>TIC</th>\n",
       "      <th>Outbst</th>\n",
       "      <th>Flare</th>\n",
       "      <th>tpeak</th>\n",
       "      <th>e_tpeak</th>\n",
       "      <th>E_tpeak</th>\n",
       "      <th>Amp</th>\n",
       "      <th>e_Amp</th>\n",
       "      <th>E_Amp</th>\n",
       "      <th>Ebol</th>\n",
       "      <th>e_Ebol</th>\n",
       "      <th>E_Ebol</th>\n",
       "    </tr>\n",
       "  </thead>\n",
       "  <tbody>\n",
       "    <tr>\n",
       "      <th>5605</th>\n",
       "      <td>260506296</td>\n",
       "      <td>3</td>\n",
       "      <td>2</td>\n",
       "      <td>2.458374e+06</td>\n",
       "      <td>0.000025</td>\n",
       "      <td>0.000028</td>\n",
       "      <td>15.05607</td>\n",
       "      <td>0.64057</td>\n",
       "      <td>0.90075</td>\n",
       "      <td>5.25E+034</td>\n",
       "      <td>5.22E+033</td>\n",
       "      <td>4.000000e+33</td>\n",
       "    </tr>\n",
       "    <tr>\n",
       "      <th>1009</th>\n",
       "      <td>52242947</td>\n",
       "      <td>2</td>\n",
       "      <td>2</td>\n",
       "      <td>2.458335e+06</td>\n",
       "      <td>0.000006</td>\n",
       "      <td>0.000006</td>\n",
       "      <td>10.87228</td>\n",
       "      <td>0.05092</td>\n",
       "      <td>0.05112</td>\n",
       "      <td>9.71E+033</td>\n",
       "      <td>8.42E+031</td>\n",
       "      <td>8.920000e+31</td>\n",
       "    </tr>\n",
       "    <tr>\n",
       "      <th>5606</th>\n",
       "      <td>260506296</td>\n",
       "      <td>3</td>\n",
       "      <td>3</td>\n",
       "      <td>2.458374e+06</td>\n",
       "      <td>0.000065</td>\n",
       "      <td>0.000064</td>\n",
       "      <td>9.96281</td>\n",
       "      <td>0.41320</td>\n",
       "      <td>0.38349</td>\n",
       "      <td>1.14E+035</td>\n",
       "      <td>6.21E+033</td>\n",
       "      <td>8.070000e+33</td>\n",
       "    </tr>\n",
       "    <tr>\n",
       "      <th>440</th>\n",
       "      <td>29430569</td>\n",
       "      <td>4</td>\n",
       "      <td>1</td>\n",
       "      <td>2.458330e+06</td>\n",
       "      <td>0.000005</td>\n",
       "      <td>0.000007</td>\n",
       "      <td>9.80526</td>\n",
       "      <td>0.78805</td>\n",
       "      <td>1.07629</td>\n",
       "      <td>7.14E+033</td>\n",
       "      <td>3.41E+032</td>\n",
       "      <td>3.230000e+32</td>\n",
       "    </tr>\n",
       "    <tr>\n",
       "      <th>1791</th>\n",
       "      <td>140045537</td>\n",
       "      <td>2</td>\n",
       "      <td>3</td>\n",
       "      <td>2.458329e+06</td>\n",
       "      <td>0.000049</td>\n",
       "      <td>0.000051</td>\n",
       "      <td>9.35656</td>\n",
       "      <td>0.32263</td>\n",
       "      <td>0.35452</td>\n",
       "      <td></td>\n",
       "      <td></td>\n",
       "      <td>NaN</td>\n",
       "    </tr>\n",
       "    <tr>\n",
       "      <th>...</th>\n",
       "      <td>...</td>\n",
       "      <td>...</td>\n",
       "      <td>...</td>\n",
       "      <td>...</td>\n",
       "      <td>...</td>\n",
       "      <td>...</td>\n",
       "      <td>...</td>\n",
       "      <td>...</td>\n",
       "      <td>...</td>\n",
       "      <td>...</td>\n",
       "      <td>...</td>\n",
       "      <td>...</td>\n",
       "    </tr>\n",
       "    <tr>\n",
       "      <th>4590</th>\n",
       "      <td>231061242</td>\n",
       "      <td>1</td>\n",
       "      <td>1</td>\n",
       "      <td>2.458369e+06</td>\n",
       "      <td>0.000669</td>\n",
       "      <td>0.000771</td>\n",
       "      <td>0.00102</td>\n",
       "      <td>0.00012</td>\n",
       "      <td>0.00012</td>\n",
       "      <td>1.13E+034</td>\n",
       "      <td>1.73E+033</td>\n",
       "      <td>1.940000e+33</td>\n",
       "    </tr>\n",
       "    <tr>\n",
       "      <th>4592</th>\n",
       "      <td>231061242</td>\n",
       "      <td>4</td>\n",
       "      <td>1</td>\n",
       "      <td>2.458373e+06</td>\n",
       "      <td>0.000375</td>\n",
       "      <td>0.000387</td>\n",
       "      <td>0.00093</td>\n",
       "      <td>0.00018</td>\n",
       "      <td>0.00021</td>\n",
       "      <td>4.4E+033</td>\n",
       "      <td>1.29E+033</td>\n",
       "      <td>1.420000e+33</td>\n",
       "    </tr>\n",
       "    <tr>\n",
       "      <th>4591</th>\n",
       "      <td>231061242</td>\n",
       "      <td>3</td>\n",
       "      <td>1</td>\n",
       "      <td>2.458372e+06</td>\n",
       "      <td>0.001915</td>\n",
       "      <td>0.002839</td>\n",
       "      <td>0.00084</td>\n",
       "      <td>0.00012</td>\n",
       "      <td>0.00014</td>\n",
       "      <td>2.83E+034</td>\n",
       "      <td>3.47E+033</td>\n",
       "      <td>3.170000e+33</td>\n",
       "    </tr>\n",
       "    <tr>\n",
       "      <th>4294</th>\n",
       "      <td>224244458</td>\n",
       "      <td>2</td>\n",
       "      <td>1</td>\n",
       "      <td>2.458357e+06</td>\n",
       "      <td>0.000308</td>\n",
       "      <td>0.000316</td>\n",
       "      <td>0.00070</td>\n",
       "      <td>0.00008</td>\n",
       "      <td>0.00009</td>\n",
       "      <td>6.54E+034</td>\n",
       "      <td>1.69E+034</td>\n",
       "      <td>2.250000e+34</td>\n",
       "    </tr>\n",
       "    <tr>\n",
       "      <th>1333</th>\n",
       "      <td>92136299</td>\n",
       "      <td>3</td>\n",
       "      <td>1</td>\n",
       "      <td>2.458372e+06</td>\n",
       "      <td>0.000499</td>\n",
       "      <td>0.000546</td>\n",
       "      <td>0.00065</td>\n",
       "      <td>0.00007</td>\n",
       "      <td>0.00007</td>\n",
       "      <td>3.21E+034</td>\n",
       "      <td>6.22E+033</td>\n",
       "      <td>4.210000e+33</td>\n",
       "    </tr>\n",
       "  </tbody>\n",
       "</table>\n",
       "<p>8695 rows × 12 columns</p>\n",
       "</div>"
      ],
      "text/plain": [
       "            TIC  Outbst  Flare         tpeak   e_tpeak   E_tpeak       Amp  \\\n",
       "5605  260506296       3      2  2.458374e+06  0.000025  0.000028  15.05607   \n",
       "1009   52242947       2      2  2.458335e+06  0.000006  0.000006  10.87228   \n",
       "5606  260506296       3      3  2.458374e+06  0.000065  0.000064   9.96281   \n",
       "440    29430569       4      1  2.458330e+06  0.000005  0.000007   9.80526   \n",
       "1791  140045537       2      3  2.458329e+06  0.000049  0.000051   9.35656   \n",
       "...         ...     ...    ...           ...       ...       ...       ...   \n",
       "4590  231061242       1      1  2.458369e+06  0.000669  0.000771   0.00102   \n",
       "4592  231061242       4      1  2.458373e+06  0.000375  0.000387   0.00093   \n",
       "4591  231061242       3      1  2.458372e+06  0.001915  0.002839   0.00084   \n",
       "4294  224244458       2      1  2.458357e+06  0.000308  0.000316   0.00070   \n",
       "1333   92136299       3      1  2.458372e+06  0.000499  0.000546   0.00065   \n",
       "\n",
       "        e_Amp    E_Amp       Ebol     e_Ebol        E_Ebol  \n",
       "5605  0.64057  0.90075  5.25E+034  5.22E+033  4.000000e+33  \n",
       "1009  0.05092  0.05112  9.71E+033  8.42E+031  8.920000e+31  \n",
       "5606  0.41320  0.38349  1.14E+035  6.21E+033  8.070000e+33  \n",
       "440   0.78805  1.07629  7.14E+033  3.41E+032  3.230000e+32  \n",
       "1791  0.32263  0.35452                                 NaN  \n",
       "...       ...      ...        ...        ...           ...  \n",
       "4590  0.00012  0.00012  1.13E+034  1.73E+033  1.940000e+33  \n",
       "4592  0.00018  0.00021   4.4E+033  1.29E+033  1.420000e+33  \n",
       "4591  0.00012  0.00014  2.83E+034  3.47E+033  3.170000e+33  \n",
       "4294  0.00008  0.00009  6.54E+034  1.69E+034  2.250000e+34  \n",
       "1333  0.00007  0.00007  3.21E+034  6.22E+033  4.210000e+33  \n",
       "\n",
       "[8695 rows x 12 columns]"
      ]
     },
     "execution_count": 17,
     "metadata": {},
     "output_type": "execute_result"
    }
   ],
   "source": [
    "df.sort_values(by=\"Amp\", ascending=False)"
   ]
  },
  {
   "cell_type": "code",
   "execution_count": 23,
   "metadata": {},
   "outputs": [],
   "source": [
    "dd = df.set_index([\"Outbst\", \"TIC\", \"Sec\"])"
   ]
  },
  {
   "cell_type": "code",
   "execution_count": 24,
   "metadata": {},
   "outputs": [
    {
     "data": {
      "text/html": [
       "<div>\n",
       "<style scoped>\n",
       "    .dataframe tbody tr th:only-of-type {\n",
       "        vertical-align: middle;\n",
       "    }\n",
       "\n",
       "    .dataframe tbody tr th {\n",
       "        vertical-align: top;\n",
       "    }\n",
       "\n",
       "    .dataframe thead th {\n",
       "        text-align: right;\n",
       "    }\n",
       "</style>\n",
       "<table border=\"1\" class=\"dataframe\">\n",
       "  <thead>\n",
       "    <tr style=\"text-align: right;\">\n",
       "      <th></th>\n",
       "      <th></th>\n",
       "      <th></th>\n",
       "      <th>Flare</th>\n",
       "      <th>tpeak</th>\n",
       "      <th>e_tpeak</th>\n",
       "      <th>E_tpeak</th>\n",
       "      <th>Amp</th>\n",
       "      <th>e_Amp</th>\n",
       "      <th>E_Amp</th>\n",
       "      <th>Ebol</th>\n",
       "      <th>e_Ebol</th>\n",
       "      <th>E_Ebol</th>\n",
       "    </tr>\n",
       "    <tr>\n",
       "      <th>Outbst</th>\n",
       "      <th>TIC</th>\n",
       "      <th>Sec</th>\n",
       "      <th></th>\n",
       "      <th></th>\n",
       "      <th></th>\n",
       "      <th></th>\n",
       "      <th></th>\n",
       "      <th></th>\n",
       "      <th></th>\n",
       "      <th></th>\n",
       "      <th></th>\n",
       "      <th></th>\n",
       "    </tr>\n",
       "  </thead>\n",
       "  <tbody>\n",
       "    <tr>\n",
       "      <th>1</th>\n",
       "      <th>2760232</th>\n",
       "      <th>2</th>\n",
       "      <td>1</td>\n",
       "      <td>2.458357e+06</td>\n",
       "      <td>0.000863</td>\n",
       "      <td>0.000854</td>\n",
       "      <td>0.01475</td>\n",
       "      <td>0.00168</td>\n",
       "      <td>0.00170</td>\n",
       "      <td></td>\n",
       "      <td></td>\n",
       "      <td>NaN</td>\n",
       "    </tr>\n",
       "    <tr>\n",
       "      <th>2</th>\n",
       "      <th>2760232</th>\n",
       "      <th>2</th>\n",
       "      <td>1</td>\n",
       "      <td>2.458358e+06</td>\n",
       "      <td>0.001059</td>\n",
       "      <td>0.001026</td>\n",
       "      <td>0.01389</td>\n",
       "      <td>0.00162</td>\n",
       "      <td>0.00175</td>\n",
       "      <td></td>\n",
       "      <td></td>\n",
       "      <td>NaN</td>\n",
       "    </tr>\n",
       "    <tr>\n",
       "      <th rowspan=\"3\" valign=\"top\">3</th>\n",
       "      <th rowspan=\"3\" valign=\"top\">2760232</th>\n",
       "      <th>2</th>\n",
       "      <td>1</td>\n",
       "      <td>2.458360e+06</td>\n",
       "      <td>0.000026</td>\n",
       "      <td>0.000026</td>\n",
       "      <td>0.28258</td>\n",
       "      <td>0.00817</td>\n",
       "      <td>0.00949</td>\n",
       "      <td></td>\n",
       "      <td></td>\n",
       "      <td>NaN</td>\n",
       "    </tr>\n",
       "    <tr>\n",
       "      <th>2</th>\n",
       "      <td>2</td>\n",
       "      <td>2.458360e+06</td>\n",
       "      <td>0.000195</td>\n",
       "      <td>0.000195</td>\n",
       "      <td>0.04634</td>\n",
       "      <td>0.00589</td>\n",
       "      <td>0.00598</td>\n",
       "      <td></td>\n",
       "      <td></td>\n",
       "      <td>NaN</td>\n",
       "    </tr>\n",
       "    <tr>\n",
       "      <th>2</th>\n",
       "      <td>3</td>\n",
       "      <td>2.458360e+06</td>\n",
       "      <td>0.001735</td>\n",
       "      <td>0.001565</td>\n",
       "      <td>0.01665</td>\n",
       "      <td>0.00185</td>\n",
       "      <td>0.00155</td>\n",
       "      <td></td>\n",
       "      <td></td>\n",
       "      <td>NaN</td>\n",
       "    </tr>\n",
       "    <tr>\n",
       "      <th>...</th>\n",
       "      <th>...</th>\n",
       "      <th>...</th>\n",
       "      <td>...</td>\n",
       "      <td>...</td>\n",
       "      <td>...</td>\n",
       "      <td>...</td>\n",
       "      <td>...</td>\n",
       "      <td>...</td>\n",
       "      <td>...</td>\n",
       "      <td>...</td>\n",
       "      <td>...</td>\n",
       "      <td>...</td>\n",
       "    </tr>\n",
       "    <tr>\n",
       "      <th>9</th>\n",
       "      <th>471015484</th>\n",
       "      <th>2</th>\n",
       "      <td>1</td>\n",
       "      <td>2.458371e+06</td>\n",
       "      <td>0.000070</td>\n",
       "      <td>0.000073</td>\n",
       "      <td>0.13585</td>\n",
       "      <td>0.00572</td>\n",
       "      <td>0.00568</td>\n",
       "      <td></td>\n",
       "      <td></td>\n",
       "      <td>NaN</td>\n",
       "    </tr>\n",
       "    <tr>\n",
       "      <th rowspan=\"2\" valign=\"top\">10</th>\n",
       "      <th rowspan=\"2\" valign=\"top\">471015484</th>\n",
       "      <th>2</th>\n",
       "      <td>1</td>\n",
       "      <td>2.458373e+06</td>\n",
       "      <td>0.000201</td>\n",
       "      <td>0.000249</td>\n",
       "      <td>0.04478</td>\n",
       "      <td>0.00437</td>\n",
       "      <td>0.00442</td>\n",
       "      <td></td>\n",
       "      <td></td>\n",
       "      <td>NaN</td>\n",
       "    </tr>\n",
       "    <tr>\n",
       "      <th>2</th>\n",
       "      <td>2</td>\n",
       "      <td>2.458373e+06</td>\n",
       "      <td>0.000323</td>\n",
       "      <td>0.000329</td>\n",
       "      <td>0.02797</td>\n",
       "      <td>0.00334</td>\n",
       "      <td>0.00339</td>\n",
       "      <td></td>\n",
       "      <td></td>\n",
       "      <td>NaN</td>\n",
       "    </tr>\n",
       "    <tr>\n",
       "      <th>11</th>\n",
       "      <th>471015484</th>\n",
       "      <th>2</th>\n",
       "      <td>1</td>\n",
       "      <td>2.458379e+06</td>\n",
       "      <td>0.000151</td>\n",
       "      <td>0.000161</td>\n",
       "      <td>0.03871</td>\n",
       "      <td>0.00519</td>\n",
       "      <td>0.00646</td>\n",
       "      <td></td>\n",
       "      <td></td>\n",
       "      <td>NaN</td>\n",
       "    </tr>\n",
       "    <tr>\n",
       "      <th>12</th>\n",
       "      <th>471015484</th>\n",
       "      <th>2</th>\n",
       "      <td>1</td>\n",
       "      <td>2.458380e+06</td>\n",
       "      <td>0.000078</td>\n",
       "      <td>0.000075</td>\n",
       "      <td>0.10938</td>\n",
       "      <td>0.00683</td>\n",
       "      <td>0.00801</td>\n",
       "      <td></td>\n",
       "      <td></td>\n",
       "      <td>NaN</td>\n",
       "    </tr>\n",
       "  </tbody>\n",
       "</table>\n",
       "<p>8695 rows × 10 columns</p>\n",
       "</div>"
      ],
      "text/plain": [
       "                      Flare         tpeak   e_tpeak   E_tpeak      Amp  \\\n",
       "Outbst TIC       Sec                                                     \n",
       "1      2760232   2        1  2.458357e+06  0.000863  0.000854  0.01475   \n",
       "2      2760232   2        1  2.458358e+06  0.001059  0.001026  0.01389   \n",
       "3      2760232   2        1  2.458360e+06  0.000026  0.000026  0.28258   \n",
       "                 2        2  2.458360e+06  0.000195  0.000195  0.04634   \n",
       "                 2        3  2.458360e+06  0.001735  0.001565  0.01665   \n",
       "...                     ...           ...       ...       ...      ...   \n",
       "9      471015484 2        1  2.458371e+06  0.000070  0.000073  0.13585   \n",
       "10     471015484 2        1  2.458373e+06  0.000201  0.000249  0.04478   \n",
       "                 2        2  2.458373e+06  0.000323  0.000329  0.02797   \n",
       "11     471015484 2        1  2.458379e+06  0.000151  0.000161  0.03871   \n",
       "12     471015484 2        1  2.458380e+06  0.000078  0.000075  0.10938   \n",
       "\n",
       "                        e_Amp    E_Amp       Ebol     e_Ebol  E_Ebol  \n",
       "Outbst TIC       Sec                                                  \n",
       "1      2760232   2    0.00168  0.00170                           NaN  \n",
       "2      2760232   2    0.00162  0.00175                           NaN  \n",
       "3      2760232   2    0.00817  0.00949                           NaN  \n",
       "                 2    0.00589  0.00598                           NaN  \n",
       "                 2    0.00185  0.00155                           NaN  \n",
       "...                       ...      ...        ...        ...     ...  \n",
       "9      471015484 2    0.00572  0.00568                           NaN  \n",
       "10     471015484 2    0.00437  0.00442                           NaN  \n",
       "                 2    0.00334  0.00339                           NaN  \n",
       "11     471015484 2    0.00519  0.00646                           NaN  \n",
       "12     471015484 2    0.00683  0.00801                           NaN  \n",
       "\n",
       "[8695 rows x 10 columns]"
      ]
     },
     "execution_count": 24,
     "metadata": {},
     "output_type": "execute_result"
    }
   ],
   "source": [
    "dd[\"nf\"] = "
   ]
  },
  {
   "cell_type": "code",
   "execution_count": null,
   "metadata": {},
   "outputs": [],
   "source": []
  }
 ],
 "metadata": {
  "kernelspec": {
   "display_name": "forallpurposes",
   "language": "python",
   "name": "forallpurposes"
  },
  "language_info": {
   "codemirror_mode": {
    "name": "ipython",
    "version": 3
   },
   "file_extension": ".py",
   "mimetype": "text/x-python",
   "name": "python",
   "nbconvert_exporter": "python",
   "pygments_lexer": "ipython3",
   "version": "3.6.9"
  }
 },
 "nbformat": 4,
 "nbformat_minor": 2
}
